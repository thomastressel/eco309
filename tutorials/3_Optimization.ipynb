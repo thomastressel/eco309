{
 "cells": [
  {
   "cell_type": "markdown",
   "metadata": {},
   "source": [
    "# Optimization\n",
    "\n",
    "In this tutorial you will learn to code and use common optimization algorithms for static models."
   ]
  },
  {
   "cell_type": "markdown",
   "metadata": {},
   "source": [
    "\n",
    "---\n",
    "\n",
    "## Profit optimization by a monopolist\n",
    "\n",
    "A monopolist produces quantity $q$ of goods X at price $p$. Its cost function is $c(q) = 0.5 + q (1-qe^{-q})$\n",
    "\n",
    "The consumer's demand for price $p$ is $x(p)=2 e^{-0.5 p}$ (constant elasticity of demand to price).\n",
    "\n",
    "__Write down the profit function of the monopolist and find the optimal production (if any). Don't use any library except for plotting.__\n",
    "\n"
   ]
  },
  {
   "cell_type": "markdown",
   "metadata": {},
   "source": [
    "The monopolist chooses the quantity $q$ that maximizes its profit [^footnote] :\n",
    "\n",
    "$$\n",
    "\\pi(q) = q p(q) - c(q)\n",
    "$$\n",
    "\n",
    "(where the inverse demand function is $p(q) = 2 \\log(2) - \\log(q)$\n",
    "\n",
    "[^footnote]: here it is obviously equivalent to maximize w.r.t. $p$ or w.r.t. $q$."
   ]
  },
  {
   "cell_type": "code",
   "execution_count": 1,
   "metadata": {},
   "outputs": [
    {
     "name": "stderr",
     "output_type": "stream",
     "text": [
      "\u001b[32m\u001b[1m    Updating\u001b[22m\u001b[39m registry at `C:\\Users\\tress\\.julia\\registries\\General.toml`\n",
      "\u001b[32m\u001b[1m   Resolving\u001b[22m\u001b[39m package versions...\n",
      "\u001b[32m\u001b[1m  No Changes\u001b[22m\u001b[39m to `C:\\Users\\tress\\.julia\\environments\\v1.7\\Project.toml`\n",
      "\u001b[32m\u001b[1m  No Changes\u001b[22m\u001b[39m to `C:\\Users\\tress\\.julia\\environments\\v1.7\\Manifest.toml`\n"
     ]
    }
   ],
   "source": [
    "import Pkg; Pkg.add(\"Plots\")\n",
    "\n",
    "using Plots"
   ]
  },
  {
   "cell_type": "code",
   "execution_count": 16,
   "metadata": {},
   "outputs": [
    {
     "data": {
      "text/plain": [
       "Π (generic function with 1 method)"
      ]
     },
     "metadata": {},
     "output_type": "display_data"
    }
   ],
   "source": [
    "function Π(q)\n",
    "    return q*(2*log(2)-log(q)) - (0.5+q*(1-q*exp(-q)))\n",
    "end"
   ]
  },
  {
   "cell_type": "code",
   "execution_count": 17,
   "metadata": {},
   "outputs": [
    {
     "data": {
      "text/plain": [
       "Π_prime (generic function with 1 method)"
      ]
     },
     "metadata": {},
     "output_type": "display_data"
    }
   ],
   "source": [
    "function Π_prime(q)\n",
    "    return exp(-q)*q - (exp(-q)*q - exp(-q))*q + (2*log(2) - log(q)) - 2\n",
    "end"
   ]
  },
  {
   "cell_type": "code",
   "execution_count": 18,
   "metadata": {},
   "outputs": [
    {
     "data": {
      "text/plain": [
       "Π_second (generic function with 1 method)"
      ]
     },
     "metadata": {},
     "output_type": "display_data"
    }
   ],
   "source": [
    "function Π_second(q)\n",
    "    return exp(-q)*(q^2 - 4*q + 2) - 1\\q\n",
    "end"
   ]
  },
  {
   "cell_type": "code",
   "execution_count": 60,
   "metadata": {},
   "outputs": [
    {
     "data": {
      "text/plain": [
       "Newton_Raphson (generic function with 1 method)"
      ]
     },
     "metadata": {},
     "output_type": "display_data"
    }
   ],
   "source": [
    "function Newton_Raphson(x, Π_prime, Π_second, η, ε; N=1000)\n",
    "    x_old = x\n",
    "    x_new = x + 0.5\n",
    "    n = 0\n",
    "    while abs(x_new - x_old) > η && abs(Π_prime(x_old)) > ε && n < N\n",
    "        x_temp = x_new\n",
    "        x_new = x_old - (Π_prime(x_old))/(Π_second(x_old))\n",
    "        x_old = x_temp\n",
    "        n += 1\n",
    "    end\n",
    "    print(n)\n",
    "    return x_new\n",
    "end"
   ]
  },
  {
   "cell_type": "code",
   "execution_count": 61,
   "metadata": {},
   "outputs": [
    {
     "name": "stdout",
     "output_type": "stream",
     "text": [
      "31"
     ]
    },
    {
     "data": {
      "text/plain": [
       "0.8273472311885711"
      ]
     },
     "metadata": {},
     "output_type": "display_data"
    }
   ],
   "source": [
    "max = Newton_Raphson(0.5, Π_prime, Π_second, 1e-8, 1e-8)"
   ]
  },
  {
   "cell_type": "code",
   "execution_count": 69,
   "metadata": {},
   "outputs": [
    {
     "data": {
      "image/png": "[encoded data removed]",
      "image/svg+xml": "<?xml version=\"1.0\" encoding=\"utf-8\"?>\n<svg xmlns=\"http://www.w3.org/2000/svg\" xmlns:xlink=\"http://www.w3.org/1999/xlink\" width=\"600\" height=\"400\" viewBox=\"0 0 2400 1600\">\n<defs>\n  <clipPath id=\"clip530\">\n    <rect x=\"0\" y=\"0\" width=\"2400\" height=\"1600\"/>\n  </clipPath>\n</defs>\n<path clip-path=\"url(#clip530)\" d=\"\nM0 1600 L2400 1600 L2400 0 L0 0  Z\n  \" fill=\"#ffffff\" fill-rule=\"evenodd\" fill-opacity=\"1\"/>\n<defs>\n  <clipPath id=\"clip531\">\n    <rect x=\"480\" y=\"0\" width=\"1681\" height=\"1600\"/>\n  </clipPath>\n</defs>\n<path clip-path=\"url(#clip530)\" d=\"\nM194.422 1486.45 L2352.76 1486.45 L2352.76 47.2441 L194.422 47.2441  Z\n  \" fill=\"#ffffff\" fill-rule=\"evenodd\" fill-opacity=\"1\"/>\n<defs>\n  <clipPath id=\"clip532\">\n    <rect x=\"194\" y=\"47\" width=\"2159\" height=\"1440\"/>\n  </clipPath>\n</defs>\n<polyline clip-path=\"url(#clip532)\" style=\"stroke:#000000; stroke-linecap:butt; stroke-linejoin:round; stroke-width:2; stroke-opacity:0.1; fill:none\" points=\"\n  255.507,1486.45 255.507,47.2441 \n  \"/>\n<polyline clip-path=\"url(#clip532)\" style=\"stroke:#000000; stroke-linecap:butt; stroke-linejoin:round; stroke-width:2; stroke-opacity:0.1; fill:none\" points=\"\n  764.548,1486.45 764.548,47.2441 \n  \"/>\n<polyline clip-path=\"url(#clip532)\" style=\"stroke:#000000; stroke-linecap:butt; stroke-linejoin:round; stroke-width:2; stroke-opacity:0.1; fill:none\" points=\"\n  1273.59,1486.45 1273.59,47.2441 \n  \"/>\n<polyline clip-path=\"url(#clip532)\" style=\"stroke:#000000; stroke-linecap:butt; stroke-linejoin:round; stroke-width:2; stroke-opacity:0.1; fill:none\" points=\"\n  1782.63,1486.45 1782.63,47.2441 \n  \"/>\n<polyline clip-path=\"url(#clip532)\" style=\"stroke:#000000; stroke-linecap:butt; stroke-linejoin:round; stroke-width:2; stroke-opacity:0.1; fill:none\" points=\"\n  2291.67,1486.45 2291.67,47.2441 \n  \"/>\n<polyline clip-path=\"url(#clip530)\" style=\"stroke:#000000; stroke-linecap:butt; stroke-linejoin:round; stroke-width:4; stroke-opacity:1; fill:none\" points=\"\n  194.422,1486.45 2352.76,1486.45 \n  \"/>\n<polyline clip-path=\"url(#clip530)\" style=\"stroke:#000000; stroke-linecap:butt; stroke-linejoin:round; stroke-width:4; stroke-opacity:1; fill:none\" points=\"\n  255.507,1486.45 255.507,1467.55 \n  \"/>\n<polyline clip-path=\"url(#clip530)\" style=\"stroke:#000000; stroke-linecap:butt; stroke-linejoin:round; stroke-width:4; stroke-opacity:1; fill:none\" points=\"\n  764.548,1486.45 764.548,1467.55 \n  \"/>\n<polyline clip-path=\"url(#clip530)\" style=\"stroke:#000000; stroke-linecap:butt; stroke-linejoin:round; stroke-width:4; stroke-opacity:1; fill:none\" points=\"\n  1273.59,1486.45 1273.59,1467.55 \n  \"/>\n<polyline clip-path=\"url(#clip530)\" style=\"stroke:#000000; stroke-linecap:butt; stroke-linejoin:round; stroke-width:4; stroke-opacity:1; fill:none\" points=\"\n  1782.63,1486.45 1782.63,1467.55 \n  \"/>\n<polyline clip-path=\"url(#clip530)\" style=\"stroke:#000000; stroke-linecap:butt; stroke-linejoin:round; stroke-width:4; stroke-opacity:1; fill:none\" points=\"\n  2291.67,1486.45 2291.67,1467.55 \n  \"/>\n<path clip-path=\"url(#clip530)\" d=\"M232.891 1517.37 Q229.28 1517.37 227.452 1520.93 Q225.646 1524.47 225.646 1531.6 Q225.646 1538.71 227.452 1542.27 Q229.28 1545.82 232.891 1545.82 Q236.526 1545.82 238.331 1542.27 Q240.16 1538.71 240.16 1531.6 Q240.16 1524.47 238.331 1520.93 Q236.526 1517.37 232.891 1517.37 M232.891 1513.66 Q238.702 1513.66 241.757 1518.27 Q244.836 1522.85 244.836 1531.6 Q244.836 1540.33 241.757 1544.94 Q238.702 1549.52 232.891 1549.52 Q227.081 1549.52 224.003 1544.94 Q220.947 1540.33 220.947 1531.6 Q220.947 1522.85 224.003 1518.27 Q227.081 1513.66 232.891 1513.66 Z\" fill=\"#000000\" fill-rule=\"evenodd\" fill-opacity=\"1\" /><path clip-path=\"url(#clip530)\" d=\"M253.053 1542.97 L257.938 1542.97 L257.938 1548.85 L253.053 1548.85 L253.053 1542.97 Z\" fill=\"#000000\" fill-rule=\"evenodd\" fill-opacity=\"1\" /><path clip-path=\"url(#clip530)\" d=\"M278.123 1517.37 Q274.512 1517.37 272.683 1520.93 Q270.877 1524.47 270.877 1531.6 Q270.877 1538.71 272.683 1542.27 Q274.512 1545.82 278.123 1545.82 Q281.757 1545.82 283.562 1542.27 Q285.391 1538.71 285.391 1531.6 Q285.391 1524.47 283.562 1520.93 Q281.757 1517.37 278.123 1517.37 M278.123 1513.66 Q283.933 1513.66 286.988 1518.27 Q290.067 1522.85 290.067 1531.6 Q290.067 1540.33 286.988 1544.94 Q283.933 1549.52 278.123 1549.52 Q272.312 1549.52 269.234 1544.94 Q266.178 1540.33 266.178 1531.6 Q266.178 1522.85 269.234 1518.27 Q272.312 1513.66 278.123 1513.66 Z\" fill=\"#000000\" fill-rule=\"evenodd\" fill-opacity=\"1\" /><path clip-path=\"url(#clip530)\" d=\"M742.43 1517.37 Q738.819 1517.37 736.99 1520.93 Q735.185 1524.47 735.185 1531.6 Q735.185 1538.71 736.99 1542.27 Q738.819 1545.82 742.43 1545.82 Q746.064 1545.82 747.87 1542.27 Q749.699 1538.71 749.699 1531.6 Q749.699 1524.47 747.87 1520.93 Q746.064 1517.37 742.43 1517.37 M742.43 1513.66 Q748.24 1513.66 751.296 1518.27 Q754.374 1522.85 754.374 1531.6 Q754.374 1540.33 751.296 1544.94 Q748.24 1549.52 742.43 1549.52 Q736.62 1549.52 733.541 1544.94 Q730.486 1540.33 730.486 1531.6 Q730.486 1522.85 733.541 1518.27 Q736.62 1513.66 742.43 1513.66 Z\" fill=\"#000000\" fill-rule=\"evenodd\" fill-opacity=\"1\" /><path clip-path=\"url(#clip530)\" d=\"M762.592 1542.97 L767.476 1542.97 L767.476 1548.85 L762.592 1548.85 L762.592 1542.97 Z\" fill=\"#000000\" fill-rule=\"evenodd\" fill-opacity=\"1\" /><path clip-path=\"url(#clip530)\" d=\"M777.708 1514.29 L796.064 1514.29 L796.064 1518.22 L781.99 1518.22 L781.99 1526.7 Q783.009 1526.35 784.027 1526.19 Q785.046 1526 786.064 1526 Q791.851 1526 795.231 1529.17 Q798.61 1532.34 798.61 1537.76 Q798.61 1543.34 795.138 1546.44 Q791.666 1549.52 785.347 1549.52 Q783.171 1549.52 780.902 1549.15 Q778.657 1548.78 776.249 1548.04 L776.249 1543.34 Q778.333 1544.47 780.555 1545.03 Q782.777 1545.58 785.254 1545.58 Q789.259 1545.58 791.596 1543.48 Q793.934 1541.37 793.934 1537.76 Q793.934 1534.15 791.596 1532.04 Q789.259 1529.94 785.254 1529.94 Q783.379 1529.94 781.504 1530.35 Q779.652 1530.77 777.708 1531.65 L777.708 1514.29 Z\" fill=\"#000000\" fill-rule=\"evenodd\" fill-opacity=\"1\" /><path clip-path=\"url(#clip530)\" d=\"M1240.74 1544.91 L1248.38 1544.91 L1248.38 1518.55 L1240.07 1520.21 L1240.07 1515.95 L1248.33 1514.29 L1253.01 1514.29 L1253.01 1544.91 L1260.65 1544.91 L1260.65 1548.85 L1240.74 1548.85 L1240.74 1544.91 Z\" fill=\"#000000\" fill-rule=\"evenodd\" fill-opacity=\"1\" /><path clip-path=\"url(#clip530)\" d=\"M1270.09 1542.97 L1274.98 1542.97 L1274.98 1548.85 L1270.09 1548.85 L1270.09 1542.97 Z\" fill=\"#000000\" fill-rule=\"evenodd\" fill-opacity=\"1\" /><path clip-path=\"url(#clip530)\" d=\"M1295.16 1517.37 Q1291.55 1517.37 1289.72 1520.93 Q1287.92 1524.47 1287.92 1531.6 Q1287.92 1538.71 1289.72 1542.27 Q1291.55 1545.82 1295.16 1545.82 Q1298.8 1545.82 1300.6 1542.27 Q1302.43 1538.71 1302.43 1531.6 Q1302.43 1524.47 1300.6 1520.93 Q1298.8 1517.37 1295.16 1517.37 M1295.16 1513.66 Q1300.97 1513.66 1304.03 1518.27 Q1307.11 1522.85 1307.11 1531.6 Q1307.11 1540.33 1304.03 1544.94 Q1300.97 1549.52 1295.16 1549.52 Q1289.35 1549.52 1286.27 1544.94 Q1283.22 1540.33 1283.22 1531.6 Q1283.22 1522.85 1286.27 1518.27 Q1289.35 1513.66 1295.16 1513.66 Z\" fill=\"#000000\" fill-rule=\"evenodd\" fill-opacity=\"1\" /><path clip-path=\"url(#clip530)\" d=\"M1750.28 1544.91 L1757.92 1544.91 L1757.92 1518.55 L1749.61 1520.21 L1749.61 1515.95 L1757.87 1514.29 L1762.55 1514.29 L1762.55 1544.91 L1770.19 1544.91 L1770.19 1548.85 L1750.28 1548.85 L1750.28 1544.91 Z\" fill=\"#000000\" fill-rule=\"evenodd\" fill-opacity=\"1\" /><path clip-path=\"url(#clip530)\" d=\"M1779.63 1542.97 L1784.52 1542.97 L1784.52 1548.85 L1779.63 1548.85 L1779.63 1542.97 Z\" fill=\"#000000\" fill-rule=\"evenodd\" fill-opacity=\"1\" /><path clip-path=\"url(#clip530)\" d=\"M1794.75 1514.29 L1813.1 1514.29 L1813.1 1518.22 L1799.03 1518.22 L1799.03 1526.7 Q1800.05 1526.35 1801.07 1526.19 Q1802.09 1526 1803.1 1526 Q1808.89 1526 1812.27 1529.17 Q1815.65 1532.34 1815.65 1537.76 Q1815.65 1543.34 1812.18 1546.44 Q1808.71 1549.52 1802.39 1549.52 Q1800.21 1549.52 1797.94 1549.15 Q1795.7 1548.78 1793.29 1548.04 L1793.29 1543.34 Q1795.37 1544.47 1797.6 1545.03 Q1799.82 1545.58 1802.29 1545.58 Q1806.3 1545.58 1808.64 1543.48 Q1810.97 1541.37 1810.97 1537.76 Q1810.97 1534.15 1808.64 1532.04 Q1806.3 1529.94 1802.29 1529.94 Q1800.42 1529.94 1798.54 1530.35 Q1796.69 1530.77 1794.75 1531.65 L1794.75 1514.29 Z\" fill=\"#000000\" fill-rule=\"evenodd\" fill-opacity=\"1\" /><path clip-path=\"url(#clip530)\" d=\"M2262.91 1544.91 L2279.23 1544.91 L2279.23 1548.85 L2257.28 1548.85 L2257.28 1544.91 Q2259.95 1542.16 2264.53 1537.53 Q2269.14 1532.88 2270.32 1531.53 Q2272.56 1529.01 2273.44 1527.27 Q2274.34 1525.51 2274.34 1523.82 Q2274.34 1521.07 2272.4 1519.33 Q2270.48 1517.6 2267.38 1517.6 Q2265.18 1517.6 2262.72 1518.36 Q2260.29 1519.13 2257.52 1520.68 L2257.52 1515.95 Q2260.34 1514.82 2262.79 1514.24 Q2265.25 1513.66 2267.28 1513.66 Q2272.65 1513.66 2275.85 1516.35 Q2279.04 1519.03 2279.04 1523.52 Q2279.04 1525.65 2278.23 1527.57 Q2277.45 1529.47 2275.34 1532.07 Q2274.76 1532.74 2271.66 1535.95 Q2268.56 1539.15 2262.91 1544.91 Z\" fill=\"#000000\" fill-rule=\"evenodd\" fill-opacity=\"1\" /><path clip-path=\"url(#clip530)\" d=\"M2289.04 1542.97 L2293.93 1542.97 L2293.93 1548.85 L2289.04 1548.85 L2289.04 1542.97 Z\" fill=\"#000000\" fill-rule=\"evenodd\" fill-opacity=\"1\" /><path clip-path=\"url(#clip530)\" d=\"M2314.11 1517.37 Q2310.5 1517.37 2308.67 1520.93 Q2306.87 1524.47 2306.87 1531.6 Q2306.87 1538.71 2308.67 1542.27 Q2310.5 1545.82 2314.11 1545.82 Q2317.75 1545.82 2319.55 1542.27 Q2321.38 1538.71 2321.38 1531.6 Q2321.38 1524.47 2319.55 1520.93 Q2317.75 1517.37 2314.11 1517.37 M2314.11 1513.66 Q2319.92 1513.66 2322.98 1518.27 Q2326.06 1522.85 2326.06 1531.6 Q2326.06 1540.33 2322.98 1544.94 Q2319.92 1549.52 2314.11 1549.52 Q2308.3 1549.52 2305.22 1544.94 Q2302.17 1540.33 2302.17 1531.6 Q2302.17 1522.85 2305.22 1518.27 Q2308.3 1513.66 2314.11 1513.66 Z\" fill=\"#000000\" fill-rule=\"evenodd\" fill-opacity=\"1\" /><polyline clip-path=\"url(#clip532)\" style=\"stroke:#000000; stroke-linecap:butt; stroke-linejoin:round; stroke-width:2; stroke-opacity:0.1; fill:none\" points=\"\n  194.422,1169.75 2352.76,1169.75 \n  \"/>\n<polyline clip-path=\"url(#clip532)\" style=\"stroke:#000000; stroke-linecap:butt; stroke-linejoin:round; stroke-width:2; stroke-opacity:0.1; fill:none\" points=\"\n  194.422,849.548 2352.76,849.548 \n  \"/>\n<polyline clip-path=\"url(#clip532)\" style=\"stroke:#000000; stroke-linecap:butt; stroke-linejoin:round; stroke-width:2; stroke-opacity:0.1; fill:none\" points=\"\n  194.422,529.341 2352.76,529.341 \n  \"/>\n<polyline clip-path=\"url(#clip532)\" style=\"stroke:#000000; stroke-linecap:butt; stroke-linejoin:round; stroke-width:2; stroke-opacity:0.1; fill:none\" points=\"\n  194.422,209.135 2352.76,209.135 \n  \"/>\n<polyline clip-path=\"url(#clip530)\" style=\"stroke:#000000; stroke-linecap:butt; stroke-linejoin:round; stroke-width:4; stroke-opacity:1; fill:none\" points=\"\n  194.422,1486.45 194.422,47.2441 \n  \"/>\n<polyline clip-path=\"url(#clip530)\" style=\"stroke:#000000; stroke-linecap:butt; stroke-linejoin:round; stroke-width:4; stroke-opacity:1; fill:none\" points=\"\n  194.422,1169.75 213.32,1169.75 \n  \"/>\n<polyline clip-path=\"url(#clip530)\" style=\"stroke:#000000; stroke-linecap:butt; stroke-linejoin:round; stroke-width:4; stroke-opacity:1; fill:none\" points=\"\n  194.422,849.548 213.32,849.548 \n  \"/>\n<polyline clip-path=\"url(#clip530)\" style=\"stroke:#000000; stroke-linecap:butt; stroke-linejoin:round; stroke-width:4; stroke-opacity:1; fill:none\" points=\"\n  194.422,529.341 213.32,529.341 \n  \"/>\n<polyline clip-path=\"url(#clip530)\" style=\"stroke:#000000; stroke-linecap:butt; stroke-linejoin:round; stroke-width:4; stroke-opacity:1; fill:none\" points=\"\n  194.422,209.135 213.32,209.135 \n  \"/>\n<path clip-path=\"url(#clip530)\" d=\"M50.9921 1170.21 L80.6679 1170.21 L80.6679 1174.14 L50.9921 1174.14 L50.9921 1170.21 Z\" fill=\"#000000\" fill-rule=\"evenodd\" fill-opacity=\"1\" /><path clip-path=\"url(#clip530)\" d=\"M100.76 1155.55 Q97.1493 1155.55 95.3206 1159.12 Q93.515 1162.66 93.515 1169.79 Q93.515 1176.9 95.3206 1180.46 Q97.1493 1184 100.76 1184 Q104.395 1184 106.2 1180.46 Q108.029 1176.9 108.029 1169.79 Q108.029 1162.66 106.2 1159.12 Q104.395 1155.55 100.76 1155.55 M100.76 1151.85 Q106.571 1151.85 109.626 1156.46 Q112.705 1161.04 112.705 1169.79 Q112.705 1178.52 109.626 1183.12 Q106.571 1187.71 100.76 1187.71 Q94.9502 1187.71 91.8715 1183.12 Q88.816 1178.52 88.816 1169.79 Q88.816 1161.04 91.8715 1156.46 Q94.9502 1151.85 100.76 1151.85 Z\" fill=\"#000000\" fill-rule=\"evenodd\" fill-opacity=\"1\" /><path clip-path=\"url(#clip530)\" d=\"M120.922 1181.15 L125.807 1181.15 L125.807 1187.03 L120.922 1187.03 L120.922 1181.15 Z\" fill=\"#000000\" fill-rule=\"evenodd\" fill-opacity=\"1\" /><path clip-path=\"url(#clip530)\" d=\"M148.839 1156.55 L137.033 1175 L148.839 1175 L148.839 1156.55 M147.612 1152.47 L153.492 1152.47 L153.492 1175 L158.422 1175 L158.422 1178.89 L153.492 1178.89 L153.492 1187.03 L148.839 1187.03 L148.839 1178.89 L133.237 1178.89 L133.237 1174.37 L147.612 1152.47 Z\" fill=\"#000000\" fill-rule=\"evenodd\" fill-opacity=\"1\" /><path clip-path=\"url(#clip530)\" d=\"M53.0754 849.999 L82.7512 849.999 L82.7512 853.935 L53.0754 853.935 L53.0754 849.999 Z\" fill=\"#000000\" fill-rule=\"evenodd\" fill-opacity=\"1\" /><path clip-path=\"url(#clip530)\" d=\"M102.844 835.347 Q99.2326 835.347 97.4039 838.911 Q95.5984 842.453 95.5984 849.583 Q95.5984 856.689 97.4039 860.254 Q99.2326 863.796 102.844 863.796 Q106.478 863.796 108.283 860.254 Q110.112 856.689 110.112 849.583 Q110.112 842.453 108.283 838.911 Q106.478 835.347 102.844 835.347 M102.844 831.643 Q108.654 831.643 111.709 836.249 Q114.788 840.833 114.788 849.583 Q114.788 858.31 111.709 862.916 Q108.654 867.499 102.844 867.499 Q97.0335 867.499 93.9549 862.916 Q90.8993 858.31 90.8993 849.583 Q90.8993 840.833 93.9549 836.249 Q97.0335 831.643 102.844 831.643 Z\" fill=\"#000000\" fill-rule=\"evenodd\" fill-opacity=\"1\" /><path clip-path=\"url(#clip530)\" d=\"M123.006 860.948 L127.89 860.948 L127.89 866.828 L123.006 866.828 L123.006 860.948 Z\" fill=\"#000000\" fill-rule=\"evenodd\" fill-opacity=\"1\" /><path clip-path=\"url(#clip530)\" d=\"M142.103 862.893 L158.422 862.893 L158.422 866.828 L136.478 866.828 L136.478 862.893 Q139.14 860.138 143.723 855.509 Q148.33 850.856 149.51 849.513 Q151.755 846.99 152.635 845.254 Q153.538 843.495 153.538 841.805 Q153.538 839.05 151.593 837.314 Q149.672 835.578 146.57 835.578 Q144.371 835.578 141.918 836.342 Q139.487 837.106 136.709 838.657 L136.709 833.935 Q139.533 832.8 141.987 832.222 Q144.441 831.643 146.478 831.643 Q151.848 831.643 155.042 834.328 Q158.237 837.013 158.237 841.504 Q158.237 843.634 157.427 845.555 Q156.64 847.453 154.533 850.046 Q153.955 850.717 150.853 853.935 Q147.751 857.129 142.103 862.893 Z\" fill=\"#000000\" fill-rule=\"evenodd\" fill-opacity=\"1\" /><path clip-path=\"url(#clip530)\" d=\"M101.246 515.14 Q97.6354 515.14 95.8067 518.705 Q94.0012 522.247 94.0012 529.376 Q94.0012 536.483 95.8067 540.047 Q97.6354 543.589 101.246 543.589 Q104.881 543.589 106.686 540.047 Q108.515 536.483 108.515 529.376 Q108.515 522.247 106.686 518.705 Q104.881 515.14 101.246 515.14 M101.246 511.436 Q107.057 511.436 110.112 516.043 Q113.191 520.626 113.191 529.376 Q113.191 538.103 110.112 542.709 Q107.057 547.293 101.246 547.293 Q95.4363 547.293 92.3576 542.709 Q89.3021 538.103 89.3021 529.376 Q89.3021 520.626 92.3576 516.043 Q95.4363 511.436 101.246 511.436 Z\" fill=\"#000000\" fill-rule=\"evenodd\" fill-opacity=\"1\" /><path clip-path=\"url(#clip530)\" d=\"M121.408 540.742 L126.293 540.742 L126.293 546.621 L121.408 546.621 L121.408 540.742 Z\" fill=\"#000000\" fill-rule=\"evenodd\" fill-opacity=\"1\" /><path clip-path=\"url(#clip530)\" d=\"M146.478 515.14 Q142.867 515.14 141.038 518.705 Q139.232 522.247 139.232 529.376 Q139.232 536.483 141.038 540.047 Q142.867 543.589 146.478 543.589 Q150.112 543.589 151.918 540.047 Q153.746 536.483 153.746 529.376 Q153.746 522.247 151.918 518.705 Q150.112 515.14 146.478 515.14 M146.478 511.436 Q152.288 511.436 155.343 516.043 Q158.422 520.626 158.422 529.376 Q158.422 538.103 155.343 542.709 Q152.288 547.293 146.478 547.293 Q140.668 547.293 137.589 542.709 Q134.533 538.103 134.533 529.376 Q134.533 520.626 137.589 516.043 Q140.668 511.436 146.478 511.436 Z\" fill=\"#000000\" fill-rule=\"evenodd\" fill-opacity=\"1\" /><path clip-path=\"url(#clip530)\" d=\"M102.844 194.934 Q99.2326 194.934 97.4039 198.498 Q95.5984 202.04 95.5984 209.17 Q95.5984 216.276 97.4039 219.841 Q99.2326 223.383 102.844 223.383 Q106.478 223.383 108.283 219.841 Q110.112 216.276 110.112 209.17 Q110.112 202.04 108.283 198.498 Q106.478 194.934 102.844 194.934 M102.844 191.23 Q108.654 191.23 111.709 195.836 Q114.788 200.42 114.788 209.17 Q114.788 217.896 111.709 222.503 Q108.654 227.086 102.844 227.086 Q97.0335 227.086 93.9549 222.503 Q90.8993 217.896 90.8993 209.17 Q90.8993 200.42 93.9549 195.836 Q97.0335 191.23 102.844 191.23 Z\" fill=\"#000000\" fill-rule=\"evenodd\" fill-opacity=\"1\" /><path clip-path=\"url(#clip530)\" d=\"M123.006 220.535 L127.89 220.535 L127.89 226.415 L123.006 226.415 L123.006 220.535 Z\" fill=\"#000000\" fill-rule=\"evenodd\" fill-opacity=\"1\" /><path clip-path=\"url(#clip530)\" d=\"M142.103 222.48 L158.422 222.48 L158.422 226.415 L136.478 226.415 L136.478 222.48 Q139.14 219.725 143.723 215.096 Q148.33 210.443 149.51 209.1 Q151.755 206.577 152.635 204.841 Q153.538 203.082 153.538 201.392 Q153.538 198.637 151.593 196.901 Q149.672 195.165 146.57 195.165 Q144.371 195.165 141.918 195.929 Q139.487 196.693 136.709 198.244 L136.709 193.522 Q139.533 192.387 141.987 191.809 Q144.441 191.23 146.478 191.23 Q151.848 191.23 155.042 193.915 Q158.237 196.6 158.237 201.091 Q158.237 203.221 157.427 205.142 Q156.64 207.04 154.533 209.633 Q153.955 210.304 150.853 213.522 Q147.751 216.716 142.103 222.48 Z\" fill=\"#000000\" fill-rule=\"evenodd\" fill-opacity=\"1\" /><polyline clip-path=\"url(#clip532)\" style=\"stroke:#009af9; stroke-linecap:butt; stroke-linejoin:round; stroke-width:4; stroke-opacity:1; fill:none\" points=\"\n  257.164,1312.12 258.821,1297.98 260.478,1285.19 262.135,1273.29 263.792,1262.03 265.449,1251.29 267.106,1240.98 268.764,1231.04 272.594,1209.2 276.425,1188.69 \n  280.255,1169.24 284.086,1150.69 291.747,1115.79 299.408,1083.3 307.069,1052.76 314.73,1023.86 322.39,996.378 330.051,970.128 337.712,944.973 345.373,920.802 \n  353.034,897.522 360.695,875.056 376.017,832.309 391.339,792.138 400.547,769.097 409.755,746.812 418.963,725.233 428.171,704.315 446.587,664.315 465.002,626.553 \n  480.573,596.216 496.143,567.224 511.713,539.49 527.283,512.937 544.197,485.355 561.111,459.017 578.025,433.862 594.938,409.833 610.531,388.638 626.124,368.328 \n  641.717,348.874 657.31,330.248 674.027,311.174 690.744,293.001 707.462,275.704 724.179,259.263 743.548,241.26 762.916,224.353 782.285,208.521 801.653,193.739 \n  836.078,170.004 870.503,149.434 900.691,133.936 930.879,120.758 963.791,108.984 996.704,99.8657 1029.81,93.3232 1062.92,89.3742 1099.53,87.9763 1136.13,89.6433 \n  1170.96,94.0277 1205.79,101.097 1242,111.249 1278.22,124.213 1308.7,137.271 1339.19,152.261 1376.41,173.143 1413.62,196.817 1447.72,220.912 1481.81,247.271 \n  1513.3,273.594 1544.79,301.787 1576.69,332.222 1608.58,364.515 1644.33,402.876 1680.08,443.49 1712.47,482.201 1744.87,522.695 1781.95,571.205 1819.04,621.961 \n  1853.38,670.92 1887.72,721.727 1921.58,773.591 1955.43,827.18 1988.3,880.829 2021.17,936.04 2054.87,994.227 2088.57,1053.99 2125.49,1121.24 2162.41,1190.29 \n  2216.04,1293.74 2269.67,1400.78 2280.67,1423.18 2291.67,1445.72 \n  \"/>\n<polyline clip-path=\"url(#clip532)\" style=\"stroke:#e26f46; stroke-linecap:butt; stroke-linejoin:round; stroke-width:4; stroke-opacity:1; fill:none\" points=\"\n  1097.81,2925.65 1097.81,-1391.96 \n  \"/>\n<path clip-path=\"url(#clip530)\" d=\"\nM1565.77 198.898 L2280.81 198.898 L2280.81 95.2176 L1565.77 95.2176  Z\n  \" fill=\"#ffffff\" fill-rule=\"evenodd\" fill-opacity=\"1\"/>\n<polyline clip-path=\"url(#clip530)\" style=\"stroke:#000000; stroke-linecap:butt; stroke-linejoin:round; stroke-width:4; stroke-opacity:1; fill:none\" points=\"\n  1565.77,198.898 2280.81,198.898 2280.81,95.2176 1565.77,95.2176 1565.77,198.898 \n  \"/>\n<polyline clip-path=\"url(#clip530)\" style=\"stroke:#e26f46; stroke-linecap:butt; stroke-linejoin:round; stroke-width:4; stroke-opacity:1; fill:none\" points=\"\n  1589.75,147.058 1733.64,147.058 \n  \"/>\n<path clip-path=\"url(#clip530)\" d=\"M1757.62 129.778 L1779.47 129.778 L1779.47 133.713 L1762.3 133.713 L1762.3 143.944 L1778.75 143.944 L1778.75 147.879 L1762.3 147.879 L1762.3 160.402 L1779.89 160.402 L1779.89 164.338 L1757.62 164.338 L1757.62 129.778 Z\" fill=\"#000000\" fill-rule=\"evenodd\" fill-opacity=\"1\" /><path clip-path=\"url(#clip530)\" d=\"M1789.93 151.398 Q1789.93 156.097 1791.86 158.782 Q1793.8 161.444 1797.18 161.444 Q1800.56 161.444 1802.5 158.782 Q1804.45 156.097 1804.45 151.398 Q1804.45 146.699 1802.5 144.037 Q1800.56 141.352 1797.18 141.352 Q1793.8 141.352 1791.86 144.037 Q1789.93 146.699 1789.93 151.398 M1804.45 160.449 Q1803.11 162.763 1801.05 163.898 Q1799.01 165.009 1796.14 165.009 Q1791.44 165.009 1788.48 161.259 Q1785.54 157.509 1785.54 151.398 Q1785.54 145.287 1788.48 141.537 Q1791.44 137.787 1796.14 137.787 Q1799.01 137.787 1801.05 138.921 Q1803.11 140.032 1804.45 142.347 L1804.45 138.412 L1808.71 138.412 L1808.71 174.199 L1804.45 174.199 L1804.45 160.449 Z\" fill=\"#000000\" fill-rule=\"evenodd\" fill-opacity=\"1\" /><path clip-path=\"url(#clip530)\" d=\"M1817.04 154.106 L1817.04 138.412 L1821.3 138.412 L1821.3 153.944 Q1821.3 157.625 1822.73 159.476 Q1824.17 161.305 1827.04 161.305 Q1830.49 161.305 1832.48 159.106 Q1834.49 156.907 1834.49 153.111 L1834.49 138.412 L1838.75 138.412 L1838.75 164.338 L1834.49 164.338 L1834.49 160.356 Q1832.94 162.717 1830.88 163.875 Q1828.85 165.009 1826.14 165.009 Q1821.67 165.009 1819.36 162.231 Q1817.04 159.453 1817.04 154.106 M1827.76 137.787 L1827.76 137.787 Z\" fill=\"#000000\" fill-rule=\"evenodd\" fill-opacity=\"1\" /><path clip-path=\"url(#clip530)\" d=\"M1847.53 138.412 L1851.79 138.412 L1851.79 164.338 L1847.53 164.338 L1847.53 138.412 M1847.53 128.319 L1851.79 128.319 L1851.79 133.713 L1847.53 133.713 L1847.53 128.319 Z\" fill=\"#000000\" fill-rule=\"evenodd\" fill-opacity=\"1\" /><path clip-path=\"url(#clip530)\" d=\"M1860.7 128.319 L1864.96 128.319 L1864.96 164.338 L1860.7 164.338 L1860.7 128.319 Z\" fill=\"#000000\" fill-rule=\"evenodd\" fill-opacity=\"1\" /><path clip-path=\"url(#clip530)\" d=\"M1873.87 138.412 L1878.13 138.412 L1878.13 164.338 L1873.87 164.338 L1873.87 138.412 M1873.87 128.319 L1878.13 128.319 L1878.13 133.713 L1873.87 133.713 L1873.87 128.319 Z\" fill=\"#000000\" fill-rule=\"evenodd\" fill-opacity=\"1\" /><path clip-path=\"url(#clip530)\" d=\"M1905.65 151.398 Q1905.65 146.699 1903.71 144.037 Q1901.79 141.352 1898.41 141.352 Q1895.03 141.352 1893.08 144.037 Q1891.16 146.699 1891.16 151.398 Q1891.16 156.097 1893.08 158.782 Q1895.03 161.444 1898.41 161.444 Q1901.79 161.444 1903.71 158.782 Q1905.65 156.097 1905.65 151.398 M1891.16 142.347 Q1892.5 140.032 1894.54 138.921 Q1896.6 137.787 1899.45 137.787 Q1904.17 137.787 1907.11 141.537 Q1910.07 145.287 1910.07 151.398 Q1910.07 157.509 1907.11 161.259 Q1904.17 165.009 1899.45 165.009 Q1896.6 165.009 1894.54 163.898 Q1892.5 162.763 1891.16 160.449 L1891.16 164.338 L1886.88 164.338 L1886.88 128.319 L1891.16 128.319 L1891.16 142.347 Z\" fill=\"#000000\" fill-rule=\"evenodd\" fill-opacity=\"1\" /><path clip-path=\"url(#clip530)\" d=\"M1932.16 142.393 Q1931.44 141.977 1930.58 141.791 Q1929.75 141.583 1928.73 141.583 Q1925.12 141.583 1923.17 143.944 Q1921.25 146.282 1921.25 150.68 L1921.25 164.338 L1916.97 164.338 L1916.97 138.412 L1921.25 138.412 L1921.25 142.44 Q1922.6 140.078 1924.75 138.944 Q1926.9 137.787 1929.98 137.787 Q1930.42 137.787 1930.95 137.856 Q1931.48 137.903 1932.13 138.018 L1932.16 142.393 Z\" fill=\"#000000\" fill-rule=\"evenodd\" fill-opacity=\"1\" /><path clip-path=\"url(#clip530)\" d=\"M1936.62 138.412 L1940.88 138.412 L1940.88 164.338 L1936.62 164.338 L1936.62 138.412 M1936.62 128.319 L1940.88 128.319 L1940.88 133.713 L1936.62 133.713 L1936.62 128.319 Z\" fill=\"#000000\" fill-rule=\"evenodd\" fill-opacity=\"1\" /><path clip-path=\"url(#clip530)\" d=\"M1949.35 154.106 L1949.35 138.412 L1953.61 138.412 L1953.61 153.944 Q1953.61 157.625 1955.05 159.476 Q1956.48 161.305 1959.35 161.305 Q1962.8 161.305 1964.79 159.106 Q1966.81 156.907 1966.81 153.111 L1966.81 138.412 L1971.07 138.412 L1971.07 164.338 L1966.81 164.338 L1966.81 160.356 Q1965.26 162.717 1963.2 163.875 Q1961.16 165.009 1958.45 165.009 Q1953.98 165.009 1951.67 162.231 Q1949.35 159.453 1949.35 154.106 M1960.07 137.787 L1960.07 137.787 Z\" fill=\"#000000\" fill-rule=\"evenodd\" fill-opacity=\"1\" /><path clip-path=\"url(#clip530)\" d=\"M2000.03 143.389 Q2001.62 140.518 2003.85 139.153 Q2006.07 137.787 2009.08 137.787 Q2013.13 137.787 2015.33 140.634 Q2017.53 143.458 2017.53 148.689 L2017.53 164.338 L2013.24 164.338 L2013.24 148.828 Q2013.24 145.102 2011.92 143.296 Q2010.6 141.49 2007.9 141.49 Q2004.59 141.49 2002.66 143.69 Q2000.74 145.889 2000.74 149.685 L2000.74 164.338 L1996.46 164.338 L1996.46 148.828 Q1996.46 145.078 1995.14 143.296 Q1993.82 141.49 1991.07 141.49 Q1987.8 141.49 1985.88 143.713 Q1983.96 145.912 1983.96 149.685 L1983.96 164.338 L1979.68 164.338 L1979.68 138.412 L1983.96 138.412 L1983.96 142.44 Q1985.42 140.055 1987.46 138.921 Q1989.49 137.787 1992.29 137.787 Q1995.12 137.787 1997.09 139.222 Q1999.08 140.657 2000.03 143.389 Z\" fill=\"#000000\" fill-rule=\"evenodd\" fill-opacity=\"1\" /><path clip-path=\"url(#clip530)\" d=\"M2043.64 151.398 Q2043.64 156.097 2045.56 158.782 Q2047.5 161.444 2050.88 161.444 Q2054.26 161.444 2056.21 158.782 Q2058.15 156.097 2058.15 151.398 Q2058.15 146.699 2056.21 144.037 Q2054.26 141.352 2050.88 141.352 Q2047.5 141.352 2045.56 144.037 Q2043.64 146.699 2043.64 151.398 M2058.15 160.449 Q2056.81 162.763 2054.75 163.898 Q2052.71 165.009 2049.84 165.009 Q2045.14 165.009 2042.18 161.259 Q2039.24 157.509 2039.24 151.398 Q2039.24 145.287 2042.18 141.537 Q2045.14 137.787 2049.84 137.787 Q2052.71 137.787 2054.75 138.921 Q2056.81 140.032 2058.15 142.347 L2058.15 138.412 L2062.41 138.412 L2062.41 174.199 L2058.15 174.199 L2058.15 160.449 Z\" fill=\"#000000\" fill-rule=\"evenodd\" fill-opacity=\"1\" /><path clip-path=\"url(#clip530)\" d=\"M2070.74 154.106 L2070.74 138.412 L2075 138.412 L2075 153.944 Q2075 157.625 2076.44 159.476 Q2077.87 161.305 2080.74 161.305 Q2084.19 161.305 2086.18 159.106 Q2088.2 156.907 2088.2 153.111 L2088.2 138.412 L2092.46 138.412 L2092.46 164.338 L2088.2 164.338 L2088.2 160.356 Q2086.65 162.717 2084.59 163.875 Q2082.55 165.009 2079.84 165.009 Q2075.37 165.009 2073.06 162.231 Q2070.74 159.453 2070.74 154.106 M2081.46 137.787 L2081.46 137.787 Z\" fill=\"#000000\" fill-rule=\"evenodd\" fill-opacity=\"1\" /><path clip-path=\"url(#clip530)\" d=\"M2113.01 151.305 Q2107.85 151.305 2105.86 152.486 Q2103.87 153.666 2103.87 156.514 Q2103.87 158.782 2105.35 160.125 Q2106.85 161.444 2109.42 161.444 Q2112.96 161.444 2115.09 158.944 Q2117.25 156.421 2117.25 152.254 L2117.25 151.305 L2113.01 151.305 M2121.51 149.546 L2121.51 164.338 L2117.25 164.338 L2117.25 160.402 Q2115.79 162.763 2113.61 163.898 Q2111.44 165.009 2108.29 165.009 Q2104.31 165.009 2101.95 162.787 Q2099.61 160.541 2099.61 156.791 Q2099.61 152.416 2102.53 150.194 Q2105.46 147.972 2111.28 147.972 L2117.25 147.972 L2117.25 147.555 Q2117.25 144.615 2115.3 143.018 Q2113.38 141.398 2109.89 141.398 Q2107.66 141.398 2105.56 141.93 Q2103.45 142.463 2101.51 143.527 L2101.51 139.592 Q2103.84 138.69 2106.04 138.25 Q2108.24 137.787 2110.33 137.787 Q2115.95 137.787 2118.73 140.703 Q2121.51 143.62 2121.51 149.546 Z\" fill=\"#000000\" fill-rule=\"evenodd\" fill-opacity=\"1\" /><path clip-path=\"url(#clip530)\" d=\"M2151.83 148.689 L2151.83 164.338 L2147.57 164.338 L2147.57 148.828 Q2147.57 145.148 2146.14 143.319 Q2144.7 141.49 2141.83 141.49 Q2138.38 141.49 2136.39 143.69 Q2134.4 145.889 2134.4 149.685 L2134.4 164.338 L2130.12 164.338 L2130.12 138.412 L2134.4 138.412 L2134.4 142.44 Q2135.93 140.102 2137.99 138.944 Q2140.07 137.787 2142.78 137.787 Q2147.25 137.787 2149.54 140.565 Q2151.83 143.319 2151.83 148.689 Z\" fill=\"#000000\" fill-rule=\"evenodd\" fill-opacity=\"1\" /><path clip-path=\"url(#clip530)\" d=\"M2164.54 131.051 L2164.54 138.412 L2173.31 138.412 L2173.31 141.722 L2164.54 141.722 L2164.54 155.796 Q2164.54 158.967 2165.4 159.87 Q2166.27 160.773 2168.94 160.773 L2173.31 160.773 L2173.31 164.338 L2168.94 164.338 Q2164.01 164.338 2162.13 162.509 Q2160.26 160.657 2160.26 155.796 L2160.26 141.722 L2157.13 141.722 L2157.13 138.412 L2160.26 138.412 L2160.26 131.051 L2164.54 131.051 Z\" fill=\"#000000\" fill-rule=\"evenodd\" fill-opacity=\"1\" /><path clip-path=\"url(#clip530)\" d=\"M2178.91 138.412 L2183.17 138.412 L2183.17 164.338 L2178.91 164.338 L2178.91 138.412 M2178.91 128.319 L2183.17 128.319 L2183.17 133.713 L2178.91 133.713 L2178.91 128.319 Z\" fill=\"#000000\" fill-rule=\"evenodd\" fill-opacity=\"1\" /><path clip-path=\"url(#clip530)\" d=\"M2196.3 131.051 L2196.3 138.412 L2205.07 138.412 L2205.07 141.722 L2196.3 141.722 L2196.3 155.796 Q2196.3 158.967 2197.15 159.87 Q2198.03 160.773 2200.7 160.773 L2205.07 160.773 L2205.07 164.338 L2200.7 164.338 Q2195.77 164.338 2193.89 162.509 Q2192.02 160.657 2192.02 155.796 L2192.02 141.722 L2188.89 141.722 L2188.89 138.412 L2192.02 138.412 L2192.02 131.051 L2196.3 131.051 Z\" fill=\"#000000\" fill-rule=\"evenodd\" fill-opacity=\"1\" /><path clip-path=\"url(#clip530)\" d=\"M2221.46 166.745 Q2219.65 171.375 2217.94 172.787 Q2216.23 174.199 2213.36 174.199 L2209.96 174.199 L2209.96 170.634 L2212.46 170.634 Q2214.21 170.634 2215.19 169.8 Q2216.16 168.967 2217.34 165.865 L2218.1 163.921 L2207.62 138.412 L2212.13 138.412 L2220.23 158.689 L2228.33 138.412 L2232.85 138.412 L2221.46 166.745 Z\" fill=\"#000000\" fill-rule=\"evenodd\" fill-opacity=\"1\" /></svg>\n",
      "text/html": [
       "<?xml version=\"1.0\" encoding=\"utf-8\"?>\n",
       "<svg xmlns=\"http://www.w3.org/2000/svg\" xmlns:xlink=\"http://www.w3.org/1999/xlink\" width=\"600\" height=\"400\" viewBox=\"0 0 2400 1600\">\n",
       "<defs>\n",
       "  <clipPath id=\"clip580\">\n",
       "    <rect x=\"0\" y=\"0\" width=\"2400\" height=\"1600\"/>\n",
       "  </clipPath>\n",
       "</defs>\n",
       "<path clip-path=\"url(#clip580)\" d=\"\n",
       "M0 1600 L2400 1600 L2400 0 L0 0  Z\n",
       "  \" fill=\"#ffffff\" fill-rule=\"evenodd\" fill-opacity=\"1\"/>\n",
       "<defs>\n",
       "  <clipPath id=\"clip581\">\n",
       "    <rect x=\"480\" y=\"0\" width=\"1681\" height=\"1600\"/>\n",
       "  </clipPath>\n",
       "</defs>\n",
       "<path clip-path=\"url(#clip580)\" d=\"\n",
       "M194.422 1486.45 L2352.76 1486.45 L2352.76 47.2441 L194.422 47.2441  Z\n",
       "  \" fill=\"#ffffff\" fill-rule=\"evenodd\" fill-opacity=\"1\"/>\n",
       "<defs>\n",
       "  <clipPath id=\"clip582\">\n",
       "    <rect x=\"194\" y=\"47\" width=\"2159\" height=\"1440\"/>\n",
       "  </clipPath>\n",
       "</defs>\n",
       "<polyline clip-path=\"url(#clip582)\" style=\"stroke:#000000; stroke-linecap:butt; stroke-linejoin:round; stroke-width:2; stroke-opacity:0.1; fill:none\" points=\"\n",
       "  255.507,1486.45 255.507,47.2441 \n",
       "  \"/>\n",
       "<polyline clip-path=\"url(#clip582)\" style=\"stroke:#000000; stroke-linecap:butt; stroke-linejoin:round; stroke-width:2; stroke-opacity:0.1; fill:none\" points=\"\n",
       "  764.548,1486.45 764.548,47.2441 \n",
       "  \"/>\n",
       "<polyline clip-path=\"url(#clip582)\" style=\"stroke:#000000; stroke-linecap:butt; stroke-linejoin:round; stroke-width:2; stroke-opacity:0.1; fill:none\" points=\"\n",
       "  1273.59,1486.45 1273.59,47.2441 \n",
       "  \"/>\n",
       "<polyline clip-path=\"url(#clip582)\" style=\"stroke:#000000; stroke-linecap:butt; stroke-linejoin:round; stroke-width:2; stroke-opacity:0.1; fill:none\" points=\"\n",
       "  1782.63,1486.45 1782.63,47.2441 \n",
       "  \"/>\n",
       "<polyline clip-path=\"url(#clip582)\" style=\"stroke:#000000; stroke-linecap:butt; stroke-linejoin:round; stroke-width:2; stroke-opacity:0.1; fill:none\" points=\"\n",
       "  2291.67,1486.45 2291.67,47.2441 \n",
       "  \"/>\n",
       "<polyline clip-path=\"url(#clip580)\" style=\"stroke:#000000; stroke-linecap:butt; stroke-linejoin:round; stroke-width:4; stroke-opacity:1; fill:none\" points=\"\n",
       "  194.422,1486.45 2352.76,1486.45 \n",
       "  \"/>\n",
       "<polyline clip-path=\"url(#clip580)\" style=\"stroke:#000000; stroke-linecap:butt; stroke-linejoin:round; stroke-width:4; stroke-opacity:1; fill:none\" points=\"\n",
       "  255.507,1486.45 255.507,1467.55 \n",
       "  \"/>\n",
       "<polyline clip-path=\"url(#clip580)\" style=\"stroke:#000000; stroke-linecap:butt; stroke-linejoin:round; stroke-width:4; stroke-opacity:1; fill:none\" points=\"\n",
       "  764.548,1486.45 764.548,1467.55 \n",
       "  \"/>\n",
       "<polyline clip-path=\"url(#clip580)\" style=\"stroke:#000000; stroke-linecap:butt; stroke-linejoin:round; stroke-width:4; stroke-opacity:1; fill:none\" points=\"\n",
       "  1273.59,1486.45 1273.59,1467.55 \n",
       "  \"/>\n",
       "<polyline clip-path=\"url(#clip580)\" style=\"stroke:#000000; stroke-linecap:butt; stroke-linejoin:round; stroke-width:4; stroke-opacity:1; fill:none\" points=\"\n",
       "  1782.63,1486.45 1782.63,1467.55 \n",
       "  \"/>\n",
       "<polyline clip-path=\"url(#clip580)\" style=\"stroke:#000000; stroke-linecap:butt; stroke-linejoin:round; stroke-width:4; stroke-opacity:1; fill:none\" points=\"\n",
       "  2291.67,1486.45 2291.67,1467.55 \n",
       "  \"/>\n",
       "<path clip-path=\"url(#clip580)\" d=\"M232.891 1517.37 Q229.28 1517.37 227.452 1520.93 Q225.646 1524.47 225.646 1531.6 Q225.646 1538.71 227.452 1542.27 Q229.28 1545.82 232.891 1545.82 Q236.526 1545.82 238.331 1542.27 Q240.16 1538.71 240.16 1531.6 Q240.16 1524.47 238.331 1520.93 Q236.526 1517.37 232.891 1517.37 M232.891 1513.66 Q238.702 1513.66 241.757 1518.27 Q244.836 1522.85 244.836 1531.6 Q244.836 1540.33 241.757 1544.94 Q238.702 1549.52 232.891 1549.52 Q227.081 1549.52 224.003 1544.94 Q220.947 1540.33 220.947 1531.6 Q220.947 1522.85 224.003 1518.27 Q227.081 1513.66 232.891 1513.66 Z\" fill=\"#000000\" fill-rule=\"evenodd\" fill-opacity=\"1\" /><path clip-path=\"url(#clip580)\" d=\"M253.053 1542.97 L257.938 1542.97 L257.938 1548.85 L253.053 1548.85 L253.053 1542.97 Z\" fill=\"#000000\" fill-rule=\"evenodd\" fill-opacity=\"1\" /><path clip-path=\"url(#clip580)\" d=\"M278.123 1517.37 Q274.512 1517.37 272.683 1520.93 Q270.877 1524.47 270.877 1531.6 Q270.877 1538.71 272.683 1542.27 Q274.512 1545.82 278.123 1545.82 Q281.757 1545.82 283.562 1542.27 Q285.391 1538.71 285.391 1531.6 Q285.391 1524.47 283.562 1520.93 Q281.757 1517.37 278.123 1517.37 M278.123 1513.66 Q283.933 1513.66 286.988 1518.27 Q290.067 1522.85 290.067 1531.6 Q290.067 1540.33 286.988 1544.94 Q283.933 1549.52 278.123 1549.52 Q272.312 1549.52 269.234 1544.94 Q266.178 1540.33 266.178 1531.6 Q266.178 1522.85 269.234 1518.27 Q272.312 1513.66 278.123 1513.66 Z\" fill=\"#000000\" fill-rule=\"evenodd\" fill-opacity=\"1\" /><path clip-path=\"url(#clip580)\" d=\"M742.43 1517.37 Q738.819 1517.37 736.99 1520.93 Q735.185 1524.47 735.185 1531.6 Q735.185 1538.71 736.99 1542.27 Q738.819 1545.82 742.43 1545.82 Q746.064 1545.82 747.87 1542.27 Q749.699 1538.71 749.699 1531.6 Q749.699 1524.47 747.87 1520.93 Q746.064 1517.37 742.43 1517.37 M742.43 1513.66 Q748.24 1513.66 751.296 1518.27 Q754.374 1522.85 754.374 1531.6 Q754.374 1540.33 751.296 1544.94 Q748.24 1549.52 742.43 1549.52 Q736.62 1549.52 733.541 1544.94 Q730.486 1540.33 730.486 1531.6 Q730.486 1522.85 733.541 1518.27 Q736.62 1513.66 742.43 1513.66 Z\" fill=\"#000000\" fill-rule=\"evenodd\" fill-opacity=\"1\" /><path clip-path=\"url(#clip580)\" d=\"M762.592 1542.97 L767.476 1542.97 L767.476 1548.85 L762.592 1548.85 L762.592 1542.97 Z\" fill=\"#000000\" fill-rule=\"evenodd\" fill-opacity=\"1\" /><path clip-path=\"url(#clip580)\" d=\"M777.708 1514.29 L796.064 1514.29 L796.064 1518.22 L781.99 1518.22 L781.99 1526.7 Q783.009 1526.35 784.027 1526.19 Q785.046 1526 786.064 1526 Q791.851 1526 795.231 1529.17 Q798.61 1532.34 798.61 1537.76 Q798.61 1543.34 795.138 1546.44 Q791.666 1549.52 785.347 1549.52 Q783.171 1549.52 780.902 1549.15 Q778.657 1548.78 776.249 1548.04 L776.249 1543.34 Q778.333 1544.47 780.555 1545.03 Q782.777 1545.58 785.254 1545.58 Q789.259 1545.58 791.596 1543.48 Q793.934 1541.37 793.934 1537.76 Q793.934 1534.15 791.596 1532.04 Q789.259 1529.94 785.254 1529.94 Q783.379 1529.94 781.504 1530.35 Q779.652 1530.77 777.708 1531.65 L777.708 1514.29 Z\" fill=\"#000000\" fill-rule=\"evenodd\" fill-opacity=\"1\" /><path clip-path=\"url(#clip580)\" d=\"M1240.74 1544.91 L1248.38 1544.91 L1248.38 1518.55 L1240.07 1520.21 L1240.07 1515.95 L1248.33 1514.29 L1253.01 1514.29 L1253.01 1544.91 L1260.65 1544.91 L1260.65 1548.85 L1240.74 1548.85 L1240.74 1544.91 Z\" fill=\"#000000\" fill-rule=\"evenodd\" fill-opacity=\"1\" /><path clip-path=\"url(#clip580)\" d=\"M1270.09 1542.97 L1274.98 1542.97 L1274.98 1548.85 L1270.09 1548.85 L1270.09 1542.97 Z\" fill=\"#000000\" fill-rule=\"evenodd\" fill-opacity=\"1\" /><path clip-path=\"url(#clip580)\" d=\"M1295.16 1517.37 Q1291.55 1517.37 1289.72 1520.93 Q1287.92 1524.47 1287.92 1531.6 Q1287.92 1538.71 1289.72 1542.27 Q1291.55 1545.82 1295.16 1545.82 Q1298.8 1545.82 1300.6 1542.27 Q1302.43 1538.71 1302.43 1531.6 Q1302.43 1524.47 1300.6 1520.93 Q1298.8 1517.37 1295.16 1517.37 M1295.16 1513.66 Q1300.97 1513.66 1304.03 1518.27 Q1307.11 1522.85 1307.11 1531.6 Q1307.11 1540.33 1304.03 1544.94 Q1300.97 1549.52 1295.16 1549.52 Q1289.35 1549.52 1286.27 1544.94 Q1283.22 1540.33 1283.22 1531.6 Q1283.22 1522.85 1286.27 1518.27 Q1289.35 1513.66 1295.16 1513.66 Z\" fill=\"#000000\" fill-rule=\"evenodd\" fill-opacity=\"1\" /><path clip-path=\"url(#clip580)\" d=\"M1750.28 1544.91 L1757.92 1544.91 L1757.92 1518.55 L1749.61 1520.21 L1749.61 1515.95 L1757.87 1514.29 L1762.55 1514.29 L1762.55 1544.91 L1770.19 1544.91 L1770.19 1548.85 L1750.28 1548.85 L1750.28 1544.91 Z\" fill=\"#000000\" fill-rule=\"evenodd\" fill-opacity=\"1\" /><path clip-path=\"url(#clip580)\" d=\"M1779.63 1542.97 L1784.52 1542.97 L1784.52 1548.85 L1779.63 1548.85 L1779.63 1542.97 Z\" fill=\"#000000\" fill-rule=\"evenodd\" fill-opacity=\"1\" /><path clip-path=\"url(#clip580)\" d=\"M1794.75 1514.29 L1813.1 1514.29 L1813.1 1518.22 L1799.03 1518.22 L1799.03 1526.7 Q1800.05 1526.35 1801.07 1526.19 Q1802.09 1526 1803.1 1526 Q1808.89 1526 1812.27 1529.17 Q1815.65 1532.34 1815.65 1537.76 Q1815.65 1543.34 1812.18 1546.44 Q1808.71 1549.52 1802.39 1549.52 Q1800.21 1549.52 1797.94 1549.15 Q1795.7 1548.78 1793.29 1548.04 L1793.29 1543.34 Q1795.37 1544.47 1797.6 1545.03 Q1799.82 1545.58 1802.29 1545.58 Q1806.3 1545.58 1808.64 1543.48 Q1810.97 1541.37 1810.97 1537.76 Q1810.97 1534.15 1808.64 1532.04 Q1806.3 1529.94 1802.29 1529.94 Q1800.42 1529.94 1798.54 1530.35 Q1796.69 1530.77 1794.75 1531.65 L1794.75 1514.29 Z\" fill=\"#000000\" fill-rule=\"evenodd\" fill-opacity=\"1\" /><path clip-path=\"url(#clip580)\" d=\"M2262.91 1544.91 L2279.23 1544.91 L2279.23 1548.85 L2257.28 1548.85 L2257.28 1544.91 Q2259.95 1542.16 2264.53 1537.53 Q2269.14 1532.88 2270.32 1531.53 Q2272.56 1529.01 2273.44 1527.27 Q2274.34 1525.51 2274.34 1523.82 Q2274.34 1521.07 2272.4 1519.33 Q2270.48 1517.6 2267.38 1517.6 Q2265.18 1517.6 2262.72 1518.36 Q2260.29 1519.13 2257.52 1520.68 L2257.52 1515.95 Q2260.34 1514.82 2262.79 1514.24 Q2265.25 1513.66 2267.28 1513.66 Q2272.65 1513.66 2275.85 1516.35 Q2279.04 1519.03 2279.04 1523.52 Q2279.04 1525.65 2278.23 1527.57 Q2277.45 1529.47 2275.34 1532.07 Q2274.76 1532.74 2271.66 1535.95 Q2268.56 1539.15 2262.91 1544.91 Z\" fill=\"#000000\" fill-rule=\"evenodd\" fill-opacity=\"1\" /><path clip-path=\"url(#clip580)\" d=\"M2289.04 1542.97 L2293.93 1542.97 L2293.93 1548.85 L2289.04 1548.85 L2289.04 1542.97 Z\" fill=\"#000000\" fill-rule=\"evenodd\" fill-opacity=\"1\" /><path clip-path=\"url(#clip580)\" d=\"M2314.11 1517.37 Q2310.5 1517.37 2308.67 1520.93 Q2306.87 1524.47 2306.87 1531.6 Q2306.87 1538.71 2308.67 1542.27 Q2310.5 1545.82 2314.11 1545.82 Q2317.75 1545.82 2319.55 1542.27 Q2321.38 1538.71 2321.38 1531.6 Q2321.38 1524.47 2319.55 1520.93 Q2317.75 1517.37 2314.11 1517.37 M2314.11 1513.66 Q2319.92 1513.66 2322.98 1518.27 Q2326.06 1522.85 2326.06 1531.6 Q2326.06 1540.33 2322.98 1544.94 Q2319.92 1549.52 2314.11 1549.52 Q2308.3 1549.52 2305.22 1544.94 Q2302.17 1540.33 2302.17 1531.6 Q2302.17 1522.85 2305.22 1518.27 Q2308.3 1513.66 2314.11 1513.66 Z\" fill=\"#000000\" fill-rule=\"evenodd\" fill-opacity=\"1\" /><polyline clip-path=\"url(#clip582)\" style=\"stroke:#000000; stroke-linecap:butt; stroke-linejoin:round; stroke-width:2; stroke-opacity:0.1; fill:none\" points=\"\n",
       "  194.422,1169.75 2352.76,1169.75 \n",
       "  \"/>\n",
       "<polyline clip-path=\"url(#clip582)\" style=\"stroke:#000000; stroke-linecap:butt; stroke-linejoin:round; stroke-width:2; stroke-opacity:0.1; fill:none\" points=\"\n",
       "  194.422,849.548 2352.76,849.548 \n",
       "  \"/>\n",
       "<polyline clip-path=\"url(#clip582)\" style=\"stroke:#000000; stroke-linecap:butt; stroke-linejoin:round; stroke-width:2; stroke-opacity:0.1; fill:none\" points=\"\n",
       "  194.422,529.341 2352.76,529.341 \n",
       "  \"/>\n",
       "<polyline clip-path=\"url(#clip582)\" style=\"stroke:#000000; stroke-linecap:butt; stroke-linejoin:round; stroke-width:2; stroke-opacity:0.1; fill:none\" points=\"\n",
       "  194.422,209.135 2352.76,209.135 \n",
       "  \"/>\n",
       "<polyline clip-path=\"url(#clip580)\" style=\"stroke:#000000; stroke-linecap:butt; stroke-linejoin:round; stroke-width:4; stroke-opacity:1; fill:none\" points=\"\n",
       "  194.422,1486.45 194.422,47.2441 \n",
       "  \"/>\n",
       "<polyline clip-path=\"url(#clip580)\" style=\"stroke:#000000; stroke-linecap:butt; stroke-linejoin:round; stroke-width:4; stroke-opacity:1; fill:none\" points=\"\n",
       "  194.422,1169.75 213.32,1169.75 \n",
       "  \"/>\n",
       "<polyline clip-path=\"url(#clip580)\" style=\"stroke:#000000; stroke-linecap:butt; stroke-linejoin:round; stroke-width:4; stroke-opacity:1; fill:none\" points=\"\n",
       "  194.422,849.548 213.32,849.548 \n",
       "  \"/>\n",
       "<polyline clip-path=\"url(#clip580)\" style=\"stroke:#000000; stroke-linecap:butt; stroke-linejoin:round; stroke-width:4; stroke-opacity:1; fill:none\" points=\"\n",
       "  194.422,529.341 213.32,529.341 \n",
       "  \"/>\n",
       "<polyline clip-path=\"url(#clip580)\" style=\"stroke:#000000; stroke-linecap:butt; stroke-linejoin:round; stroke-width:4; stroke-opacity:1; fill:none\" points=\"\n",
       "  194.422,209.135 213.32,209.135 \n",
       "  \"/>\n",
       "<path clip-path=\"url(#clip580)\" d=\"M50.9921 1170.21 L80.6679 1170.21 L80.6679 1174.14 L50.9921 1174.14 L50.9921 1170.21 Z\" fill=\"#000000\" fill-rule=\"evenodd\" fill-opacity=\"1\" /><path clip-path=\"url(#clip580)\" d=\"M100.76 1155.55 Q97.1493 1155.55 95.3206 1159.12 Q93.515 1162.66 93.515 1169.79 Q93.515 1176.9 95.3206 1180.46 Q97.1493 1184 100.76 1184 Q104.395 1184 106.2 1180.46 Q108.029 1176.9 108.029 1169.79 Q108.029 1162.66 106.2 1159.12 Q104.395 1155.55 100.76 1155.55 M100.76 1151.85 Q106.571 1151.85 109.626 1156.46 Q112.705 1161.04 112.705 1169.79 Q112.705 1178.52 109.626 1183.12 Q106.571 1187.71 100.76 1187.71 Q94.9502 1187.71 91.8715 1183.12 Q88.816 1178.52 88.816 1169.79 Q88.816 1161.04 91.8715 1156.46 Q94.9502 1151.85 100.76 1151.85 Z\" fill=\"#000000\" fill-rule=\"evenodd\" fill-opacity=\"1\" /><path clip-path=\"url(#clip580)\" d=\"M120.922 1181.15 L125.807 1181.15 L125.807 1187.03 L120.922 1187.03 L120.922 1181.15 Z\" fill=\"#000000\" fill-rule=\"evenodd\" fill-opacity=\"1\" /><path clip-path=\"url(#clip580)\" d=\"M148.839 1156.55 L137.033 1175 L148.839 1175 L148.839 1156.55 M147.612 1152.47 L153.492 1152.47 L153.492 1175 L158.422 1175 L158.422 1178.89 L153.492 1178.89 L153.492 1187.03 L148.839 1187.03 L148.839 1178.89 L133.237 1178.89 L133.237 1174.37 L147.612 1152.47 Z\" fill=\"#000000\" fill-rule=\"evenodd\" fill-opacity=\"1\" /><path clip-path=\"url(#clip580)\" d=\"M53.0754 849.999 L82.7512 849.999 L82.7512 853.935 L53.0754 853.935 L53.0754 849.999 Z\" fill=\"#000000\" fill-rule=\"evenodd\" fill-opacity=\"1\" /><path clip-path=\"url(#clip580)\" d=\"M102.844 835.347 Q99.2326 835.347 97.4039 838.911 Q95.5984 842.453 95.5984 849.583 Q95.5984 856.689 97.4039 860.254 Q99.2326 863.796 102.844 863.796 Q106.478 863.796 108.283 860.254 Q110.112 856.689 110.112 849.583 Q110.112 842.453 108.283 838.911 Q106.478 835.347 102.844 835.347 M102.844 831.643 Q108.654 831.643 111.709 836.249 Q114.788 840.833 114.788 849.583 Q114.788 858.31 111.709 862.916 Q108.654 867.499 102.844 867.499 Q97.0335 867.499 93.9549 862.916 Q90.8993 858.31 90.8993 849.583 Q90.8993 840.833 93.9549 836.249 Q97.0335 831.643 102.844 831.643 Z\" fill=\"#000000\" fill-rule=\"evenodd\" fill-opacity=\"1\" /><path clip-path=\"url(#clip580)\" d=\"M123.006 860.948 L127.89 860.948 L127.89 866.828 L123.006 866.828 L123.006 860.948 Z\" fill=\"#000000\" fill-rule=\"evenodd\" fill-opacity=\"1\" /><path clip-path=\"url(#clip580)\" d=\"M142.103 862.893 L158.422 862.893 L158.422 866.828 L136.478 866.828 L136.478 862.893 Q139.14 860.138 143.723 855.509 Q148.33 850.856 149.51 849.513 Q151.755 846.99 152.635 845.254 Q153.538 843.495 153.538 841.805 Q153.538 839.05 151.593 837.314 Q149.672 835.578 146.57 835.578 Q144.371 835.578 141.918 836.342 Q139.487 837.106 136.709 838.657 L136.709 833.935 Q139.533 832.8 141.987 832.222 Q144.441 831.643 146.478 831.643 Q151.848 831.643 155.042 834.328 Q158.237 837.013 158.237 841.504 Q158.237 843.634 157.427 845.555 Q156.64 847.453 154.533 850.046 Q153.955 850.717 150.853 853.935 Q147.751 857.129 142.103 862.893 Z\" fill=\"#000000\" fill-rule=\"evenodd\" fill-opacity=\"1\" /><path clip-path=\"url(#clip580)\" d=\"M101.246 515.14 Q97.6354 515.14 95.8067 518.705 Q94.0012 522.247 94.0012 529.376 Q94.0012 536.483 95.8067 540.047 Q97.6354 543.589 101.246 543.589 Q104.881 543.589 106.686 540.047 Q108.515 536.483 108.515 529.376 Q108.515 522.247 106.686 518.705 Q104.881 515.14 101.246 515.14 M101.246 511.436 Q107.057 511.436 110.112 516.043 Q113.191 520.626 113.191 529.376 Q113.191 538.103 110.112 542.709 Q107.057 547.293 101.246 547.293 Q95.4363 547.293 92.3576 542.709 Q89.3021 538.103 89.3021 529.376 Q89.3021 520.626 92.3576 516.043 Q95.4363 511.436 101.246 511.436 Z\" fill=\"#000000\" fill-rule=\"evenodd\" fill-opacity=\"1\" /><path clip-path=\"url(#clip580)\" d=\"M121.408 540.742 L126.293 540.742 L126.293 546.621 L121.408 546.621 L121.408 540.742 Z\" fill=\"#000000\" fill-rule=\"evenodd\" fill-opacity=\"1\" /><path clip-path=\"url(#clip580)\" d=\"M146.478 515.14 Q142.867 515.14 141.038 518.705 Q139.232 522.247 139.232 529.376 Q139.232 536.483 141.038 540.047 Q142.867 543.589 146.478 543.589 Q150.112 543.589 151.918 540.047 Q153.746 536.483 153.746 529.376 Q153.746 522.247 151.918 518.705 Q150.112 515.14 146.478 515.14 M146.478 511.436 Q152.288 511.436 155.343 516.043 Q158.422 520.626 158.422 529.376 Q158.422 538.103 155.343 542.709 Q152.288 547.293 146.478 547.293 Q140.668 547.293 137.589 542.709 Q134.533 538.103 134.533 529.376 Q134.533 520.626 137.589 516.043 Q140.668 511.436 146.478 511.436 Z\" fill=\"#000000\" fill-rule=\"evenodd\" fill-opacity=\"1\" /><path clip-path=\"url(#clip580)\" d=\"M102.844 194.934 Q99.2326 194.934 97.4039 198.498 Q95.5984 202.04 95.5984 209.17 Q95.5984 216.276 97.4039 219.841 Q99.2326 223.383 102.844 223.383 Q106.478 223.383 108.283 219.841 Q110.112 216.276 110.112 209.17 Q110.112 202.04 108.283 198.498 Q106.478 194.934 102.844 194.934 M102.844 191.23 Q108.654 191.23 111.709 195.836 Q114.788 200.42 114.788 209.17 Q114.788 217.896 111.709 222.503 Q108.654 227.086 102.844 227.086 Q97.0335 227.086 93.9549 222.503 Q90.8993 217.896 90.8993 209.17 Q90.8993 200.42 93.9549 195.836 Q97.0335 191.23 102.844 191.23 Z\" fill=\"#000000\" fill-rule=\"evenodd\" fill-opacity=\"1\" /><path clip-path=\"url(#clip580)\" d=\"M123.006 220.535 L127.89 220.535 L127.89 226.415 L123.006 226.415 L123.006 220.535 Z\" fill=\"#000000\" fill-rule=\"evenodd\" fill-opacity=\"1\" /><path clip-path=\"url(#clip580)\" d=\"M142.103 222.48 L158.422 222.48 L158.422 226.415 L136.478 226.415 L136.478 222.48 Q139.14 219.725 143.723 215.096 Q148.33 210.443 149.51 209.1 Q151.755 206.577 152.635 204.841 Q153.538 203.082 153.538 201.392 Q153.538 198.637 151.593 196.901 Q149.672 195.165 146.57 195.165 Q144.371 195.165 141.918 195.929 Q139.487 196.693 136.709 198.244 L136.709 193.522 Q139.533 192.387 141.987 191.809 Q144.441 191.23 146.478 191.23 Q151.848 191.23 155.042 193.915 Q158.237 196.6 158.237 201.091 Q158.237 203.221 157.427 205.142 Q156.64 207.04 154.533 209.633 Q153.955 210.304 150.853 213.522 Q147.751 216.716 142.103 222.48 Z\" fill=\"#000000\" fill-rule=\"evenodd\" fill-opacity=\"1\" /><polyline clip-path=\"url(#clip582)\" style=\"stroke:#009af9; stroke-linecap:butt; stroke-linejoin:round; stroke-width:4; stroke-opacity:1; fill:none\" points=\"\n",
       "  257.164,1312.12 258.821,1297.98 260.478,1285.19 262.135,1273.29 263.792,1262.03 265.449,1251.29 267.106,1240.98 268.764,1231.04 272.594,1209.2 276.425,1188.69 \n",
       "  280.255,1169.24 284.086,1150.69 291.747,1115.79 299.408,1083.3 307.069,1052.76 314.73,1023.86 322.39,996.378 330.051,970.128 337.712,944.973 345.373,920.802 \n",
       "  353.034,897.522 360.695,875.056 376.017,832.309 391.339,792.138 400.547,769.097 409.755,746.812 418.963,725.233 428.171,704.315 446.587,664.315 465.002,626.553 \n",
       "  480.573,596.216 496.143,567.224 511.713,539.49 527.283,512.937 544.197,485.355 561.111,459.017 578.025,433.862 594.938,409.833 610.531,388.638 626.124,368.328 \n",
       "  641.717,348.874 657.31,330.248 674.027,311.174 690.744,293.001 707.462,275.704 724.179,259.263 743.548,241.26 762.916,224.353 782.285,208.521 801.653,193.739 \n",
       "  836.078,170.004 870.503,149.434 900.691,133.936 930.879,120.758 963.791,108.984 996.704,99.8657 1029.81,93.3232 1062.92,89.3742 1099.53,87.9763 1136.13,89.6433 \n",
       "  1170.96,94.0277 1205.79,101.097 1242,111.249 1278.22,124.213 1308.7,137.271 1339.19,152.261 1376.41,173.143 1413.62,196.817 1447.72,220.912 1481.81,247.271 \n",
       "  1513.3,273.594 1544.79,301.787 1576.69,332.222 1608.58,364.515 1644.33,402.876 1680.08,443.49 1712.47,482.201 1744.87,522.695 1781.95,571.205 1819.04,621.961 \n",
       "  1853.38,670.92 1887.72,721.727 1921.58,773.591 1955.43,827.18 1988.3,880.829 2021.17,936.04 2054.87,994.227 2088.57,1053.99 2125.49,1121.24 2162.41,1190.29 \n",
       "  2216.04,1293.74 2269.67,1400.78 2280.67,1423.18 2291.67,1445.72 \n",
       "  \"/>\n",
       "<polyline clip-path=\"url(#clip582)\" style=\"stroke:#e26f46; stroke-linecap:butt; stroke-linejoin:round; stroke-width:4; stroke-opacity:1; fill:none\" points=\"\n",
       "  1097.81,2925.65 1097.81,-1391.96 \n",
       "  \"/>\n",
       "<path clip-path=\"url(#clip580)\" d=\"\n",
       "M1565.77 198.898 L2280.81 198.898 L2280.81 95.2176 L1565.77 95.2176  Z\n",
       "  \" fill=\"#ffffff\" fill-rule=\"evenodd\" fill-opacity=\"1\"/>\n",
       "<polyline clip-path=\"url(#clip580)\" style=\"stroke:#000000; stroke-linecap:butt; stroke-linejoin:round; stroke-width:4; stroke-opacity:1; fill:none\" points=\"\n",
       "  1565.77,198.898 2280.81,198.898 2280.81,95.2176 1565.77,95.2176 1565.77,198.898 \n",
       "  \"/>\n",
       "<polyline clip-path=\"url(#clip580)\" style=\"stroke:#e26f46; stroke-linecap:butt; stroke-linejoin:round; stroke-width:4; stroke-opacity:1; fill:none\" points=\"\n",
       "  1589.75,147.058 1733.64,147.058 \n",
       "  \"/>\n",
       "<path clip-path=\"url(#clip580)\" d=\"M1757.62 129.778 L1779.47 129.778 L1779.47 133.713 L1762.3 133.713 L1762.3 143.944 L1778.75 143.944 L1778.75 147.879 L1762.3 147.879 L1762.3 160.402 L1779.89 160.402 L1779.89 164.338 L1757.62 164.338 L1757.62 129.778 Z\" fill=\"#000000\" fill-rule=\"evenodd\" fill-opacity=\"1\" /><path clip-path=\"url(#clip580)\" d=\"M1789.93 151.398 Q1789.93 156.097 1791.86 158.782 Q1793.8 161.444 1797.18 161.444 Q1800.56 161.444 1802.5 158.782 Q1804.45 156.097 1804.45 151.398 Q1804.45 146.699 1802.5 144.037 Q1800.56 141.352 1797.18 141.352 Q1793.8 141.352 1791.86 144.037 Q1789.93 146.699 1789.93 151.398 M1804.45 160.449 Q1803.11 162.763 1801.05 163.898 Q1799.01 165.009 1796.14 165.009 Q1791.44 165.009 1788.48 161.259 Q1785.54 157.509 1785.54 151.398 Q1785.54 145.287 1788.48 141.537 Q1791.44 137.787 1796.14 137.787 Q1799.01 137.787 1801.05 138.921 Q1803.11 140.032 1804.45 142.347 L1804.45 138.412 L1808.71 138.412 L1808.71 174.199 L1804.45 174.199 L1804.45 160.449 Z\" fill=\"#000000\" fill-rule=\"evenodd\" fill-opacity=\"1\" /><path clip-path=\"url(#clip580)\" d=\"M1817.04 154.106 L1817.04 138.412 L1821.3 138.412 L1821.3 153.944 Q1821.3 157.625 1822.73 159.476 Q1824.17 161.305 1827.04 161.305 Q1830.49 161.305 1832.48 159.106 Q1834.49 156.907 1834.49 153.111 L1834.49 138.412 L1838.75 138.412 L1838.75 164.338 L1834.49 164.338 L1834.49 160.356 Q1832.94 162.717 1830.88 163.875 Q1828.85 165.009 1826.14 165.009 Q1821.67 165.009 1819.36 162.231 Q1817.04 159.453 1817.04 154.106 M1827.76 137.787 L1827.76 137.787 Z\" fill=\"#000000\" fill-rule=\"evenodd\" fill-opacity=\"1\" /><path clip-path=\"url(#clip580)\" d=\"M1847.53 138.412 L1851.79 138.412 L1851.79 164.338 L1847.53 164.338 L1847.53 138.412 M1847.53 128.319 L1851.79 128.319 L1851.79 133.713 L1847.53 133.713 L1847.53 128.319 Z\" fill=\"#000000\" fill-rule=\"evenodd\" fill-opacity=\"1\" /><path clip-path=\"url(#clip580)\" d=\"M1860.7 128.319 L1864.96 128.319 L1864.96 164.338 L1860.7 164.338 L1860.7 128.319 Z\" fill=\"#000000\" fill-rule=\"evenodd\" fill-opacity=\"1\" /><path clip-path=\"url(#clip580)\" d=\"M1873.87 138.412 L1878.13 138.412 L1878.13 164.338 L1873.87 164.338 L1873.87 138.412 M1873.87 128.319 L1878.13 128.319 L1878.13 133.713 L1873.87 133.713 L1873.87 128.319 Z\" fill=\"#000000\" fill-rule=\"evenodd\" fill-opacity=\"1\" /><path clip-path=\"url(#clip580)\" d=\"M1905.65 151.398 Q1905.65 146.699 1903.71 144.037 Q1901.79 141.352 1898.41 141.352 Q1895.03 141.352 1893.08 144.037 Q1891.16 146.699 1891.16 151.398 Q1891.16 156.097 1893.08 158.782 Q1895.03 161.444 1898.41 161.444 Q1901.79 161.444 1903.71 158.782 Q1905.65 156.097 1905.65 151.398 M1891.16 142.347 Q1892.5 140.032 1894.54 138.921 Q1896.6 137.787 1899.45 137.787 Q1904.17 137.787 1907.11 141.537 Q1910.07 145.287 1910.07 151.398 Q1910.07 157.509 1907.11 161.259 Q1904.17 165.009 1899.45 165.009 Q1896.6 165.009 1894.54 163.898 Q1892.5 162.763 1891.16 160.449 L1891.16 164.338 L1886.88 164.338 L1886.88 128.319 L1891.16 128.319 L1891.16 142.347 Z\" fill=\"#000000\" fill-rule=\"evenodd\" fill-opacity=\"1\" /><path clip-path=\"url(#clip580)\" d=\"M1932.16 142.393 Q1931.44 141.977 1930.58 141.791 Q1929.75 141.583 1928.73 141.583 Q1925.12 141.583 1923.17 143.944 Q1921.25 146.282 1921.25 150.68 L1921.25 164.338 L1916.97 164.338 L1916.97 138.412 L1921.25 138.412 L1921.25 142.44 Q1922.6 140.078 1924.75 138.944 Q1926.9 137.787 1929.98 137.787 Q1930.42 137.787 1930.95 137.856 Q1931.48 137.903 1932.13 138.018 L1932.16 142.393 Z\" fill=\"#000000\" fill-rule=\"evenodd\" fill-opacity=\"1\" /><path clip-path=\"url(#clip580)\" d=\"M1936.62 138.412 L1940.88 138.412 L1940.88 164.338 L1936.62 164.338 L1936.62 138.412 M1936.62 128.319 L1940.88 128.319 L1940.88 133.713 L1936.62 133.713 L1936.62 128.319 Z\" fill=\"#000000\" fill-rule=\"evenodd\" fill-opacity=\"1\" /><path clip-path=\"url(#clip580)\" d=\"M1949.35 154.106 L1949.35 138.412 L1953.61 138.412 L1953.61 153.944 Q1953.61 157.625 1955.05 159.476 Q1956.48 161.305 1959.35 161.305 Q1962.8 161.305 1964.79 159.106 Q1966.81 156.907 1966.81 153.111 L1966.81 138.412 L1971.07 138.412 L1971.07 164.338 L1966.81 164.338 L1966.81 160.356 Q1965.26 162.717 1963.2 163.875 Q1961.16 165.009 1958.45 165.009 Q1953.98 165.009 1951.67 162.231 Q1949.35 159.453 1949.35 154.106 M1960.07 137.787 L1960.07 137.787 Z\" fill=\"#000000\" fill-rule=\"evenodd\" fill-opacity=\"1\" /><path clip-path=\"url(#clip580)\" d=\"M2000.03 143.389 Q2001.62 140.518 2003.85 139.153 Q2006.07 137.787 2009.08 137.787 Q2013.13 137.787 2015.33 140.634 Q2017.53 143.458 2017.53 148.689 L2017.53 164.338 L2013.24 164.338 L2013.24 148.828 Q2013.24 145.102 2011.92 143.296 Q2010.6 141.49 2007.9 141.49 Q2004.59 141.49 2002.66 143.69 Q2000.74 145.889 2000.74 149.685 L2000.74 164.338 L1996.46 164.338 L1996.46 148.828 Q1996.46 145.078 1995.14 143.296 Q1993.82 141.49 1991.07 141.49 Q1987.8 141.49 1985.88 143.713 Q1983.96 145.912 1983.96 149.685 L1983.96 164.338 L1979.68 164.338 L1979.68 138.412 L1983.96 138.412 L1983.96 142.44 Q1985.42 140.055 1987.46 138.921 Q1989.49 137.787 1992.29 137.787 Q1995.12 137.787 1997.09 139.222 Q1999.08 140.657 2000.03 143.389 Z\" fill=\"#000000\" fill-rule=\"evenodd\" fill-opacity=\"1\" /><path clip-path=\"url(#clip580)\" d=\"M2043.64 151.398 Q2043.64 156.097 2045.56 158.782 Q2047.5 161.444 2050.88 161.444 Q2054.26 161.444 2056.21 158.782 Q2058.15 156.097 2058.15 151.398 Q2058.15 146.699 2056.21 144.037 Q2054.26 141.352 2050.88 141.352 Q2047.5 141.352 2045.56 144.037 Q2043.64 146.699 2043.64 151.398 M2058.15 160.449 Q2056.81 162.763 2054.75 163.898 Q2052.71 165.009 2049.84 165.009 Q2045.14 165.009 2042.18 161.259 Q2039.24 157.509 2039.24 151.398 Q2039.24 145.287 2042.18 141.537 Q2045.14 137.787 2049.84 137.787 Q2052.71 137.787 2054.75 138.921 Q2056.81 140.032 2058.15 142.347 L2058.15 138.412 L2062.41 138.412 L2062.41 174.199 L2058.15 174.199 L2058.15 160.449 Z\" fill=\"#000000\" fill-rule=\"evenodd\" fill-opacity=\"1\" /><path clip-path=\"url(#clip580)\" d=\"M2070.74 154.106 L2070.74 138.412 L2075 138.412 L2075 153.944 Q2075 157.625 2076.44 159.476 Q2077.87 161.305 2080.74 161.305 Q2084.19 161.305 2086.18 159.106 Q2088.2 156.907 2088.2 153.111 L2088.2 138.412 L2092.46 138.412 L2092.46 164.338 L2088.2 164.338 L2088.2 160.356 Q2086.65 162.717 2084.59 163.875 Q2082.55 165.009 2079.84 165.009 Q2075.37 165.009 2073.06 162.231 Q2070.74 159.453 2070.74 154.106 M2081.46 137.787 L2081.46 137.787 Z\" fill=\"#000000\" fill-rule=\"evenodd\" fill-opacity=\"1\" /><path clip-path=\"url(#clip580)\" d=\"M2113.01 151.305 Q2107.85 151.305 2105.86 152.486 Q2103.87 153.666 2103.87 156.514 Q2103.87 158.782 2105.35 160.125 Q2106.85 161.444 2109.42 161.444 Q2112.96 161.444 2115.09 158.944 Q2117.25 156.421 2117.25 152.254 L2117.25 151.305 L2113.01 151.305 M2121.51 149.546 L2121.51 164.338 L2117.25 164.338 L2117.25 160.402 Q2115.79 162.763 2113.61 163.898 Q2111.44 165.009 2108.29 165.009 Q2104.31 165.009 2101.95 162.787 Q2099.61 160.541 2099.61 156.791 Q2099.61 152.416 2102.53 150.194 Q2105.46 147.972 2111.28 147.972 L2117.25 147.972 L2117.25 147.555 Q2117.25 144.615 2115.3 143.018 Q2113.38 141.398 2109.89 141.398 Q2107.66 141.398 2105.56 141.93 Q2103.45 142.463 2101.51 143.527 L2101.51 139.592 Q2103.84 138.69 2106.04 138.25 Q2108.24 137.787 2110.33 137.787 Q2115.95 137.787 2118.73 140.703 Q2121.51 143.62 2121.51 149.546 Z\" fill=\"#000000\" fill-rule=\"evenodd\" fill-opacity=\"1\" /><path clip-path=\"url(#clip580)\" d=\"M2151.83 148.689 L2151.83 164.338 L2147.57 164.338 L2147.57 148.828 Q2147.57 145.148 2146.14 143.319 Q2144.7 141.49 2141.83 141.49 Q2138.38 141.49 2136.39 143.69 Q2134.4 145.889 2134.4 149.685 L2134.4 164.338 L2130.12 164.338 L2130.12 138.412 L2134.4 138.412 L2134.4 142.44 Q2135.93 140.102 2137.99 138.944 Q2140.07 137.787 2142.78 137.787 Q2147.25 137.787 2149.54 140.565 Q2151.83 143.319 2151.83 148.689 Z\" fill=\"#000000\" fill-rule=\"evenodd\" fill-opacity=\"1\" /><path clip-path=\"url(#clip580)\" d=\"M2164.54 131.051 L2164.54 138.412 L2173.31 138.412 L2173.31 141.722 L2164.54 141.722 L2164.54 155.796 Q2164.54 158.967 2165.4 159.87 Q2166.27 160.773 2168.94 160.773 L2173.31 160.773 L2173.31 164.338 L2168.94 164.338 Q2164.01 164.338 2162.13 162.509 Q2160.26 160.657 2160.26 155.796 L2160.26 141.722 L2157.13 141.722 L2157.13 138.412 L2160.26 138.412 L2160.26 131.051 L2164.54 131.051 Z\" fill=\"#000000\" fill-rule=\"evenodd\" fill-opacity=\"1\" /><path clip-path=\"url(#clip580)\" d=\"M2178.91 138.412 L2183.17 138.412 L2183.17 164.338 L2178.91 164.338 L2178.91 138.412 M2178.91 128.319 L2183.17 128.319 L2183.17 133.713 L2178.91 133.713 L2178.91 128.319 Z\" fill=\"#000000\" fill-rule=\"evenodd\" fill-opacity=\"1\" /><path clip-path=\"url(#clip580)\" d=\"M2196.3 131.051 L2196.3 138.412 L2205.07 138.412 L2205.07 141.722 L2196.3 141.722 L2196.3 155.796 Q2196.3 158.967 2197.15 159.87 Q2198.03 160.773 2200.7 160.773 L2205.07 160.773 L2205.07 164.338 L2200.7 164.338 Q2195.77 164.338 2193.89 162.509 Q2192.02 160.657 2192.02 155.796 L2192.02 141.722 L2188.89 141.722 L2188.89 138.412 L2192.02 138.412 L2192.02 131.051 L2196.3 131.051 Z\" fill=\"#000000\" fill-rule=\"evenodd\" fill-opacity=\"1\" /><path clip-path=\"url(#clip580)\" d=\"M2221.46 166.745 Q2219.65 171.375 2217.94 172.787 Q2216.23 174.199 2213.36 174.199 L2209.96 174.199 L2209.96 170.634 L2212.46 170.634 Q2214.21 170.634 2215.19 169.8 Q2216.16 168.967 2217.34 165.865 L2218.1 163.921 L2207.62 138.412 L2212.13 138.412 L2220.23 158.689 L2228.33 138.412 L2232.85 138.412 L2221.46 166.745 Z\" fill=\"#000000\" fill-rule=\"evenodd\" fill-opacity=\"1\" /></svg>\n"
      ]
     },
     "metadata": {},
     "output_type": "display_data"
    }
   ],
   "source": [
    "pl = plot()\n",
    "plot!(pl, Π, 0, 2, label = \"\")\n",
    "vline!([max], label = \"Equilibrium quantity\")"
   ]
  },
  {
   "cell_type": "markdown",
   "metadata": {},
   "source": [
    "---\n",
    "\n",
    "## Exercise: constrained optimization\n",
    "\n",
    "Consider the function $f(x,y) = 1-(x-0.5)^2 -(y-0.3)^2$.\n",
    "\n",
    "__Use Optim.jl to minimize $f$ without constraint. Check you understand diagnostic information returned by the optimizer.__"
   ]
  },
  {
   "cell_type": "code",
   "execution_count": 82,
   "metadata": {},
   "outputs": [
    {
     "name": "stderr",
     "output_type": "stream",
     "text": [
      "\u001b[32m\u001b[1m   Resolving\u001b[22m\u001b[39m package versions...\n",
      "\u001b[32m\u001b[1m  No Changes\u001b[22m\u001b[39m to `C:\\Users\\tress\\.julia\\environments\\v1.7\\Project.toml`\n",
      "\u001b[32m\u001b[1m  No Changes\u001b[22m\u001b[39m to `C:\\Users\\tress\\.julia\\environments\\v1.7\\Manifest.toml`\n"
     ]
    }
   ],
   "source": [
    "import Pkg; Pkg.add(\"Optim\")\n",
    "\n",
    "using Optim"
   ]
  },
  {
   "cell_type": "code",
   "execution_count": 92,
   "metadata": {},
   "outputs": [
    {
     "data": {
      "text/plain": [
       "f (generic function with 2 methods)"
      ]
     },
     "metadata": {},
     "output_type": "display_data"
    }
   ],
   "source": [
    "f(x) = (x[1] - 0.5)^2 + (x[2] - 0.3)^2 - 1"
   ]
  },
  {
   "cell_type": "code",
   "execution_count": 106,
   "metadata": {},
   "outputs": [
    {
     "data": {
      "text/plain": [
       " * Status: success\n",
       "\n",
       " * Candidate solution\n",
       "    Final objective value:     -1.000000e+00\n",
       "\n",
       " * Found with\n",
       "    Algorithm:     Nelder-Mead\n",
       "\n",
       " * Convergence measures\n",
       "    √(Σ(yᵢ-ȳ)²)/n ≤ 1.0e-08\n",
       "\n",
       " * Work counters\n",
       "    Seconds run:   0  (vs limit Inf)\n",
       "    Iterations:    34\n",
       "    f(x) calls:    66\n"
      ]
     },
     "metadata": {},
     "output_type": "display_data"
    }
   ],
   "source": [
    "optimize(f, [0.0, 0.0])"
   ]
  },
  {
   "cell_type": "code",
   "execution_count": 107,
   "metadata": {},
   "outputs": [
    {
     "data": {
      "text/plain": [
       "2-element Vector{Float64}:\n",
       " 0.5000172833186103\n",
       " 0.2999408484491455"
      ]
     },
     "metadata": {},
     "output_type": "display_data"
    }
   ],
   "source": [
    "optimize(f, [0.0, 0.0]).minimizer"
   ]
  },
  {
   "cell_type": "markdown",
   "metadata": {},
   "source": [
    "__Now, consider the constraint $x<0.3$ and maximize $f$ under this new constraint.__"
   ]
  },
  {
   "cell_type": "code",
   "execution_count": 101,
   "metadata": {},
   "outputs": [
    {
     "data": {
      "text/plain": [
       " * Status: success\n",
       "\n",
       " * Candidate solution\n",
       "    Final objective value:     -9.600000e-01\n",
       "\n",
       " * Found with\n",
       "    Algorithm:     Fminbox with L-BFGS\n",
       "\n",
       " * Convergence measures\n",
       "    |x - x'|               = 1.20e-06 ≰ 0.0e+00\n",
       "    |x - x'|/|x'|          = 2.83e-06 ≰ 0.0e+00\n",
       "    |f(x) - f(x')|         = 0.00e+00 ≤ 0.0e+00\n",
       "    |f(x) - f(x')|/|f(x')| = 0.00e+00 ≤ 0.0e+00\n",
       "    |g(x)|                 = 1.20e-09 ≤ 1.0e-08\n",
       "\n",
       " * Work counters\n",
       "    Seconds run:   0  (vs limit Inf)\n",
       "    Iterations:    3\n",
       "    f(x) calls:    56\n",
       "    ∇f(x) calls:   56\n"
      ]
     },
     "metadata": {},
     "output_type": "display_data"
    }
   ],
   "source": [
    "lower = [-Inf, -Inf]\n",
    "upper = [0.3, Inf]\n",
    "optimize(f, lower, upper, [0.0, 0.0])"
   ]
  },
  {
   "cell_type": "code",
   "execution_count": 108,
   "metadata": {},
   "outputs": [
    {
     "data": {
      "text/plain": [
       "2-element Vector{Float64}:\n",
       " 0.2999999988\n",
       " 0.2999999999957357"
      ]
     },
     "metadata": {},
     "output_type": "display_data"
    }
   ],
   "source": [
    "optimize(f, lower, upper, [0.0, 0.0]).minimizer"
   ]
  },
  {
   "cell_type": "markdown",
   "metadata": {},
   "source": [
    "__Reformulate the problem as a root finding with lagrangians. Write the complementarity conditions.__"
   ]
  },
  {
   "cell_type": "code",
   "execution_count": null,
   "metadata": {},
   "outputs": [],
   "source": []
  },
  {
   "cell_type": "markdown",
   "metadata": {},
   "source": [
    "__Solve using NLSolve.jl__"
   ]
  },
  {
   "cell_type": "code",
   "execution_count": null,
   "metadata": {},
   "outputs": [],
   "source": []
  },
  {
   "cell_type": "markdown",
   "metadata": {},
   "source": [
    "---\n",
    "\n",
    "## Consumption optimization\n",
    "\n",
    "A consumer has preferences $U(c_1, c_2)$ over two consumption goods $c_1$ and $c_2$.\n",
    "\n",
    "Given a budget $I$, consumer wants to maximize utility subject to the budget constraint $p_1 c_1 + p_2 c_2 \\leq I$.\n",
    "\n",
    "We choose a Stone-Geary specification where\n",
    "\n",
    "$U(c_1, c_2)=\\beta_1 \\log(c_1-\\gamma_1) + \\beta_2 \\log(c_2-\\gamma_2)$\n",
    "\n",
    "__Write the Karush-Kuhn-Tucker necessary conditions for the problem.__"
   ]
  },
  {
   "cell_type": "code",
   "execution_count": null,
   "metadata": {},
   "outputs": [],
   "source": []
  },
  {
   "cell_type": "markdown",
   "metadata": {},
   "source": [
    "__Verify the KKT conditions are sufficient for optimality.__"
   ]
  },
  {
   "cell_type": "code",
   "execution_count": null,
   "metadata": {},
   "outputs": [],
   "source": []
  },
  {
   "cell_type": "markdown",
   "metadata": {},
   "source": [
    "__Derive analytically the demand functions, and the shadow price.__"
   ]
  },
  {
   "cell_type": "code",
   "execution_count": null,
   "metadata": {},
   "outputs": [],
   "source": []
  },
  {
   "cell_type": "markdown",
   "metadata": {},
   "source": [
    "__Interpret this problem as a complementarity problem and solve it using NLSolve.__"
   ]
  },
  {
   "cell_type": "code",
   "execution_count": null,
   "metadata": {},
   "outputs": [],
   "source": []
  },
  {
   "cell_type": "markdown",
   "metadata": {},
   "source": [
    "__Produce some nice graphs with isoutility curves, the budget constraint and the optimal choice.__\n",
    "\n"
   ]
  },
  {
   "cell_type": "code",
   "execution_count": null,
   "metadata": {},
   "outputs": [],
   "source": []
  }
 ],
 "metadata": {
  "kernelspec": {
   "display_name": "Julia 1.7.2",
   "language": "julia",
   "name": "julia-1.7"
  },
  "language_info": {
   "file_extension": ".jl",
   "mimetype": "application/julia",
   "name": "julia",
   "version": "1.7.2"
  }
 },
 "nbformat": 4,
 "nbformat_minor": 4
}
