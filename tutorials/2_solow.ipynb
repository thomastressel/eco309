{
 "cells": [
  {
   "cell_type": "markdown",
   "metadata": {
    "tags": []
   },
   "source": [
    "---\n",
    "\n",
    "## (modified) Solow model\n",
    "\n",
    "This model tries to explain long-term productivity, its relation to productivity and the speed of convergence.\n",
    "\n",
    "The setup is the following:\n",
    "\n",
    "- a country accumulates capital $k_t$\n",
    "- population $n_t$ grows at rate $g$ (so that $n_{t+1}=g n_t$)\n",
    "- capital and labour are combined to produce $y_t = A F(k_t, n_t)$ where $A>0$ is total factor productivity.\n",
    "- capital depreciates at rate $\\delta \\in ]0,1[$. Its law of motion is $k_{t+1}=(1-\\delta)k_{t}+i_{t}$ where $i_t$ is the amount invested at time $t$\n",
    "- production is either consumed or invested: $y_t = c_t + i_t$\n",
    "\n",
    "We choose a Cobb-Douglas specification with constant returns to scale $F(k_t, n_t) = k_t^{\\alpha} n_t^{1-\\alpha}$.\n",
    "\n",
    "In the Ramsey–Cass–Koopmans  model (also called neoclassical growth model), a representative agent would choose $c_t$ in every period so as to maximize an intertemporal utility like $\\sum_{t \\geq 0} \\beta^t U(c_t)$ where $\\beta \\in [0,1[$ is a time discount and $U(x)=\\frac{x^{1-\\gamma}}{1-\\gamma}$ is the instantaneous felicity.\n",
    "\n",
    "Here we follow the Solow-Swan specification and assume instead there is a fixed fraction $s\\in[0,1[$ of income in every period, which is saved and invested in every period. In other words investment (or savings) is given by:\n",
    "\n",
    "$$i_t = s y_t$$\n",
    "\n",
    "As a result, the dynamic of capital and all other variables will be backward looking and can be simulated easily."
   ]
  },
  {
   "cell_type": "markdown",
   "metadata": {},
   "source": [
    "__Calibrate parameters $\\beta$, $\\delta$ and $g$, that is, propose plausible values for them, from the litterature, or by matching some observable fact.__"
   ]
  },
  {
   "cell_type": "markdown",
   "metadata": {},
   "source": [
    "We set $\\alpha = 0.3$, which we take from historical data.\n",
    "\n",
    "For the interest rate $i$, I propose a value of $4\\%$, which is a common example used in the literature. Then, we have $\\beta = \\frac{1}{1 + i} = 0.96$.\n",
    "\n",
    "Here, we use $s = 0.2$.\n",
    "\n",
    "We can use a value of $10\\%$ for $\\delta$, since this is also a commonly used figure.\n",
    "\n",
    "Finally, we set $g = 101\\%$, the current global propulation growth."
   ]
  },
  {
   "cell_type": "markdown",
   "metadata": {},
   "source": [
    "__Detrend the equations of the model w.r.t. population growth. Denote the detrended variables with a hat (in the code we assume all variables are detrended and ignore the hat).__"
   ]
  },
  {
   "cell_type": "markdown",
   "metadata": {},
   "source": [
    "The capital rate is the partial derivative of production wrt capital. Multiplying this gives us the capital income $rK = \\alpha y$.\n",
    "\n",
    "Similarly, labor income is given by $w L = (1- \\alpha) y$.\n",
    "\n",
    "We detrend the equations and obtain the following:\n",
    "$$\n",
    "\\hat{k}_t = \\frac{(1 - \\delta) k_{t - 1} + i_{t - 1}}{g}\n",
    "$$\n",
    "$$\n",
    "\\hat{y}_t = k_t^\\alpha\n",
    "$$\n",
    "$$\n",
    "\\hat{y}_t = c_t + i_t\n",
    "$$\n",
    "$$\n",
    "\\hat{i}_t = s y_t\n",
    "$$"
   ]
  },
  {
   "cell_type": "markdown",
   "metadata": {},
   "source": [
    "Our goal is to compute the steady-state and assess its stability.\n",
    "\n",
    "__Compute a function `f` which returns the capital $\\hat{k}_{t+1}$ as a function of $\\hat{k_t}$. It is suggested to define `f(k::Float64, p::Dict{Symbol, Float64})` where `p` is a dictionary of parameters.__"
   ]
  },
  {
   "cell_type": "markdown",
   "metadata": {},
   "source": [
    " (note: such a dictionary can be defined as `p = Dict(:a=>0.9, :b=>4)` and accessed with brackets `p[:a]` or `p[:b]`) (note2: symbols like `:a` or `:b` are lightweight string. The content must be a valid julia identifier so that it is valid to write `a=p[:a]`)"
   ]
  },
  {
   "cell_type": "code",
   "execution_count": 1,
   "metadata": {},
   "outputs": [
    {
     "data": {
      "text/plain": [
       "Dict{Symbol, Float64} with 5 entries:\n",
       "  :α => 0.3\n",
       "  :s => 0.2\n",
       "  :δ => 0.1\n",
       "  :g => 1.01\n",
       "  :β => 0.96"
      ]
     },
     "metadata": {},
     "output_type": "display_data"
    }
   ],
   "source": [
    "p = Dict(\n",
    "    :α=>0.3,\n",
    "    :β=>0.96,\n",
    "    :δ=>0.1,\n",
    "    :g=>1.01,\n",
    "    :s=>0.2\n",
    ")"
   ]
  },
  {
   "cell_type": "code",
   "execution_count": 2,
   "metadata": {},
   "outputs": [
    {
     "data": {
      "text/plain": [
       "f (generic function with 1 method)"
      ]
     },
     "metadata": {},
     "output_type": "display_data"
    }
   ],
   "source": [
    "function f(k0, p::Dict{Symbol, Float64})\n",
    "    y0 = k0^p[:α]\n",
    "    i0 = p[:s]*y0\n",
    "    k1 = (k0*(1 - p[:δ]) + i0) / (p[:g])\n",
    "    return k1\n",
    "end"
   ]
  },
  {
   "cell_type": "code",
   "execution_count": 3,
   "metadata": {},
   "outputs": [
    {
     "data": {
      "text/plain": [
       "9.3059925376176"
      ]
     },
     "metadata": {},
     "output_type": "display_data"
    }
   ],
   "source": [
    "f(10, p)"
   ]
  },
  {
   "cell_type": "markdown",
   "metadata": {},
   "source": [
    "__Starting from an initial level $\\hat{k}_0$ compute successive iterates of `f` to find the long-run level $\\overline{k}$ of capital per capita. (Bonus: produce a nice plot of the convergence)__"
   ]
  },
  {
   "cell_type": "code",
   "execution_count": 4,
   "metadata": {},
   "outputs": [
    {
     "data": {
      "text/plain": [
       "recursive_steps (generic function with 1 method)"
      ]
     },
     "metadata": {},
     "output_type": "display_data"
    }
   ],
   "source": [
    "function recursive_steps(fun, x0, args...; N=100)\n",
    "    values = Float64[x0]\n",
    "    for n=1:N\n",
    "        x0 = values[end]\n",
    "        x1 = fun(x0, args...)\n",
    "        push!(values, x1)\n",
    "    end\n",
    "    return values\n",
    "end"
   ]
  },
  {
   "cell_type": "code",
   "execution_count": 5,
   "metadata": {},
   "outputs": [
    {
     "data": {
      "text/plain": [
       "101-element Vector{Float64}:\n",
       " 0.5\n",
       " 0.6063866131398485\n",
       " 0.7107695855269803\n",
       " 0.812101308038866\n",
       " 0.9096883570997635\n",
       " 1.0030893113343788\n",
       " 1.0920450879310866\n",
       " 1.176429808153857\n",
       " 1.2562152493282885\n",
       " 1.3314446313777966\n",
       " ⋮\n",
       " 2.3476131685985817\n",
       " 2.347730195704665\n",
       " 2.3478383026256426\n",
       " 2.3479381691683163\n",
       " 2.348030423348851\n",
       " 2.348115645335857\n",
       " 2.3481943710936406\n",
       " 2.348267095748365\n",
       " 2.348334276698156"
      ]
     },
     "metadata": {},
     "output_type": "display_data"
    }
   ],
   "source": [
    "simulations = recursive_steps(f, 0.5, p)"
   ]
  },
  {
   "cell_type": "code",
   "execution_count": 6,
   "metadata": {},
   "outputs": [
    {
     "name": "stderr",
     "output_type": "stream",
     "text": [
      "\u001b[32m\u001b[1m    Updating\u001b[22m\u001b[39m registry at `C:\\Users\\tress\\.julia\\registries\\General.toml`\n",
      "\u001b[32m\u001b[1m   Resolving\u001b[22m\u001b[39m package versions...\n",
      "\u001b[32m\u001b[1m  No Changes\u001b[22m\u001b[39m to `C:\\Users\\tress\\.julia\\environments\\v1.7\\Project.toml`\n",
      "\u001b[32m\u001b[1m  No Changes\u001b[22m\u001b[39m to `C:\\Users\\tress\\.julia\\environments\\v1.7\\Manifest.toml`\n"
     ]
    }
   ],
   "source": [
    "import Pkg; Pkg.add(\"Plots\")\n",
    "\n",
    "using Plots"
   ]
  },
  {
   "cell_type": "code",
   "execution_count": 14,
   "metadata": {},
   "outputs": [
    {
     "data": {
      "image/png": "[encoded data removed]",
      "image/svg+xml": "<?xml version=\"1.0\" encoding=\"utf-8\"?>\n<svg xmlns=\"http://www.w3.org/2000/svg\" xmlns:xlink=\"http://www.w3.org/1999/xlink\" width=\"600\" height=\"400\" viewBox=\"0 0 2400 1600\">\n<defs>\n  <clipPath id=\"clip410\">\n    <rect x=\"0\" y=\"0\" width=\"2400\" height=\"1600\"/>\n  </clipPath>\n</defs>\n<path clip-path=\"url(#clip410)\" d=\"\nM0 1600 L2400 1600 L2400 0 L0 0  Z\n  \" fill=\"#ffffff\" fill-rule=\"evenodd\" fill-opacity=\"1\"/>\n<defs>\n  <clipPath id=\"clip411\">\n    <rect x=\"480\" y=\"0\" width=\"1681\" height=\"1600\"/>\n  </clipPath>\n</defs>\n<path clip-path=\"url(#clip410)\" d=\"\nM155.765 1486.45 L2352.76 1486.45 L2352.76 47.2441 L155.765 47.2441  Z\n  \" fill=\"#ffffff\" fill-rule=\"evenodd\" fill-opacity=\"1\"/>\n<defs>\n  <clipPath id=\"clip412\">\n    <rect x=\"155\" y=\"47\" width=\"2198\" height=\"1440\"/>\n  </clipPath>\n</defs>\n<polyline clip-path=\"url(#clip412)\" style=\"stroke:#000000; stroke-linecap:butt; stroke-linejoin:round; stroke-width:2; stroke-opacity:0.1; fill:none\" points=\"\n  197.218,1486.45 197.218,47.2441 \n  \"/>\n<polyline clip-path=\"url(#clip412)\" style=\"stroke:#000000; stroke-linecap:butt; stroke-linejoin:round; stroke-width:2; stroke-opacity:0.1; fill:none\" points=\"\n  715.376,1486.45 715.376,47.2441 \n  \"/>\n<polyline clip-path=\"url(#clip412)\" style=\"stroke:#000000; stroke-linecap:butt; stroke-linejoin:round; stroke-width:2; stroke-opacity:0.1; fill:none\" points=\"\n  1233.53,1486.45 1233.53,47.2441 \n  \"/>\n<polyline clip-path=\"url(#clip412)\" style=\"stroke:#000000; stroke-linecap:butt; stroke-linejoin:round; stroke-width:2; stroke-opacity:0.1; fill:none\" points=\"\n  1751.69,1486.45 1751.69,47.2441 \n  \"/>\n<polyline clip-path=\"url(#clip412)\" style=\"stroke:#000000; stroke-linecap:butt; stroke-linejoin:round; stroke-width:2; stroke-opacity:0.1; fill:none\" points=\"\n  2269.85,1486.45 2269.85,47.2441 \n  \"/>\n<polyline clip-path=\"url(#clip410)\" style=\"stroke:#000000; stroke-linecap:butt; stroke-linejoin:round; stroke-width:4; stroke-opacity:1; fill:none\" points=\"\n  155.765,1486.45 2352.76,1486.45 \n  \"/>\n<polyline clip-path=\"url(#clip410)\" style=\"stroke:#000000; stroke-linecap:butt; stroke-linejoin:round; stroke-width:4; stroke-opacity:1; fill:none\" points=\"\n  197.218,1486.45 197.218,1467.55 \n  \"/>\n<polyline clip-path=\"url(#clip410)\" style=\"stroke:#000000; stroke-linecap:butt; stroke-linejoin:round; stroke-width:4; stroke-opacity:1; fill:none\" points=\"\n  715.376,1486.45 715.376,1467.55 \n  \"/>\n<polyline clip-path=\"url(#clip410)\" style=\"stroke:#000000; stroke-linecap:butt; stroke-linejoin:round; stroke-width:4; stroke-opacity:1; fill:none\" points=\"\n  1233.53,1486.45 1233.53,1467.55 \n  \"/>\n<polyline clip-path=\"url(#clip410)\" style=\"stroke:#000000; stroke-linecap:butt; stroke-linejoin:round; stroke-width:4; stroke-opacity:1; fill:none\" points=\"\n  1751.69,1486.45 1751.69,1467.55 \n  \"/>\n<polyline clip-path=\"url(#clip410)\" style=\"stroke:#000000; stroke-linecap:butt; stroke-linejoin:round; stroke-width:4; stroke-opacity:1; fill:none\" points=\"\n  2269.85,1486.45 2269.85,1467.55 \n  \"/>\n<path clip-path=\"url(#clip410)\" d=\"M197.218 1517.37 Q193.606 1517.37 191.778 1520.93 Q189.972 1524.47 189.972 1531.6 Q189.972 1538.71 191.778 1542.27 Q193.606 1545.82 197.218 1545.82 Q200.852 1545.82 202.657 1542.27 Q204.486 1538.71 204.486 1531.6 Q204.486 1524.47 202.657 1520.93 Q200.852 1517.37 197.218 1517.37 M197.218 1513.66 Q203.028 1513.66 206.083 1518.27 Q209.162 1522.85 209.162 1531.6 Q209.162 1540.33 206.083 1544.94 Q203.028 1549.52 197.218 1549.52 Q191.407 1549.52 188.329 1544.94 Q185.273 1540.33 185.273 1531.6 Q185.273 1522.85 188.329 1518.27 Q191.407 1513.66 197.218 1513.66 Z\" fill=\"#000000\" fill-rule=\"evenodd\" fill-opacity=\"1\" /><path clip-path=\"url(#clip410)\" d=\"M694.647 1544.91 L710.966 1544.91 L710.966 1548.85 L689.022 1548.85 L689.022 1544.91 Q691.684 1542.16 696.267 1537.53 Q700.874 1532.88 702.054 1531.53 Q704.299 1529.01 705.179 1527.27 Q706.082 1525.51 706.082 1523.82 Q706.082 1521.07 704.137 1519.33 Q702.216 1517.6 699.114 1517.6 Q696.915 1517.6 694.462 1518.36 Q692.031 1519.13 689.253 1520.68 L689.253 1515.95 Q692.077 1514.82 694.531 1514.24 Q696.985 1513.66 699.022 1513.66 Q704.392 1513.66 707.587 1516.35 Q710.781 1519.03 710.781 1523.52 Q710.781 1525.65 709.971 1527.57 Q709.184 1529.47 707.077 1532.07 Q706.499 1532.74 703.397 1535.95 Q700.295 1539.15 694.647 1544.91 Z\" fill=\"#000000\" fill-rule=\"evenodd\" fill-opacity=\"1\" /><path clip-path=\"url(#clip410)\" d=\"M720.827 1514.29 L739.184 1514.29 L739.184 1518.22 L725.11 1518.22 L725.11 1526.7 Q726.128 1526.35 727.147 1526.19 Q728.165 1526 729.184 1526 Q734.971 1526 738.35 1529.17 Q741.73 1532.34 741.73 1537.76 Q741.73 1543.34 738.258 1546.44 Q734.785 1549.52 728.466 1549.52 Q726.29 1549.52 724.022 1549.15 Q721.776 1548.78 719.369 1548.04 L719.369 1543.34 Q721.452 1544.47 723.674 1545.03 Q725.897 1545.58 728.373 1545.58 Q732.378 1545.58 734.716 1543.48 Q737.054 1541.37 737.054 1537.76 Q737.054 1534.15 734.716 1532.04 Q732.378 1529.94 728.373 1529.94 Q726.498 1529.94 724.623 1530.35 Q722.772 1530.77 720.827 1531.65 L720.827 1514.29 Z\" fill=\"#000000\" fill-rule=\"evenodd\" fill-opacity=\"1\" /><path clip-path=\"url(#clip410)\" d=\"M1208.23 1514.29 L1226.59 1514.29 L1226.59 1518.22 L1212.52 1518.22 L1212.52 1526.7 Q1213.53 1526.35 1214.55 1526.19 Q1215.57 1526 1216.59 1526 Q1222.38 1526 1225.76 1529.17 Q1229.14 1532.34 1229.14 1537.76 Q1229.14 1543.34 1225.66 1546.44 Q1222.19 1549.52 1215.87 1549.52 Q1213.7 1549.52 1211.43 1549.15 Q1209.18 1548.78 1206.77 1548.04 L1206.77 1543.34 Q1208.86 1544.47 1211.08 1545.03 Q1213.3 1545.58 1215.78 1545.58 Q1219.78 1545.58 1222.12 1543.48 Q1224.46 1541.37 1224.46 1537.76 Q1224.46 1534.15 1222.12 1532.04 Q1219.78 1529.94 1215.78 1529.94 Q1213.9 1529.94 1212.03 1530.35 Q1210.18 1530.77 1208.23 1531.65 L1208.23 1514.29 Z\" fill=\"#000000\" fill-rule=\"evenodd\" fill-opacity=\"1\" /><path clip-path=\"url(#clip410)\" d=\"M1248.35 1517.37 Q1244.74 1517.37 1242.91 1520.93 Q1241.1 1524.47 1241.1 1531.6 Q1241.1 1538.71 1242.91 1542.27 Q1244.74 1545.82 1248.35 1545.82 Q1251.98 1545.82 1253.79 1542.27 Q1255.62 1538.71 1255.62 1531.6 Q1255.62 1524.47 1253.79 1520.93 Q1251.98 1517.37 1248.35 1517.37 M1248.35 1513.66 Q1254.16 1513.66 1257.21 1518.27 Q1260.29 1522.85 1260.29 1531.6 Q1260.29 1540.33 1257.21 1544.94 Q1254.16 1549.52 1248.35 1549.52 Q1242.54 1549.52 1239.46 1544.94 Q1236.4 1540.33 1236.4 1531.6 Q1236.4 1522.85 1239.46 1518.27 Q1242.54 1513.66 1248.35 1513.66 Z\" fill=\"#000000\" fill-rule=\"evenodd\" fill-opacity=\"1\" /><path clip-path=\"url(#clip410)\" d=\"M1725.55 1514.29 L1747.77 1514.29 L1747.77 1516.28 L1735.22 1548.85 L1730.34 1548.85 L1742.14 1518.22 L1725.55 1518.22 L1725.55 1514.29 Z\" fill=\"#000000\" fill-rule=\"evenodd\" fill-opacity=\"1\" /><path clip-path=\"url(#clip410)\" d=\"M1756.94 1514.29 L1775.29 1514.29 L1775.29 1518.22 L1761.22 1518.22 L1761.22 1526.7 Q1762.24 1526.35 1763.25 1526.19 Q1764.27 1526 1765.29 1526 Q1771.08 1526 1774.46 1529.17 Q1777.84 1532.34 1777.84 1537.76 Q1777.84 1543.34 1774.37 1546.44 Q1770.89 1549.52 1764.57 1549.52 Q1762.4 1549.52 1760.13 1549.15 Q1757.88 1548.78 1755.48 1548.04 L1755.48 1543.34 Q1757.56 1544.47 1759.78 1545.03 Q1762 1545.58 1764.48 1545.58 Q1768.49 1545.58 1770.82 1543.48 Q1773.16 1541.37 1773.16 1537.76 Q1773.16 1534.15 1770.82 1532.04 Q1768.49 1529.94 1764.48 1529.94 Q1762.61 1529.94 1760.73 1530.35 Q1758.88 1530.77 1756.94 1531.65 L1756.94 1514.29 Z\" fill=\"#000000\" fill-rule=\"evenodd\" fill-opacity=\"1\" /><path clip-path=\"url(#clip410)\" d=\"M2229.46 1544.91 L2237.1 1544.91 L2237.1 1518.55 L2228.79 1520.21 L2228.79 1515.95 L2237.05 1514.29 L2241.73 1514.29 L2241.73 1544.91 L2249.36 1544.91 L2249.36 1548.85 L2229.46 1548.85 L2229.46 1544.91 Z\" fill=\"#000000\" fill-rule=\"evenodd\" fill-opacity=\"1\" /><path clip-path=\"url(#clip410)\" d=\"M2268.81 1517.37 Q2265.2 1517.37 2263.37 1520.93 Q2261.56 1524.47 2261.56 1531.6 Q2261.56 1538.71 2263.37 1542.27 Q2265.2 1545.82 2268.81 1545.82 Q2272.44 1545.82 2274.25 1542.27 Q2276.08 1538.71 2276.08 1531.6 Q2276.08 1524.47 2274.25 1520.93 Q2272.44 1517.37 2268.81 1517.37 M2268.81 1513.66 Q2274.62 1513.66 2277.67 1518.27 Q2280.75 1522.85 2280.75 1531.6 Q2280.75 1540.33 2277.67 1544.94 Q2274.62 1549.52 2268.81 1549.52 Q2263 1549.52 2259.92 1544.94 Q2256.86 1540.33 2256.86 1531.6 Q2256.86 1522.85 2259.92 1518.27 Q2263 1513.66 2268.81 1513.66 Z\" fill=\"#000000\" fill-rule=\"evenodd\" fill-opacity=\"1\" /><path clip-path=\"url(#clip410)\" d=\"M2298.97 1517.37 Q2295.36 1517.37 2293.53 1520.93 Q2291.73 1524.47 2291.73 1531.6 Q2291.73 1538.71 2293.53 1542.27 Q2295.36 1545.82 2298.97 1545.82 Q2302.61 1545.82 2304.41 1542.27 Q2306.24 1538.71 2306.24 1531.6 Q2306.24 1524.47 2304.41 1520.93 Q2302.61 1517.37 2298.97 1517.37 M2298.97 1513.66 Q2304.78 1513.66 2307.84 1518.27 Q2310.92 1522.85 2310.92 1531.6 Q2310.92 1540.33 2307.84 1544.94 Q2304.78 1549.52 2298.97 1549.52 Q2293.16 1549.52 2290.08 1544.94 Q2287.03 1540.33 2287.03 1531.6 Q2287.03 1522.85 2290.08 1518.27 Q2293.16 1513.66 2298.97 1513.66 Z\" fill=\"#000000\" fill-rule=\"evenodd\" fill-opacity=\"1\" /><polyline clip-path=\"url(#clip412)\" style=\"stroke:#000000; stroke-linecap:butt; stroke-linejoin:round; stroke-width:2; stroke-opacity:0.1; fill:none\" points=\"\n  155.765,1445.72 2352.76,1445.72 \n  \"/>\n<polyline clip-path=\"url(#clip412)\" style=\"stroke:#000000; stroke-linecap:butt; stroke-linejoin:round; stroke-width:2; stroke-opacity:0.1; fill:none\" points=\"\n  155.765,1078.43 2352.76,1078.43 \n  \"/>\n<polyline clip-path=\"url(#clip412)\" style=\"stroke:#000000; stroke-linecap:butt; stroke-linejoin:round; stroke-width:2; stroke-opacity:0.1; fill:none\" points=\"\n  155.765,711.141 2352.76,711.141 \n  \"/>\n<polyline clip-path=\"url(#clip412)\" style=\"stroke:#000000; stroke-linecap:butt; stroke-linejoin:round; stroke-width:2; stroke-opacity:0.1; fill:none\" points=\"\n  155.765,343.854 2352.76,343.854 \n  \"/>\n<polyline clip-path=\"url(#clip410)\" style=\"stroke:#000000; stroke-linecap:butt; stroke-linejoin:round; stroke-width:4; stroke-opacity:1; fill:none\" points=\"\n  155.765,1486.45 155.765,47.2441 \n  \"/>\n<polyline clip-path=\"url(#clip410)\" style=\"stroke:#000000; stroke-linecap:butt; stroke-linejoin:round; stroke-width:4; stroke-opacity:1; fill:none\" points=\"\n  155.765,1445.72 174.663,1445.72 \n  \"/>\n<polyline clip-path=\"url(#clip410)\" style=\"stroke:#000000; stroke-linecap:butt; stroke-linejoin:round; stroke-width:4; stroke-opacity:1; fill:none\" points=\"\n  155.765,1078.43 174.663,1078.43 \n  \"/>\n<polyline clip-path=\"url(#clip410)\" style=\"stroke:#000000; stroke-linecap:butt; stroke-linejoin:round; stroke-width:4; stroke-opacity:1; fill:none\" points=\"\n  155.765,711.141 174.663,711.141 \n  \"/>\n<polyline clip-path=\"url(#clip410)\" style=\"stroke:#000000; stroke-linecap:butt; stroke-linejoin:round; stroke-width:4; stroke-opacity:1; fill:none\" points=\"\n  155.765,343.854 174.663,343.854 \n  \"/>\n<path clip-path=\"url(#clip410)\" d=\"M63.5847 1431.51 Q59.9736 1431.51 58.1449 1435.08 Q56.3393 1438.62 56.3393 1445.75 Q56.3393 1452.86 58.1449 1456.42 Q59.9736 1459.96 63.5847 1459.96 Q67.2189 1459.96 69.0244 1456.42 Q70.8531 1452.86 70.8531 1445.75 Q70.8531 1438.62 69.0244 1435.08 Q67.2189 1431.51 63.5847 1431.51 M63.5847 1427.81 Q69.3948 1427.81 72.4503 1432.42 Q75.529 1437 75.529 1445.75 Q75.529 1454.48 72.4503 1459.08 Q69.3948 1463.67 63.5847 1463.67 Q57.7745 1463.67 54.6958 1459.08 Q51.6403 1454.48 51.6403 1445.75 Q51.6403 1437 54.6958 1432.42 Q57.7745 1427.81 63.5847 1427.81 Z\" fill=\"#000000\" fill-rule=\"evenodd\" fill-opacity=\"1\" /><path clip-path=\"url(#clip410)\" d=\"M83.7466 1457.12 L88.6308 1457.12 L88.6308 1463 L83.7466 1463 L83.7466 1457.12 Z\" fill=\"#000000\" fill-rule=\"evenodd\" fill-opacity=\"1\" /><path clip-path=\"url(#clip410)\" d=\"M98.8622 1428.44 L117.219 1428.44 L117.219 1432.37 L103.145 1432.37 L103.145 1440.84 Q104.163 1440.5 105.182 1440.33 Q106.2 1440.15 107.219 1440.15 Q113.006 1440.15 116.385 1443.32 Q119.765 1446.49 119.765 1451.91 Q119.765 1457.49 116.293 1460.59 Q112.82 1463.67 106.501 1463.67 Q104.325 1463.67 102.057 1463.3 Q99.8113 1462.93 97.4039 1462.19 L97.4039 1457.49 Q99.4872 1458.62 101.709 1459.18 Q103.932 1459.73 106.408 1459.73 Q110.413 1459.73 112.751 1457.63 Q115.089 1455.52 115.089 1451.91 Q115.089 1448.3 112.751 1446.19 Q110.413 1444.08 106.408 1444.08 Q104.534 1444.08 102.659 1444.5 Q100.807 1444.92 98.8622 1445.8 L98.8622 1428.44 Z\" fill=\"#000000\" fill-rule=\"evenodd\" fill-opacity=\"1\" /><path clip-path=\"url(#clip410)\" d=\"M53.3995 1091.77 L61.0384 1091.77 L61.0384 1065.41 L52.7282 1067.07 L52.7282 1062.82 L60.9921 1061.15 L65.668 1061.15 L65.668 1091.77 L73.3068 1091.77 L73.3068 1095.71 L53.3995 1095.71 L53.3995 1091.77 Z\" fill=\"#000000\" fill-rule=\"evenodd\" fill-opacity=\"1\" /><path clip-path=\"url(#clip410)\" d=\"M82.7512 1089.83 L87.6354 1089.83 L87.6354 1095.71 L82.7512 1095.71 L82.7512 1089.83 Z\" fill=\"#000000\" fill-rule=\"evenodd\" fill-opacity=\"1\" /><path clip-path=\"url(#clip410)\" d=\"M107.821 1064.23 Q104.209 1064.23 102.381 1067.79 Q100.575 1071.33 100.575 1078.46 Q100.575 1085.57 102.381 1089.13 Q104.209 1092.68 107.821 1092.68 Q111.455 1092.68 113.26 1089.13 Q115.089 1085.57 115.089 1078.46 Q115.089 1071.33 113.26 1067.79 Q111.455 1064.23 107.821 1064.23 M107.821 1060.52 Q113.631 1060.52 116.686 1065.13 Q119.765 1069.71 119.765 1078.46 Q119.765 1087.19 116.686 1091.8 Q113.631 1096.38 107.821 1096.38 Q102.01 1096.38 98.9317 1091.8 Q95.8761 1087.19 95.8761 1078.46 Q95.8761 1069.71 98.9317 1065.13 Q102.01 1060.52 107.821 1060.52 Z\" fill=\"#000000\" fill-rule=\"evenodd\" fill-opacity=\"1\" /><path clip-path=\"url(#clip410)\" d=\"M54.3949 724.486 L62.0337 724.486 L62.0337 698.12 L53.7236 699.787 L53.7236 695.528 L61.9874 693.861 L66.6633 693.861 L66.6633 724.486 L74.3022 724.486 L74.3022 728.421 L54.3949 728.421 L54.3949 724.486 Z\" fill=\"#000000\" fill-rule=\"evenodd\" fill-opacity=\"1\" /><path clip-path=\"url(#clip410)\" d=\"M83.7466 722.541 L88.6308 722.541 L88.6308 728.421 L83.7466 728.421 L83.7466 722.541 Z\" fill=\"#000000\" fill-rule=\"evenodd\" fill-opacity=\"1\" /><path clip-path=\"url(#clip410)\" d=\"M98.8622 693.861 L117.219 693.861 L117.219 697.796 L103.145 697.796 L103.145 706.268 Q104.163 705.921 105.182 705.759 Q106.2 705.574 107.219 705.574 Q113.006 705.574 116.385 708.745 Q119.765 711.917 119.765 717.333 Q119.765 722.912 116.293 726.014 Q112.82 729.092 106.501 729.092 Q104.325 729.092 102.057 728.722 Q99.8113 728.352 97.4039 727.611 L97.4039 722.912 Q99.4872 724.046 101.709 724.602 Q103.932 725.157 106.408 725.157 Q110.413 725.157 112.751 723.051 Q115.089 720.944 115.089 717.333 Q115.089 713.722 112.751 711.616 Q110.413 709.509 106.408 709.509 Q104.534 709.509 102.659 709.926 Q100.807 710.342 98.8622 711.222 L98.8622 693.861 Z\" fill=\"#000000\" fill-rule=\"evenodd\" fill-opacity=\"1\" /><path clip-path=\"url(#clip410)\" d=\"M56.6171 357.199 L72.9365 357.199 L72.9365 361.134 L50.9921 361.134 L50.9921 357.199 Q53.6541 354.444 58.2375 349.814 Q62.8439 345.162 64.0245 343.819 Q66.2698 341.296 67.1494 339.56 Q68.0522 337.801 68.0522 336.111 Q68.0522 333.356 66.1078 331.62 Q64.1865 329.884 61.0847 329.884 Q58.8856 329.884 56.4319 330.648 Q54.0014 331.412 51.2236 332.963 L51.2236 328.24 Q54.0477 327.106 56.5014 326.527 Q58.955 325.949 60.9921 325.949 Q66.3624 325.949 69.5568 328.634 Q72.7513 331.319 72.7513 335.81 Q72.7513 337.939 71.9411 339.861 Q71.1541 341.759 69.0476 344.351 Q68.4689 345.023 65.367 348.24 Q62.2652 351.435 56.6171 357.199 Z\" fill=\"#000000\" fill-rule=\"evenodd\" fill-opacity=\"1\" /><path clip-path=\"url(#clip410)\" d=\"M82.7512 355.254 L87.6354 355.254 L87.6354 361.134 L82.7512 361.134 L82.7512 355.254 Z\" fill=\"#000000\" fill-rule=\"evenodd\" fill-opacity=\"1\" /><path clip-path=\"url(#clip410)\" d=\"M107.821 329.652 Q104.209 329.652 102.381 333.217 Q100.575 336.759 100.575 343.889 Q100.575 350.995 102.381 354.56 Q104.209 358.101 107.821 358.101 Q111.455 358.101 113.26 354.56 Q115.089 350.995 115.089 343.889 Q115.089 336.759 113.26 333.217 Q111.455 329.652 107.821 329.652 M107.821 325.949 Q113.631 325.949 116.686 330.555 Q119.765 335.139 119.765 343.889 Q119.765 352.615 116.686 357.222 Q113.631 361.805 107.821 361.805 Q102.01 361.805 98.9317 357.222 Q95.8761 352.615 95.8761 343.889 Q95.8761 335.139 98.9317 330.555 Q102.01 325.949 107.821 325.949 Z\" fill=\"#000000\" fill-rule=\"evenodd\" fill-opacity=\"1\" /><polyline clip-path=\"url(#clip412)\" style=\"stroke:#009af9; stroke-linecap:butt; stroke-linejoin:round; stroke-width:4; stroke-opacity:1; fill:none\" points=\"\n  217.944,1445.72 238.67,1367.57 259.397,1290.89 280.123,1216.45 300.849,1144.77 321.576,1076.16 342.302,1010.81 363.028,948.828 383.755,890.219 404.481,834.958 \n  425.207,782.973 445.934,734.168 466.66,688.427 487.386,645.622 508.113,605.616 528.839,568.269 549.565,533.439 570.292,500.986 591.018,470.771 611.744,442.661 \n  632.47,416.525 653.197,392.239 673.923,369.683 694.649,348.744 715.376,329.315 736.102,311.292 756.828,294.58 777.555,279.089 798.281,264.734 819.007,251.434 \n  839.734,239.116 860.46,227.708 881.186,217.147 901.913,207.37 922.639,198.321 943.365,189.948 964.092,182.201 984.818,175.033 1005.54,168.403 1026.27,162.27 \n  1047,156.599 1067.72,151.354 1088.45,146.505 1109.18,142.021 1129.9,137.875 1150.63,134.042 1171.36,130.499 1192.08,127.224 1212.81,124.197 1233.53,121.399 \n  1254.26,118.814 1274.99,116.424 1295.71,114.215 1316.44,112.174 1337.17,110.288 1357.89,108.544 1378.62,106.934 1399.34,105.445 1420.07,104.07 1440.8,102.8 \n  1461.52,101.625 1482.25,100.541 1502.98,99.5383 1523.7,98.6123 1544.43,97.7566 1565.16,96.9661 1585.88,96.2358 1606.61,95.561 1627.33,94.9377 1648.06,94.3617 \n  1668.79,93.8296 1689.51,93.3381 1710.24,92.884 1730.97,92.4644 1751.69,92.0768 1772.42,91.7188 1793.14,91.388 1813.87,91.0824 1834.6,90.8001 1855.32,90.5393 \n  1876.05,90.2984 1896.78,90.0758 1917.5,89.8702 1938.23,89.6803 1958.96,89.5048 1979.68,89.3427 2000.41,89.193 2021.13,89.0547 2041.86,88.9269 2062.59,88.8088 \n  2083.31,88.6998 2104.04,88.599 2124.77,88.506 2145.49,88.42 2166.22,88.3406 2186.95,88.2672 2207.67,88.1995 2228.4,88.1369 2249.12,88.079 2269.85,88.0256 \n  2290.58,87.9763 \n  \"/>\n</svg>\n",
      "text/html": [
       "<?xml version=\"1.0\" encoding=\"utf-8\"?>\n",
       "<svg xmlns=\"http://www.w3.org/2000/svg\" xmlns:xlink=\"http://www.w3.org/1999/xlink\" width=\"600\" height=\"400\" viewBox=\"0 0 2400 1600\">\n",
       "<defs>\n",
       "  <clipPath id=\"clip460\">\n",
       "    <rect x=\"0\" y=\"0\" width=\"2400\" height=\"1600\"/>\n",
       "  </clipPath>\n",
       "</defs>\n",
       "<path clip-path=\"url(#clip460)\" d=\"\n",
       "M0 1600 L2400 1600 L2400 0 L0 0  Z\n",
       "  \" fill=\"#ffffff\" fill-rule=\"evenodd\" fill-opacity=\"1\"/>\n",
       "<defs>\n",
       "  <clipPath id=\"clip461\">\n",
       "    <rect x=\"480\" y=\"0\" width=\"1681\" height=\"1600\"/>\n",
       "  </clipPath>\n",
       "</defs>\n",
       "<path clip-path=\"url(#clip460)\" d=\"\n",
       "M155.765 1486.45 L2352.76 1486.45 L2352.76 47.2441 L155.765 47.2441  Z\n",
       "  \" fill=\"#ffffff\" fill-rule=\"evenodd\" fill-opacity=\"1\"/>\n",
       "<defs>\n",
       "  <clipPath id=\"clip462\">\n",
       "    <rect x=\"155\" y=\"47\" width=\"2198\" height=\"1440\"/>\n",
       "  </clipPath>\n",
       "</defs>\n",
       "<polyline clip-path=\"url(#clip462)\" style=\"stroke:#000000; stroke-linecap:butt; stroke-linejoin:round; stroke-width:2; stroke-opacity:0.1; fill:none\" points=\"\n",
       "  197.218,1486.45 197.218,47.2441 \n",
       "  \"/>\n",
       "<polyline clip-path=\"url(#clip462)\" style=\"stroke:#000000; stroke-linecap:butt; stroke-linejoin:round; stroke-width:2; stroke-opacity:0.1; fill:none\" points=\"\n",
       "  715.376,1486.45 715.376,47.2441 \n",
       "  \"/>\n",
       "<polyline clip-path=\"url(#clip462)\" style=\"stroke:#000000; stroke-linecap:butt; stroke-linejoin:round; stroke-width:2; stroke-opacity:0.1; fill:none\" points=\"\n",
       "  1233.53,1486.45 1233.53,47.2441 \n",
       "  \"/>\n",
       "<polyline clip-path=\"url(#clip462)\" style=\"stroke:#000000; stroke-linecap:butt; stroke-linejoin:round; stroke-width:2; stroke-opacity:0.1; fill:none\" points=\"\n",
       "  1751.69,1486.45 1751.69,47.2441 \n",
       "  \"/>\n",
       "<polyline clip-path=\"url(#clip462)\" style=\"stroke:#000000; stroke-linecap:butt; stroke-linejoin:round; stroke-width:2; stroke-opacity:0.1; fill:none\" points=\"\n",
       "  2269.85,1486.45 2269.85,47.2441 \n",
       "  \"/>\n",
       "<polyline clip-path=\"url(#clip460)\" style=\"stroke:#000000; stroke-linecap:butt; stroke-linejoin:round; stroke-width:4; stroke-opacity:1; fill:none\" points=\"\n",
       "  155.765,1486.45 2352.76,1486.45 \n",
       "  \"/>\n",
       "<polyline clip-path=\"url(#clip460)\" style=\"stroke:#000000; stroke-linecap:butt; stroke-linejoin:round; stroke-width:4; stroke-opacity:1; fill:none\" points=\"\n",
       "  197.218,1486.45 197.218,1467.55 \n",
       "  \"/>\n",
       "<polyline clip-path=\"url(#clip460)\" style=\"stroke:#000000; stroke-linecap:butt; stroke-linejoin:round; stroke-width:4; stroke-opacity:1; fill:none\" points=\"\n",
       "  715.376,1486.45 715.376,1467.55 \n",
       "  \"/>\n",
       "<polyline clip-path=\"url(#clip460)\" style=\"stroke:#000000; stroke-linecap:butt; stroke-linejoin:round; stroke-width:4; stroke-opacity:1; fill:none\" points=\"\n",
       "  1233.53,1486.45 1233.53,1467.55 \n",
       "  \"/>\n",
       "<polyline clip-path=\"url(#clip460)\" style=\"stroke:#000000; stroke-linecap:butt; stroke-linejoin:round; stroke-width:4; stroke-opacity:1; fill:none\" points=\"\n",
       "  1751.69,1486.45 1751.69,1467.55 \n",
       "  \"/>\n",
       "<polyline clip-path=\"url(#clip460)\" style=\"stroke:#000000; stroke-linecap:butt; stroke-linejoin:round; stroke-width:4; stroke-opacity:1; fill:none\" points=\"\n",
       "  2269.85,1486.45 2269.85,1467.55 \n",
       "  \"/>\n",
       "<path clip-path=\"url(#clip460)\" d=\"M197.218 1517.37 Q193.606 1517.37 191.778 1520.93 Q189.972 1524.47 189.972 1531.6 Q189.972 1538.71 191.778 1542.27 Q193.606 1545.82 197.218 1545.82 Q200.852 1545.82 202.657 1542.27 Q204.486 1538.71 204.486 1531.6 Q204.486 1524.47 202.657 1520.93 Q200.852 1517.37 197.218 1517.37 M197.218 1513.66 Q203.028 1513.66 206.083 1518.27 Q209.162 1522.85 209.162 1531.6 Q209.162 1540.33 206.083 1544.94 Q203.028 1549.52 197.218 1549.52 Q191.407 1549.52 188.329 1544.94 Q185.273 1540.33 185.273 1531.6 Q185.273 1522.85 188.329 1518.27 Q191.407 1513.66 197.218 1513.66 Z\" fill=\"#000000\" fill-rule=\"evenodd\" fill-opacity=\"1\" /><path clip-path=\"url(#clip460)\" d=\"M694.647 1544.91 L710.966 1544.91 L710.966 1548.85 L689.022 1548.85 L689.022 1544.91 Q691.684 1542.16 696.267 1537.53 Q700.874 1532.88 702.054 1531.53 Q704.299 1529.01 705.179 1527.27 Q706.082 1525.51 706.082 1523.82 Q706.082 1521.07 704.137 1519.33 Q702.216 1517.6 699.114 1517.6 Q696.915 1517.6 694.462 1518.36 Q692.031 1519.13 689.253 1520.68 L689.253 1515.95 Q692.077 1514.82 694.531 1514.24 Q696.985 1513.66 699.022 1513.66 Q704.392 1513.66 707.587 1516.35 Q710.781 1519.03 710.781 1523.52 Q710.781 1525.65 709.971 1527.57 Q709.184 1529.47 707.077 1532.07 Q706.499 1532.74 703.397 1535.95 Q700.295 1539.15 694.647 1544.91 Z\" fill=\"#000000\" fill-rule=\"evenodd\" fill-opacity=\"1\" /><path clip-path=\"url(#clip460)\" d=\"M720.827 1514.29 L739.184 1514.29 L739.184 1518.22 L725.11 1518.22 L725.11 1526.7 Q726.128 1526.35 727.147 1526.19 Q728.165 1526 729.184 1526 Q734.971 1526 738.35 1529.17 Q741.73 1532.34 741.73 1537.76 Q741.73 1543.34 738.258 1546.44 Q734.785 1549.52 728.466 1549.52 Q726.29 1549.52 724.022 1549.15 Q721.776 1548.78 719.369 1548.04 L719.369 1543.34 Q721.452 1544.47 723.674 1545.03 Q725.897 1545.58 728.373 1545.58 Q732.378 1545.58 734.716 1543.48 Q737.054 1541.37 737.054 1537.76 Q737.054 1534.15 734.716 1532.04 Q732.378 1529.94 728.373 1529.94 Q726.498 1529.94 724.623 1530.35 Q722.772 1530.77 720.827 1531.65 L720.827 1514.29 Z\" fill=\"#000000\" fill-rule=\"evenodd\" fill-opacity=\"1\" /><path clip-path=\"url(#clip460)\" d=\"M1208.23 1514.29 L1226.59 1514.29 L1226.59 1518.22 L1212.52 1518.22 L1212.52 1526.7 Q1213.53 1526.35 1214.55 1526.19 Q1215.57 1526 1216.59 1526 Q1222.38 1526 1225.76 1529.17 Q1229.14 1532.34 1229.14 1537.76 Q1229.14 1543.34 1225.66 1546.44 Q1222.19 1549.52 1215.87 1549.52 Q1213.7 1549.52 1211.43 1549.15 Q1209.18 1548.78 1206.77 1548.04 L1206.77 1543.34 Q1208.86 1544.47 1211.08 1545.03 Q1213.3 1545.58 1215.78 1545.58 Q1219.78 1545.58 1222.12 1543.48 Q1224.46 1541.37 1224.46 1537.76 Q1224.46 1534.15 1222.12 1532.04 Q1219.78 1529.94 1215.78 1529.94 Q1213.9 1529.94 1212.03 1530.35 Q1210.18 1530.77 1208.23 1531.65 L1208.23 1514.29 Z\" fill=\"#000000\" fill-rule=\"evenodd\" fill-opacity=\"1\" /><path clip-path=\"url(#clip460)\" d=\"M1248.35 1517.37 Q1244.74 1517.37 1242.91 1520.93 Q1241.1 1524.47 1241.1 1531.6 Q1241.1 1538.71 1242.91 1542.27 Q1244.74 1545.82 1248.35 1545.82 Q1251.98 1545.82 1253.79 1542.27 Q1255.62 1538.71 1255.62 1531.6 Q1255.62 1524.47 1253.79 1520.93 Q1251.98 1517.37 1248.35 1517.37 M1248.35 1513.66 Q1254.16 1513.66 1257.21 1518.27 Q1260.29 1522.85 1260.29 1531.6 Q1260.29 1540.33 1257.21 1544.94 Q1254.16 1549.52 1248.35 1549.52 Q1242.54 1549.52 1239.46 1544.94 Q1236.4 1540.33 1236.4 1531.6 Q1236.4 1522.85 1239.46 1518.27 Q1242.54 1513.66 1248.35 1513.66 Z\" fill=\"#000000\" fill-rule=\"evenodd\" fill-opacity=\"1\" /><path clip-path=\"url(#clip460)\" d=\"M1725.55 1514.29 L1747.77 1514.29 L1747.77 1516.28 L1735.22 1548.85 L1730.34 1548.85 L1742.14 1518.22 L1725.55 1518.22 L1725.55 1514.29 Z\" fill=\"#000000\" fill-rule=\"evenodd\" fill-opacity=\"1\" /><path clip-path=\"url(#clip460)\" d=\"M1756.94 1514.29 L1775.29 1514.29 L1775.29 1518.22 L1761.22 1518.22 L1761.22 1526.7 Q1762.24 1526.35 1763.25 1526.19 Q1764.27 1526 1765.29 1526 Q1771.08 1526 1774.46 1529.17 Q1777.84 1532.34 1777.84 1537.76 Q1777.84 1543.34 1774.37 1546.44 Q1770.89 1549.52 1764.57 1549.52 Q1762.4 1549.52 1760.13 1549.15 Q1757.88 1548.78 1755.48 1548.04 L1755.48 1543.34 Q1757.56 1544.47 1759.78 1545.03 Q1762 1545.58 1764.48 1545.58 Q1768.49 1545.58 1770.82 1543.48 Q1773.16 1541.37 1773.16 1537.76 Q1773.16 1534.15 1770.82 1532.04 Q1768.49 1529.94 1764.48 1529.94 Q1762.61 1529.94 1760.73 1530.35 Q1758.88 1530.77 1756.94 1531.65 L1756.94 1514.29 Z\" fill=\"#000000\" fill-rule=\"evenodd\" fill-opacity=\"1\" /><path clip-path=\"url(#clip460)\" d=\"M2229.46 1544.91 L2237.1 1544.91 L2237.1 1518.55 L2228.79 1520.21 L2228.79 1515.95 L2237.05 1514.29 L2241.73 1514.29 L2241.73 1544.91 L2249.36 1544.91 L2249.36 1548.85 L2229.46 1548.85 L2229.46 1544.91 Z\" fill=\"#000000\" fill-rule=\"evenodd\" fill-opacity=\"1\" /><path clip-path=\"url(#clip460)\" d=\"M2268.81 1517.37 Q2265.2 1517.37 2263.37 1520.93 Q2261.56 1524.47 2261.56 1531.6 Q2261.56 1538.71 2263.37 1542.27 Q2265.2 1545.82 2268.81 1545.82 Q2272.44 1545.82 2274.25 1542.27 Q2276.08 1538.71 2276.08 1531.6 Q2276.08 1524.47 2274.25 1520.93 Q2272.44 1517.37 2268.81 1517.37 M2268.81 1513.66 Q2274.62 1513.66 2277.67 1518.27 Q2280.75 1522.85 2280.75 1531.6 Q2280.75 1540.33 2277.67 1544.94 Q2274.62 1549.52 2268.81 1549.52 Q2263 1549.52 2259.92 1544.94 Q2256.86 1540.33 2256.86 1531.6 Q2256.86 1522.85 2259.92 1518.27 Q2263 1513.66 2268.81 1513.66 Z\" fill=\"#000000\" fill-rule=\"evenodd\" fill-opacity=\"1\" /><path clip-path=\"url(#clip460)\" d=\"M2298.97 1517.37 Q2295.36 1517.37 2293.53 1520.93 Q2291.73 1524.47 2291.73 1531.6 Q2291.73 1538.71 2293.53 1542.27 Q2295.36 1545.82 2298.97 1545.82 Q2302.61 1545.82 2304.41 1542.27 Q2306.24 1538.71 2306.24 1531.6 Q2306.24 1524.47 2304.41 1520.93 Q2302.61 1517.37 2298.97 1517.37 M2298.97 1513.66 Q2304.78 1513.66 2307.84 1518.27 Q2310.92 1522.85 2310.92 1531.6 Q2310.92 1540.33 2307.84 1544.94 Q2304.78 1549.52 2298.97 1549.52 Q2293.16 1549.52 2290.08 1544.94 Q2287.03 1540.33 2287.03 1531.6 Q2287.03 1522.85 2290.08 1518.27 Q2293.16 1513.66 2298.97 1513.66 Z\" fill=\"#000000\" fill-rule=\"evenodd\" fill-opacity=\"1\" /><polyline clip-path=\"url(#clip462)\" style=\"stroke:#000000; stroke-linecap:butt; stroke-linejoin:round; stroke-width:2; stroke-opacity:0.1; fill:none\" points=\"\n",
       "  155.765,1445.72 2352.76,1445.72 \n",
       "  \"/>\n",
       "<polyline clip-path=\"url(#clip462)\" style=\"stroke:#000000; stroke-linecap:butt; stroke-linejoin:round; stroke-width:2; stroke-opacity:0.1; fill:none\" points=\"\n",
       "  155.765,1078.43 2352.76,1078.43 \n",
       "  \"/>\n",
       "<polyline clip-path=\"url(#clip462)\" style=\"stroke:#000000; stroke-linecap:butt; stroke-linejoin:round; stroke-width:2; stroke-opacity:0.1; fill:none\" points=\"\n",
       "  155.765,711.141 2352.76,711.141 \n",
       "  \"/>\n",
       "<polyline clip-path=\"url(#clip462)\" style=\"stroke:#000000; stroke-linecap:butt; stroke-linejoin:round; stroke-width:2; stroke-opacity:0.1; fill:none\" points=\"\n",
       "  155.765,343.854 2352.76,343.854 \n",
       "  \"/>\n",
       "<polyline clip-path=\"url(#clip460)\" style=\"stroke:#000000; stroke-linecap:butt; stroke-linejoin:round; stroke-width:4; stroke-opacity:1; fill:none\" points=\"\n",
       "  155.765,1486.45 155.765,47.2441 \n",
       "  \"/>\n",
       "<polyline clip-path=\"url(#clip460)\" style=\"stroke:#000000; stroke-linecap:butt; stroke-linejoin:round; stroke-width:4; stroke-opacity:1; fill:none\" points=\"\n",
       "  155.765,1445.72 174.663,1445.72 \n",
       "  \"/>\n",
       "<polyline clip-path=\"url(#clip460)\" style=\"stroke:#000000; stroke-linecap:butt; stroke-linejoin:round; stroke-width:4; stroke-opacity:1; fill:none\" points=\"\n",
       "  155.765,1078.43 174.663,1078.43 \n",
       "  \"/>\n",
       "<polyline clip-path=\"url(#clip460)\" style=\"stroke:#000000; stroke-linecap:butt; stroke-linejoin:round; stroke-width:4; stroke-opacity:1; fill:none\" points=\"\n",
       "  155.765,711.141 174.663,711.141 \n",
       "  \"/>\n",
       "<polyline clip-path=\"url(#clip460)\" style=\"stroke:#000000; stroke-linecap:butt; stroke-linejoin:round; stroke-width:4; stroke-opacity:1; fill:none\" points=\"\n",
       "  155.765,343.854 174.663,343.854 \n",
       "  \"/>\n",
       "<path clip-path=\"url(#clip460)\" d=\"M63.5847 1431.51 Q59.9736 1431.51 58.1449 1435.08 Q56.3393 1438.62 56.3393 1445.75 Q56.3393 1452.86 58.1449 1456.42 Q59.9736 1459.96 63.5847 1459.96 Q67.2189 1459.96 69.0244 1456.42 Q70.8531 1452.86 70.8531 1445.75 Q70.8531 1438.62 69.0244 1435.08 Q67.2189 1431.51 63.5847 1431.51 M63.5847 1427.81 Q69.3948 1427.81 72.4503 1432.42 Q75.529 1437 75.529 1445.75 Q75.529 1454.48 72.4503 1459.08 Q69.3948 1463.67 63.5847 1463.67 Q57.7745 1463.67 54.6958 1459.08 Q51.6403 1454.48 51.6403 1445.75 Q51.6403 1437 54.6958 1432.42 Q57.7745 1427.81 63.5847 1427.81 Z\" fill=\"#000000\" fill-rule=\"evenodd\" fill-opacity=\"1\" /><path clip-path=\"url(#clip460)\" d=\"M83.7466 1457.12 L88.6308 1457.12 L88.6308 1463 L83.7466 1463 L83.7466 1457.12 Z\" fill=\"#000000\" fill-rule=\"evenodd\" fill-opacity=\"1\" /><path clip-path=\"url(#clip460)\" d=\"M98.8622 1428.44 L117.219 1428.44 L117.219 1432.37 L103.145 1432.37 L103.145 1440.84 Q104.163 1440.5 105.182 1440.33 Q106.2 1440.15 107.219 1440.15 Q113.006 1440.15 116.385 1443.32 Q119.765 1446.49 119.765 1451.91 Q119.765 1457.49 116.293 1460.59 Q112.82 1463.67 106.501 1463.67 Q104.325 1463.67 102.057 1463.3 Q99.8113 1462.93 97.4039 1462.19 L97.4039 1457.49 Q99.4872 1458.62 101.709 1459.18 Q103.932 1459.73 106.408 1459.73 Q110.413 1459.73 112.751 1457.63 Q115.089 1455.52 115.089 1451.91 Q115.089 1448.3 112.751 1446.19 Q110.413 1444.08 106.408 1444.08 Q104.534 1444.08 102.659 1444.5 Q100.807 1444.92 98.8622 1445.8 L98.8622 1428.44 Z\" fill=\"#000000\" fill-rule=\"evenodd\" fill-opacity=\"1\" /><path clip-path=\"url(#clip460)\" d=\"M53.3995 1091.77 L61.0384 1091.77 L61.0384 1065.41 L52.7282 1067.07 L52.7282 1062.82 L60.9921 1061.15 L65.668 1061.15 L65.668 1091.77 L73.3068 1091.77 L73.3068 1095.71 L53.3995 1095.71 L53.3995 1091.77 Z\" fill=\"#000000\" fill-rule=\"evenodd\" fill-opacity=\"1\" /><path clip-path=\"url(#clip460)\" d=\"M82.7512 1089.83 L87.6354 1089.83 L87.6354 1095.71 L82.7512 1095.71 L82.7512 1089.83 Z\" fill=\"#000000\" fill-rule=\"evenodd\" fill-opacity=\"1\" /><path clip-path=\"url(#clip460)\" d=\"M107.821 1064.23 Q104.209 1064.23 102.381 1067.79 Q100.575 1071.33 100.575 1078.46 Q100.575 1085.57 102.381 1089.13 Q104.209 1092.68 107.821 1092.68 Q111.455 1092.68 113.26 1089.13 Q115.089 1085.57 115.089 1078.46 Q115.089 1071.33 113.26 1067.79 Q111.455 1064.23 107.821 1064.23 M107.821 1060.52 Q113.631 1060.52 116.686 1065.13 Q119.765 1069.71 119.765 1078.46 Q119.765 1087.19 116.686 1091.8 Q113.631 1096.38 107.821 1096.38 Q102.01 1096.38 98.9317 1091.8 Q95.8761 1087.19 95.8761 1078.46 Q95.8761 1069.71 98.9317 1065.13 Q102.01 1060.52 107.821 1060.52 Z\" fill=\"#000000\" fill-rule=\"evenodd\" fill-opacity=\"1\" /><path clip-path=\"url(#clip460)\" d=\"M54.3949 724.486 L62.0337 724.486 L62.0337 698.12 L53.7236 699.787 L53.7236 695.528 L61.9874 693.861 L66.6633 693.861 L66.6633 724.486 L74.3022 724.486 L74.3022 728.421 L54.3949 728.421 L54.3949 724.486 Z\" fill=\"#000000\" fill-rule=\"evenodd\" fill-opacity=\"1\" /><path clip-path=\"url(#clip460)\" d=\"M83.7466 722.541 L88.6308 722.541 L88.6308 728.421 L83.7466 728.421 L83.7466 722.541 Z\" fill=\"#000000\" fill-rule=\"evenodd\" fill-opacity=\"1\" /><path clip-path=\"url(#clip460)\" d=\"M98.8622 693.861 L117.219 693.861 L117.219 697.796 L103.145 697.796 L103.145 706.268 Q104.163 705.921 105.182 705.759 Q106.2 705.574 107.219 705.574 Q113.006 705.574 116.385 708.745 Q119.765 711.917 119.765 717.333 Q119.765 722.912 116.293 726.014 Q112.82 729.092 106.501 729.092 Q104.325 729.092 102.057 728.722 Q99.8113 728.352 97.4039 727.611 L97.4039 722.912 Q99.4872 724.046 101.709 724.602 Q103.932 725.157 106.408 725.157 Q110.413 725.157 112.751 723.051 Q115.089 720.944 115.089 717.333 Q115.089 713.722 112.751 711.616 Q110.413 709.509 106.408 709.509 Q104.534 709.509 102.659 709.926 Q100.807 710.342 98.8622 711.222 L98.8622 693.861 Z\" fill=\"#000000\" fill-rule=\"evenodd\" fill-opacity=\"1\" /><path clip-path=\"url(#clip460)\" d=\"M56.6171 357.199 L72.9365 357.199 L72.9365 361.134 L50.9921 361.134 L50.9921 357.199 Q53.6541 354.444 58.2375 349.814 Q62.8439 345.162 64.0245 343.819 Q66.2698 341.296 67.1494 339.56 Q68.0522 337.801 68.0522 336.111 Q68.0522 333.356 66.1078 331.62 Q64.1865 329.884 61.0847 329.884 Q58.8856 329.884 56.4319 330.648 Q54.0014 331.412 51.2236 332.963 L51.2236 328.24 Q54.0477 327.106 56.5014 326.527 Q58.955 325.949 60.9921 325.949 Q66.3624 325.949 69.5568 328.634 Q72.7513 331.319 72.7513 335.81 Q72.7513 337.939 71.9411 339.861 Q71.1541 341.759 69.0476 344.351 Q68.4689 345.023 65.367 348.24 Q62.2652 351.435 56.6171 357.199 Z\" fill=\"#000000\" fill-rule=\"evenodd\" fill-opacity=\"1\" /><path clip-path=\"url(#clip460)\" d=\"M82.7512 355.254 L87.6354 355.254 L87.6354 361.134 L82.7512 361.134 L82.7512 355.254 Z\" fill=\"#000000\" fill-rule=\"evenodd\" fill-opacity=\"1\" /><path clip-path=\"url(#clip460)\" d=\"M107.821 329.652 Q104.209 329.652 102.381 333.217 Q100.575 336.759 100.575 343.889 Q100.575 350.995 102.381 354.56 Q104.209 358.101 107.821 358.101 Q111.455 358.101 113.26 354.56 Q115.089 350.995 115.089 343.889 Q115.089 336.759 113.26 333.217 Q111.455 329.652 107.821 329.652 M107.821 325.949 Q113.631 325.949 116.686 330.555 Q119.765 335.139 119.765 343.889 Q119.765 352.615 116.686 357.222 Q113.631 361.805 107.821 361.805 Q102.01 361.805 98.9317 357.222 Q95.8761 352.615 95.8761 343.889 Q95.8761 335.139 98.9317 330.555 Q102.01 325.949 107.821 325.949 Z\" fill=\"#000000\" fill-rule=\"evenodd\" fill-opacity=\"1\" /><polyline clip-path=\"url(#clip462)\" style=\"stroke:#009af9; stroke-linecap:butt; stroke-linejoin:round; stroke-width:4; stroke-opacity:1; fill:none\" points=\"\n",
       "  217.944,1445.72 238.67,1367.57 259.397,1290.89 280.123,1216.45 300.849,1144.77 321.576,1076.16 342.302,1010.81 363.028,948.828 383.755,890.219 404.481,834.958 \n",
       "  425.207,782.973 445.934,734.168 466.66,688.427 487.386,645.622 508.113,605.616 528.839,568.269 549.565,533.439 570.292,500.986 591.018,470.771 611.744,442.661 \n",
       "  632.47,416.525 653.197,392.239 673.923,369.683 694.649,348.744 715.376,329.315 736.102,311.292 756.828,294.58 777.555,279.089 798.281,264.734 819.007,251.434 \n",
       "  839.734,239.116 860.46,227.708 881.186,217.147 901.913,207.37 922.639,198.321 943.365,189.948 964.092,182.201 984.818,175.033 1005.54,168.403 1026.27,162.27 \n",
       "  1047,156.599 1067.72,151.354 1088.45,146.505 1109.18,142.021 1129.9,137.875 1150.63,134.042 1171.36,130.499 1192.08,127.224 1212.81,124.197 1233.53,121.399 \n",
       "  1254.26,118.814 1274.99,116.424 1295.71,114.215 1316.44,112.174 1337.17,110.288 1357.89,108.544 1378.62,106.934 1399.34,105.445 1420.07,104.07 1440.8,102.8 \n",
       "  1461.52,101.625 1482.25,100.541 1502.98,99.5383 1523.7,98.6123 1544.43,97.7566 1565.16,96.9661 1585.88,96.2358 1606.61,95.561 1627.33,94.9377 1648.06,94.3617 \n",
       "  1668.79,93.8296 1689.51,93.3381 1710.24,92.884 1730.97,92.4644 1751.69,92.0768 1772.42,91.7188 1793.14,91.388 1813.87,91.0824 1834.6,90.8001 1855.32,90.5393 \n",
       "  1876.05,90.2984 1896.78,90.0758 1917.5,89.8702 1938.23,89.6803 1958.96,89.5048 1979.68,89.3427 2000.41,89.193 2021.13,89.0547 2041.86,88.9269 2062.59,88.8088 \n",
       "  2083.31,88.6998 2104.04,88.599 2124.77,88.506 2145.49,88.42 2166.22,88.3406 2186.95,88.2672 2207.67,88.1995 2228.4,88.1369 2249.12,88.079 2269.85,88.0256 \n",
       "  2290.58,87.9763 \n",
       "  \"/>\n",
       "</svg>\n"
      ]
     },
     "metadata": {},
     "output_type": "display_data"
    }
   ],
   "source": [
    "pl = plot()\n",
    "plot!(pl, simulations, label = \"\")"
   ]
  },
  {
   "cell_type": "markdown",
   "metadata": {},
   "source": [
    "__What factors affect the steady-state level of capital?__"
   ]
  },
  {
   "cell_type": "markdown",
   "metadata": {},
   "source": [
    "At the steady-state, we have:\n",
    "$$\n",
    "k\\left(1 - \\frac{1 - \\delta}{g}\\right) = \\frac{i}{g} \\iff i = (g - 1 + \\delta)k = s k^\\alpha\n",
    "$$\n",
    "\n",
    "Hence, the steady-state level of capita rises with $\\alpha$ and $s$ and decreases with $g$."
   ]
  },
  {
   "cell_type": "markdown",
   "metadata": {},
   "source": [
    "__Study the stability of $f$ around $\\overline{k}$. Which factors affect the speed of convergence towards the steady-state?__"
   ]
  },
  {
   "cell_type": "code",
   "execution_count": 10,
   "metadata": {},
   "outputs": [
    {
     "data": {
      "text/plain": [
       "steady_state (generic function with 1 method)"
      ]
     },
     "metadata": {},
     "output_type": "display_data"
    }
   ],
   "source": [
    "function steady_state(fun, p)\n",
    "    sim = recursive_steps(fun, 1.0, p)\n",
    "    return sim[end]\n",
    "end"
   ]
  },
  {
   "cell_type": "code",
   "execution_count": 11,
   "metadata": {},
   "outputs": [
    {
     "data": {
      "text/plain": [
       "2.348599266557238"
      ]
     },
     "metadata": {},
     "output_type": "display_data"
    }
   ],
   "source": [
    "steady_state(f, p)"
   ]
  },
  {
   "cell_type": "markdown",
   "metadata": {},
   "source": [
    "To study the stability, we have to look at the derivative of $f$ as a unction of $k$. If it is between 0 and 1, the point is a stable equilibrium. If it is over 1, it is unstable."
   ]
  },
  {
   "cell_type": "code",
   "execution_count": 19,
   "metadata": {},
   "outputs": [
    {
     "data": {
      "image/png": "[encoded data removed]",
      "image/svg+xml": "<?xml version=\"1.0\" encoding=\"utf-8\"?>\n<svg xmlns=\"http://www.w3.org/2000/svg\" xmlns:xlink=\"http://www.w3.org/1999/xlink\" width=\"600\" height=\"400\" viewBox=\"0 0 2400 1600\">\n<defs>\n  <clipPath id=\"clip860\">\n    <rect x=\"0\" y=\"0\" width=\"2400\" height=\"1600\"/>\n  </clipPath>\n</defs>\n<path clip-path=\"url(#clip860)\" d=\"\nM0 1600 L2400 1600 L2400 0 L0 0  Z\n  \" fill=\"#ffffff\" fill-rule=\"evenodd\" fill-opacity=\"1\"/>\n<defs>\n  <clipPath id=\"clip861\">\n    <rect x=\"480\" y=\"0\" width=\"1681\" height=\"1600\"/>\n  </clipPath>\n</defs>\n<path clip-path=\"url(#clip860)\" d=\"\nM112.177 1486.45 L2352.76 1486.45 L2352.76 47.2441 L112.177 47.2441  Z\n  \" fill=\"#ffffff\" fill-rule=\"evenodd\" fill-opacity=\"1\"/>\n<defs>\n  <clipPath id=\"clip862\">\n    <rect x=\"112\" y=\"47\" width=\"2242\" height=\"1440\"/>\n  </clipPath>\n</defs>\n<polyline clip-path=\"url(#clip862)\" style=\"stroke:#000000; stroke-linecap:butt; stroke-linejoin:round; stroke-width:2; stroke-opacity:0.1; fill:none\" points=\"\n  175.59,1486.45 175.59,47.2441 \n  \"/>\n<polyline clip-path=\"url(#clip862)\" style=\"stroke:#000000; stroke-linecap:butt; stroke-linejoin:round; stroke-width:2; stroke-opacity:0.1; fill:none\" points=\"\n  880.174,1486.45 880.174,47.2441 \n  \"/>\n<polyline clip-path=\"url(#clip862)\" style=\"stroke:#000000; stroke-linecap:butt; stroke-linejoin:round; stroke-width:2; stroke-opacity:0.1; fill:none\" points=\"\n  1584.76,1486.45 1584.76,47.2441 \n  \"/>\n<polyline clip-path=\"url(#clip862)\" style=\"stroke:#000000; stroke-linecap:butt; stroke-linejoin:round; stroke-width:2; stroke-opacity:0.1; fill:none\" points=\"\n  2289.34,1486.45 2289.34,47.2441 \n  \"/>\n<polyline clip-path=\"url(#clip860)\" style=\"stroke:#000000; stroke-linecap:butt; stroke-linejoin:round; stroke-width:4; stroke-opacity:1; fill:none\" points=\"\n  112.177,1486.45 2352.76,1486.45 \n  \"/>\n<polyline clip-path=\"url(#clip860)\" style=\"stroke:#000000; stroke-linecap:butt; stroke-linejoin:round; stroke-width:4; stroke-opacity:1; fill:none\" points=\"\n  175.59,1486.45 175.59,1467.55 \n  \"/>\n<polyline clip-path=\"url(#clip860)\" style=\"stroke:#000000; stroke-linecap:butt; stroke-linejoin:round; stroke-width:4; stroke-opacity:1; fill:none\" points=\"\n  880.174,1486.45 880.174,1467.55 \n  \"/>\n<polyline clip-path=\"url(#clip860)\" style=\"stroke:#000000; stroke-linecap:butt; stroke-linejoin:round; stroke-width:4; stroke-opacity:1; fill:none\" points=\"\n  1584.76,1486.45 1584.76,1467.55 \n  \"/>\n<polyline clip-path=\"url(#clip860)\" style=\"stroke:#000000; stroke-linecap:butt; stroke-linejoin:round; stroke-width:4; stroke-opacity:1; fill:none\" points=\"\n  2289.34,1486.45 2289.34,1467.55 \n  \"/>\n<path clip-path=\"url(#clip860)\" d=\"M165.972 1544.91 L173.611 1544.91 L173.611 1518.55 L165.3 1520.21 L165.3 1515.95 L173.564 1514.29 L178.24 1514.29 L178.24 1544.91 L185.879 1544.91 L185.879 1548.85 L165.972 1548.85 L165.972 1544.91 Z\" fill=\"#000000\" fill-rule=\"evenodd\" fill-opacity=\"1\" /><path clip-path=\"url(#clip860)\" d=\"M874.827 1544.91 L891.146 1544.91 L891.146 1548.85 L869.202 1548.85 L869.202 1544.91 Q871.864 1542.16 876.447 1537.53 Q881.054 1532.88 882.234 1531.53 Q884.48 1529.01 885.359 1527.27 Q886.262 1525.51 886.262 1523.82 Q886.262 1521.07 884.318 1519.33 Q882.396 1517.6 879.295 1517.6 Q877.096 1517.6 874.642 1518.36 Q872.211 1519.13 869.434 1520.68 L869.434 1515.95 Q872.258 1514.82 874.711 1514.24 Q877.165 1513.66 879.202 1513.66 Q884.572 1513.66 887.767 1516.35 Q890.961 1519.03 890.961 1523.52 Q890.961 1525.65 890.151 1527.57 Q889.364 1529.47 887.258 1532.07 Q886.679 1532.74 883.577 1535.95 Q880.475 1539.15 874.827 1544.91 Z\" fill=\"#000000\" fill-rule=\"evenodd\" fill-opacity=\"1\" /><path clip-path=\"url(#clip860)\" d=\"M1589.01 1530.21 Q1592.36 1530.93 1594.24 1533.2 Q1596.14 1535.47 1596.14 1538.8 Q1596.14 1543.92 1592.62 1546.72 Q1589.1 1549.52 1582.62 1549.52 Q1580.44 1549.52 1578.13 1549.08 Q1575.84 1548.66 1573.38 1547.81 L1573.38 1543.29 Q1575.33 1544.43 1577.64 1545.01 Q1579.96 1545.58 1582.48 1545.58 Q1586.88 1545.58 1589.17 1543.85 Q1591.48 1542.11 1591.48 1538.8 Q1591.48 1535.75 1589.33 1534.03 Q1587.2 1532.3 1583.38 1532.3 L1579.35 1532.3 L1579.35 1528.45 L1583.57 1528.45 Q1587.02 1528.45 1588.84 1527.09 Q1590.67 1525.7 1590.67 1523.11 Q1590.67 1520.45 1588.77 1519.03 Q1586.9 1517.6 1583.38 1517.6 Q1581.46 1517.6 1579.26 1518.01 Q1577.06 1518.43 1574.42 1519.31 L1574.42 1515.14 Q1577.09 1514.4 1579.4 1514.03 Q1581.74 1513.66 1583.8 1513.66 Q1589.12 1513.66 1592.22 1516.09 Q1595.33 1518.5 1595.33 1522.62 Q1595.33 1525.49 1593.68 1527.48 Q1592.04 1529.45 1589.01 1530.21 Z\" fill=\"#000000\" fill-rule=\"evenodd\" fill-opacity=\"1\" /><path clip-path=\"url(#clip860)\" d=\"M2292.35 1518.36 L2280.55 1536.81 L2292.35 1536.81 L2292.35 1518.36 M2291.13 1514.29 L2297.01 1514.29 L2297.01 1536.81 L2301.94 1536.81 L2301.94 1540.7 L2297.01 1540.7 L2297.01 1548.85 L2292.35 1548.85 L2292.35 1540.7 L2276.75 1540.7 L2276.75 1536.19 L2291.13 1514.29 Z\" fill=\"#000000\" fill-rule=\"evenodd\" fill-opacity=\"1\" /><polyline clip-path=\"url(#clip862)\" style=\"stroke:#000000; stroke-linecap:butt; stroke-linejoin:round; stroke-width:2; stroke-opacity:0.1; fill:none\" points=\"\n  112.177,1445.72 2352.76,1445.72 \n  \"/>\n<polyline clip-path=\"url(#clip862)\" style=\"stroke:#000000; stroke-linecap:butt; stroke-linejoin:round; stroke-width:2; stroke-opacity:0.1; fill:none\" points=\"\n  112.177,993.136 2352.76,993.136 \n  \"/>\n<polyline clip-path=\"url(#clip862)\" style=\"stroke:#000000; stroke-linecap:butt; stroke-linejoin:round; stroke-width:2; stroke-opacity:0.1; fill:none\" points=\"\n  112.177,540.556 2352.76,540.556 \n  \"/>\n<polyline clip-path=\"url(#clip862)\" style=\"stroke:#000000; stroke-linecap:butt; stroke-linejoin:round; stroke-width:2; stroke-opacity:0.1; fill:none\" points=\"\n  112.177,87.9763 2352.76,87.9763 \n  \"/>\n<polyline clip-path=\"url(#clip860)\" style=\"stroke:#000000; stroke-linecap:butt; stroke-linejoin:round; stroke-width:4; stroke-opacity:1; fill:none\" points=\"\n  112.177,1486.45 112.177,47.2441 \n  \"/>\n<polyline clip-path=\"url(#clip860)\" style=\"stroke:#000000; stroke-linecap:butt; stroke-linejoin:round; stroke-width:4; stroke-opacity:1; fill:none\" points=\"\n  112.177,1445.72 131.075,1445.72 \n  \"/>\n<polyline clip-path=\"url(#clip860)\" style=\"stroke:#000000; stroke-linecap:butt; stroke-linejoin:round; stroke-width:4; stroke-opacity:1; fill:none\" points=\"\n  112.177,993.136 131.075,993.136 \n  \"/>\n<polyline clip-path=\"url(#clip860)\" style=\"stroke:#000000; stroke-linecap:butt; stroke-linejoin:round; stroke-width:4; stroke-opacity:1; fill:none\" points=\"\n  112.177,540.556 131.075,540.556 \n  \"/>\n<polyline clip-path=\"url(#clip860)\" style=\"stroke:#000000; stroke-linecap:butt; stroke-linejoin:round; stroke-width:4; stroke-opacity:1; fill:none\" points=\"\n  112.177,87.9763 131.075,87.9763 \n  \"/>\n<path clip-path=\"url(#clip860)\" d=\"M56.2699 1459.06 L63.9087 1459.06 L63.9087 1432.69 L55.5986 1434.36 L55.5986 1430.1 L63.8624 1428.44 L68.5383 1428.44 L68.5383 1459.06 L76.1772 1459.06 L76.1772 1463 L56.2699 1463 L56.2699 1459.06 Z\" fill=\"#000000\" fill-rule=\"evenodd\" fill-opacity=\"1\" /><path clip-path=\"url(#clip860)\" d=\"M59.8578 1006.48 L76.1772 1006.48 L76.1772 1010.42 L54.2328 1010.42 L54.2328 1006.48 Q56.8949 1003.73 61.4782 999.097 Q66.0846 994.444 67.2652 993.101 Q69.5105 990.578 70.3902 988.842 Q71.2929 987.083 71.2929 985.393 Q71.2929 982.638 69.3485 980.902 Q67.4272 979.166 64.3254 979.166 Q62.1263 979.166 59.6726 979.93 Q57.2421 980.694 54.4643 982.245 L54.4643 977.523 Q57.2884 976.388 59.7421 975.81 Q62.1958 975.231 64.2328 975.231 Q69.6031 975.231 72.7976 977.916 Q75.992 980.601 75.992 985.092 Q75.992 987.222 75.1818 989.143 Q74.3948 991.041 72.2883 993.634 Q71.7096 994.305 68.6078 997.522 Q65.5059 1000.72 59.8578 1006.48 Z\" fill=\"#000000\" fill-rule=\"evenodd\" fill-opacity=\"1\" /><path clip-path=\"url(#clip860)\" d=\"M69.0476 539.202 Q72.404 539.92 74.279 542.188 Q76.1772 544.457 76.1772 547.79 Q76.1772 552.906 72.6587 555.706 Q69.1402 558.507 62.6587 558.507 Q60.4828 558.507 58.168 558.068 Q55.8764 557.651 53.4227 556.794 L53.4227 552.281 Q55.3671 553.415 57.6819 553.994 Q59.9967 554.572 62.5198 554.572 Q66.918 554.572 69.2096 552.836 Q71.5244 551.1 71.5244 547.79 Q71.5244 544.734 69.3717 543.021 Q67.242 541.285 63.4226 541.285 L59.3949 541.285 L59.3949 537.443 L63.6078 537.443 Q67.0569 537.443 68.8855 536.077 Q70.7142 534.688 70.7142 532.095 Q70.7142 529.433 68.8161 528.021 Q66.9411 526.586 63.4226 526.586 Q61.5013 526.586 59.3023 527.003 Q57.1032 527.42 54.4643 528.299 L54.4643 524.133 Q57.1264 523.392 59.4412 523.021 Q61.7791 522.651 63.8393 522.651 Q69.1633 522.651 72.2652 525.082 Q75.367 527.489 75.367 531.609 Q75.367 534.48 73.7235 536.47 Q72.08 538.438 69.0476 539.202 Z\" fill=\"#000000\" fill-rule=\"evenodd\" fill-opacity=\"1\" /><path clip-path=\"url(#clip860)\" d=\"M66.5939 74.7703 L54.7884 93.2193 L66.5939 93.2193 L66.5939 74.7703 M65.367 70.6963 L71.2466 70.6963 L71.2466 93.2193 L76.1772 93.2193 L76.1772 97.1082 L71.2466 97.1082 L71.2466 105.256 L66.5939 105.256 L66.5939 97.1082 L50.9921 97.1082 L50.9921 92.5943 L65.367 70.6963 Z\" fill=\"#000000\" fill-rule=\"evenodd\" fill-opacity=\"1\" /><polyline clip-path=\"url(#clip862)\" style=\"stroke:#009af9; stroke-linecap:butt; stroke-linejoin:round; stroke-width:4; stroke-opacity:1; fill:none\" points=\"\n  175.59,1445.72 196.941,1432 218.292,1418.29 239.643,1404.57 260.994,1390.86 282.345,1377.14 303.696,1363.43 325.047,1349.71 346.398,1336 367.749,1322.28 \n  389.1,1308.57 410.451,1294.86 431.802,1281.14 453.153,1267.43 474.504,1253.71 495.855,1240 517.207,1226.28 538.558,1212.57 559.909,1198.85 581.26,1185.14 \n  602.611,1171.42 623.962,1157.71 645.313,1144 666.664,1130.28 688.015,1116.57 709.366,1102.85 730.717,1089.14 752.068,1075.42 773.419,1061.71 794.77,1047.99 \n  816.121,1034.28 837.472,1020.56 858.823,1006.85 880.174,993.136 901.525,979.421 922.876,965.707 944.227,951.992 965.578,938.278 986.93,924.563 1008.28,910.849 \n  1029.63,897.134 1050.98,883.42 1072.33,869.705 1093.68,855.99 1115.04,842.276 1136.39,828.561 1157.74,814.847 1179.09,801.132 1200.44,787.418 1221.79,773.703 \n  1243.14,759.989 1264.49,746.274 1285.84,732.56 1307.2,718.845 1328.55,705.131 1349.9,691.416 1371.25,677.701 1392.6,663.987 1413.95,650.272 1435.3,636.558 \n  1456.65,622.843 1478,609.129 1499.35,595.414 1520.71,581.7 1542.06,567.985 1563.41,554.271 1584.76,540.556 1606.11,526.842 1627.46,513.127 1648.81,499.412 \n  1670.16,485.698 1691.51,471.983 1712.87,458.269 1734.22,444.554 1755.57,430.84 1776.92,417.125 1798.27,403.411 1819.62,389.696 1840.97,375.982 1862.32,362.267 \n  1883.67,348.553 1905.02,334.838 1926.38,321.123 1947.73,307.409 1969.08,293.694 1990.43,279.98 2011.78,266.265 2033.13,252.551 2054.48,238.836 2075.83,225.122 \n  2097.18,211.407 2118.53,197.693 2139.89,183.978 2161.24,170.264 2182.59,156.549 2203.94,142.834 2225.29,129.12 2246.64,115.405 2267.99,101.691 2289.34,87.9763 \n  \n  \"/>\n<polyline clip-path=\"url(#clip862)\" style=\"stroke:#e26f46; stroke-linecap:butt; stroke-linejoin:round; stroke-width:4; stroke-opacity:1; fill:none\" points=\"\n  175.59,1405.39 196.941,1392.36 218.292,1379.35 239.643,1366.35 260.994,1353.37 282.345,1340.41 303.696,1327.46 325.047,1314.52 346.398,1301.59 367.749,1288.67 \n  389.1,1275.77 410.451,1262.88 431.802,1250 453.153,1237.13 474.504,1224.26 495.855,1211.41 517.207,1198.57 538.558,1185.73 559.909,1172.91 581.26,1160.09 \n  602.611,1147.28 623.962,1134.48 645.313,1121.69 666.664,1108.9 688.015,1096.12 709.366,1083.34 730.717,1070.58 752.068,1057.82 773.419,1045.06 794.77,1032.32 \n  816.121,1019.57 837.472,1006.84 858.823,994.108 880.174,981.383 901.525,968.663 922.876,955.948 944.227,943.239 965.578,930.534 986.93,917.835 1008.28,905.139 \n  1029.63,892.449 1050.98,879.763 1072.33,867.081 1093.68,854.404 1115.04,841.731 1136.39,829.062 1157.74,816.397 1179.09,803.736 1200.44,791.078 1221.79,778.425 \n  1243.14,765.775 1264.49,753.129 1285.84,740.486 1307.2,727.847 1328.55,715.211 1349.9,702.578 1371.25,689.949 1392.6,677.323 1413.95,664.7 1435.3,652.08 \n  1456.65,639.463 1478,626.849 1499.35,614.238 1520.71,601.63 1542.06,589.025 1563.41,576.422 1584.76,563.822 1606.11,551.225 1627.46,538.631 1648.81,526.039 \n  1670.16,513.449 1691.51,500.862 1712.87,488.278 1734.22,475.696 1755.57,463.116 1776.92,450.539 1798.27,437.964 1819.62,425.391 1840.97,412.821 1862.32,400.252 \n  1883.67,387.686 1905.02,375.122 1926.38,362.56 1947.73,350 1969.08,337.443 1990.43,324.887 2011.78,312.333 2033.13,299.781 2054.48,287.231 2075.83,274.683 \n  2097.18,262.137 2118.53,249.593 2139.89,237.05 2161.24,224.509 2182.59,211.971 2203.94,199.433 2225.29,186.898 2246.64,174.364 2267.99,161.832 2289.34,149.302 \n  \n  \"/>\n<path clip-path=\"url(#clip860)\" d=\"\nM1767.52 1438.47 L2278.07 1438.47 L2278.07 1282.95 L1767.52 1282.95  Z\n  \" fill=\"#ffffff\" fill-rule=\"evenodd\" fill-opacity=\"1\"/>\n<polyline clip-path=\"url(#clip860)\" style=\"stroke:#000000; stroke-linecap:butt; stroke-linejoin:round; stroke-width:4; stroke-opacity:1; fill:none\" points=\"\n  1767.52,1438.47 2278.07,1438.47 2278.07,1282.95 1767.52,1282.95 1767.52,1438.47 \n  \"/>\n<polyline clip-path=\"url(#clip860)\" style=\"stroke:#009af9; stroke-linecap:butt; stroke-linejoin:round; stroke-width:4; stroke-opacity:1; fill:none\" points=\"\n  1792.42,1334.79 1941.79,1334.79 \n  \"/>\n<path clip-path=\"url(#clip860)\" d=\"M1982.29 1321.59 L1970.48 1340.04 L1982.29 1340.04 L1982.29 1321.59 M1981.06 1317.51 L1986.94 1317.51 L1986.94 1340.04 L1991.87 1340.04 L1991.87 1343.93 L1986.94 1343.93 L1986.94 1352.07 L1982.29 1352.07 L1982.29 1343.93 L1966.68 1343.93 L1966.68 1339.41 L1981.06 1317.51 Z\" fill=\"#000000\" fill-rule=\"evenodd\" fill-opacity=\"1\" /><path clip-path=\"url(#clip860)\" d=\"M1999.65 1317.51 L2018 1317.51 L2018 1321.45 L2003.93 1321.45 L2003.93 1329.92 Q2004.95 1329.57 2005.97 1329.41 Q2006.98 1329.23 2008 1329.23 Q2013.79 1329.23 2017.17 1332.4 Q2020.55 1335.57 2020.55 1340.99 Q2020.55 1346.57 2017.08 1349.67 Q2013.6 1352.75 2007.29 1352.75 Q2005.11 1352.75 2002.84 1352.38 Q2000.6 1352 1998.19 1351.26 L1998.19 1346.57 Q2000.27 1347.7 2002.49 1348.25 Q2004.72 1348.81 2007.19 1348.81 Q2011.2 1348.81 2013.54 1346.7 Q2015.87 1344.6 2015.87 1340.99 Q2015.87 1337.38 2013.54 1335.27 Q2011.2 1333.16 2007.19 1333.16 Q2005.32 1333.16 2003.44 1333.58 Q2001.59 1334 1999.65 1334.88 L1999.65 1317.51 Z\" fill=\"#000000\" fill-rule=\"evenodd\" fill-opacity=\"1\" /><path clip-path=\"url(#clip860)\" d=\"M2061.29 1330.08 L2061.29 1316.06 L2065.55 1316.06 L2065.55 1352.07 L2061.29 1352.07 L2061.29 1348.19 Q2059.95 1350.5 2057.89 1351.63 Q2055.85 1352.75 2052.98 1352.75 Q2048.28 1352.75 2045.32 1349 Q2042.38 1345.25 2042.38 1339.13 Q2042.38 1333.02 2045.32 1329.27 Q2048.28 1325.52 2052.98 1325.52 Q2055.85 1325.52 2057.89 1326.66 Q2059.95 1327.77 2061.29 1330.08 M2046.78 1339.13 Q2046.78 1343.83 2048.7 1346.52 Q2050.64 1349.18 2054.02 1349.18 Q2057.4 1349.18 2059.35 1346.52 Q2061.29 1343.83 2061.29 1339.13 Q2061.29 1334.44 2059.35 1331.77 Q2057.4 1329.09 2054.02 1329.09 Q2050.64 1329.09 2048.7 1331.77 Q2046.78 1334.44 2046.78 1339.13 Z\" fill=\"#000000\" fill-rule=\"evenodd\" fill-opacity=\"1\" /><path clip-path=\"url(#clip860)\" d=\"M2096.5 1338.05 L2096.5 1340.13 L2076.91 1340.13 Q2077.19 1344.53 2079.55 1346.84 Q2081.94 1349.13 2086.17 1349.13 Q2088.63 1349.13 2090.92 1348.53 Q2093.23 1347.93 2095.5 1346.73 L2095.5 1350.75 Q2093.21 1351.73 2090.8 1352.24 Q2088.4 1352.75 2085.92 1352.75 Q2079.72 1352.75 2076.08 1349.13 Q2072.47 1345.52 2072.47 1339.37 Q2072.47 1333 2075.9 1329.27 Q2079.34 1325.52 2085.18 1325.52 Q2090.41 1325.52 2093.44 1328.9 Q2096.5 1332.26 2096.5 1338.05 M2092.24 1336.8 Q2092.19 1333.3 2090.27 1331.22 Q2088.37 1329.13 2085.22 1329.13 Q2081.66 1329.13 2079.51 1331.15 Q2077.38 1333.16 2077.05 1336.82 L2092.24 1336.8 Z\" fill=\"#000000\" fill-rule=\"evenodd\" fill-opacity=\"1\" /><path clip-path=\"url(#clip860)\" d=\"M2120.55 1338.81 Q2120.55 1334.18 2118.63 1331.63 Q2116.73 1329.09 2113.28 1329.09 Q2109.85 1329.09 2107.93 1331.63 Q2106.03 1334.18 2106.03 1338.81 Q2106.03 1343.42 2107.93 1345.96 Q2109.85 1348.51 2113.28 1348.51 Q2116.73 1348.51 2118.63 1345.96 Q2120.55 1343.42 2120.55 1338.81 M2124.81 1348.86 Q2124.81 1355.48 2121.87 1358.69 Q2118.93 1361.94 2112.86 1361.94 Q2110.62 1361.94 2108.63 1361.59 Q2106.64 1361.26 2104.76 1360.57 L2104.76 1356.43 Q2106.64 1357.44 2108.47 1357.93 Q2110.29 1358.42 2112.19 1358.42 Q2116.38 1358.42 2118.47 1356.22 Q2120.55 1354.04 2120.55 1349.62 L2120.55 1347.51 Q2119.23 1349.81 2117.17 1350.94 Q2115.11 1352.07 2112.24 1352.07 Q2107.47 1352.07 2104.55 1348.44 Q2101.64 1344.81 2101.64 1338.81 Q2101.64 1332.79 2104.55 1329.16 Q2107.47 1325.52 2112.24 1325.52 Q2115.11 1325.52 2117.17 1326.66 Q2119.23 1327.79 2120.55 1330.08 L2120.55 1326.15 L2124.81 1326.15 L2124.81 1348.86 Z\" fill=\"#000000\" fill-rule=\"evenodd\" fill-opacity=\"1\" /><path clip-path=\"url(#clip860)\" d=\"M2148.6 1330.13 Q2147.89 1329.71 2147.03 1329.53 Q2146.2 1329.32 2145.18 1329.32 Q2141.57 1329.32 2139.62 1331.68 Q2137.7 1334.02 2137.7 1338.42 L2137.7 1352.07 L2133.42 1352.07 L2133.42 1326.15 L2137.7 1326.15 L2137.7 1330.18 Q2139.04 1327.82 2141.2 1326.68 Q2143.35 1325.52 2146.43 1325.52 Q2146.87 1325.52 2147.4 1325.59 Q2147.93 1325.64 2148.58 1325.76 L2148.6 1330.13 Z\" fill=\"#000000\" fill-rule=\"evenodd\" fill-opacity=\"1\" /><path clip-path=\"url(#clip860)\" d=\"M2174.21 1338.05 L2174.21 1340.13 L2154.62 1340.13 Q2154.9 1344.53 2157.26 1346.84 Q2159.65 1349.13 2163.88 1349.13 Q2166.34 1349.13 2168.63 1348.53 Q2170.94 1347.93 2173.21 1346.73 L2173.21 1350.75 Q2170.92 1351.73 2168.51 1352.24 Q2166.1 1352.75 2163.63 1352.75 Q2157.42 1352.75 2153.79 1349.13 Q2150.18 1345.52 2150.18 1339.37 Q2150.18 1333 2153.6 1329.27 Q2157.05 1325.52 2162.89 1325.52 Q2168.12 1325.52 2171.15 1328.9 Q2174.21 1332.26 2174.21 1338.05 M2169.95 1336.8 Q2169.9 1333.3 2167.98 1331.22 Q2166.08 1329.13 2162.93 1329.13 Q2159.37 1329.13 2157.21 1331.15 Q2155.09 1333.16 2154.76 1336.82 L2169.95 1336.8 Z\" fill=\"#000000\" fill-rule=\"evenodd\" fill-opacity=\"1\" /><path clip-path=\"url(#clip860)\" d=\"M2203.37 1338.05 L2203.37 1340.13 L2183.79 1340.13 Q2184.07 1344.53 2186.43 1346.84 Q2188.81 1349.13 2193.05 1349.13 Q2195.5 1349.13 2197.79 1348.53 Q2200.11 1347.93 2202.38 1346.73 L2202.38 1350.75 Q2200.09 1351.73 2197.68 1352.24 Q2195.27 1352.75 2192.79 1352.75 Q2186.59 1352.75 2182.96 1349.13 Q2179.34 1345.52 2179.34 1339.37 Q2179.34 1333 2182.77 1329.27 Q2186.22 1325.52 2192.05 1325.52 Q2197.28 1325.52 2200.32 1328.9 Q2203.37 1332.26 2203.37 1338.05 M2199.11 1336.8 Q2199.07 1333.3 2197.15 1331.22 Q2195.25 1329.13 2192.1 1329.13 Q2188.53 1329.13 2186.38 1331.15 Q2184.25 1333.16 2183.93 1336.82 L2199.11 1336.8 Z\" fill=\"#000000\" fill-rule=\"evenodd\" fill-opacity=\"1\" /><path clip-path=\"url(#clip860)\" d=\"M2226.89 1326.91 L2226.89 1330.94 Q2225.08 1330.01 2223.14 1329.55 Q2221.2 1329.09 2219.11 1329.09 Q2215.94 1329.09 2214.34 1330.06 Q2212.77 1331.03 2212.77 1332.98 Q2212.77 1334.46 2213.9 1335.32 Q2215.04 1336.15 2218.46 1336.91 L2219.92 1337.24 Q2224.46 1338.21 2226.36 1339.99 Q2228.28 1341.75 2228.28 1344.92 Q2228.28 1348.53 2225.41 1350.64 Q2222.56 1352.75 2217.56 1352.75 Q2215.48 1352.75 2213.21 1352.33 Q2210.96 1351.94 2208.46 1351.13 L2208.46 1346.73 Q2210.83 1347.95 2213.12 1348.58 Q2215.41 1349.18 2217.65 1349.18 Q2220.66 1349.18 2222.28 1348.16 Q2223.9 1347.12 2223.9 1345.25 Q2223.9 1343.51 2222.72 1342.58 Q2221.57 1341.66 2217.61 1340.8 L2216.13 1340.45 Q2212.17 1339.62 2210.41 1337.91 Q2208.65 1336.17 2208.65 1333.16 Q2208.65 1329.51 2211.24 1327.51 Q2213.83 1325.52 2218.6 1325.52 Q2220.96 1325.52 2223.05 1325.87 Q2225.13 1326.22 2226.89 1326.91 Z\" fill=\"#000000\" fill-rule=\"evenodd\" fill-opacity=\"1\" /><polyline clip-path=\"url(#clip860)\" style=\"stroke:#e26f46; stroke-linecap:butt; stroke-linejoin:round; stroke-width:4; stroke-opacity:1; fill:none\" points=\"\n  1792.42,1386.63 1941.79,1386.63 \n  \"/>\n<path clip-path=\"url(#clip860)\" d=\"M1983.19 1367.9 L1983.19 1371.44 L1979.11 1371.44 Q1976.82 1371.44 1975.92 1372.36 Q1975.04 1373.29 1975.04 1375.7 L1975.04 1377.99 L1982.05 1377.99 L1982.05 1381.3 L1975.04 1381.3 L1975.04 1403.91 L1970.76 1403.91 L1970.76 1381.3 L1966.68 1381.3 L1966.68 1377.99 L1970.76 1377.99 L1970.76 1376.18 Q1970.76 1371.85 1972.77 1369.89 Q1974.79 1367.9 1979.16 1367.9 L1983.19 1367.9 Z\" fill=\"#000000\" fill-rule=\"evenodd\" fill-opacity=\"1\" /><path clip-path=\"url(#clip860)\" d=\"M1996.98 1367.94 Q1993.88 1373.27 1992.38 1378.47 Q1990.87 1383.68 1990.87 1389.03 Q1990.87 1394.38 1992.38 1399.63 Q1993.91 1404.86 1996.98 1410.16 L1993.28 1410.16 Q1989.81 1404.72 1988.07 1399.47 Q1986.36 1394.22 1986.36 1389.03 Q1986.36 1383.87 1988.07 1378.64 Q1989.79 1373.41 1993.28 1367.94 L1996.98 1367.94 Z\" fill=\"#000000\" fill-rule=\"evenodd\" fill-opacity=\"1\" /><path clip-path=\"url(#clip860)\" d=\"M2005.09 1367.9 L2009.37 1367.9 L2009.37 1389.17 L2022.08 1377.99 L2027.52 1377.99 L2013.77 1390.12 L2028.1 1403.91 L2022.54 1403.91 L2009.37 1391.25 L2009.37 1403.91 L2005.09 1403.91 L2005.09 1367.9 Z\" fill=\"#000000\" fill-rule=\"evenodd\" fill-opacity=\"1\" /><path clip-path=\"url(#clip860)\" d=\"M2032.03 1367.94 L2035.73 1367.94 Q2039.21 1373.41 2040.92 1378.64 Q2042.66 1383.87 2042.66 1389.03 Q2042.66 1394.22 2040.92 1399.47 Q2039.21 1404.72 2035.73 1410.16 L2032.03 1410.16 Q2035.11 1404.86 2036.61 1399.63 Q2038.14 1394.38 2038.14 1389.03 Q2038.14 1383.68 2036.61 1378.47 Q2035.11 1373.27 2032.03 1367.94 Z\" fill=\"#000000\" fill-rule=\"evenodd\" fill-opacity=\"1\" /><path clip-path=\"url(#clip860)\" d=\"M2066.82 1382.39 L2096.5 1382.39 L2096.5 1386.28 L2066.82 1386.28 L2066.82 1382.39 M2066.82 1391.83 L2096.5 1391.83 L2096.5 1395.77 L2066.82 1395.77 L2066.82 1391.83 Z\" fill=\"#000000\" fill-rule=\"evenodd\" fill-opacity=\"1\" /><path clip-path=\"url(#clip860)\" d=\"M2120.9 1367.9 L2125.18 1367.9 L2125.18 1389.17 L2137.89 1377.99 L2143.33 1377.99 L2129.58 1390.12 L2143.9 1403.91 L2138.35 1403.91 L2125.18 1391.25 L2125.18 1403.91 L2120.9 1403.91 L2120.9 1367.9 Z\" fill=\"#000000\" fill-rule=\"evenodd\" fill-opacity=\"1\" /><path clip-path=\"url(#clip860)\" d=\"M2159.11 1372.43 Q2155.5 1372.43 2153.67 1376 Q2151.87 1379.54 2151.87 1386.67 Q2151.87 1393.78 2153.67 1397.34 Q2155.5 1400.88 2159.11 1400.88 Q2162.75 1400.88 2164.55 1397.34 Q2166.38 1393.78 2166.38 1386.67 Q2166.38 1379.54 2164.55 1376 Q2162.75 1372.43 2159.11 1372.43 M2159.11 1368.73 Q2164.92 1368.73 2167.98 1373.34 Q2171.06 1377.92 2171.06 1386.67 Q2171.06 1395.4 2167.98 1400 Q2164.92 1404.59 2159.11 1404.59 Q2153.3 1404.59 2150.22 1400 Q2147.17 1395.4 2147.17 1386.67 Q2147.17 1377.92 2150.22 1373.34 Q2153.3 1368.73 2159.11 1368.73 Z\" fill=\"#000000\" fill-rule=\"evenodd\" fill-opacity=\"1\" /></svg>\n",
      "text/html": [
       "<?xml version=\"1.0\" encoding=\"utf-8\"?>\n",
       "<svg xmlns=\"http://www.w3.org/2000/svg\" xmlns:xlink=\"http://www.w3.org/1999/xlink\" width=\"600\" height=\"400\" viewBox=\"0 0 2400 1600\">\n",
       "<defs>\n",
       "  <clipPath id=\"clip910\">\n",
       "    <rect x=\"0\" y=\"0\" width=\"2400\" height=\"1600\"/>\n",
       "  </clipPath>\n",
       "</defs>\n",
       "<path clip-path=\"url(#clip910)\" d=\"\n",
       "M0 1600 L2400 1600 L2400 0 L0 0  Z\n",
       "  \" fill=\"#ffffff\" fill-rule=\"evenodd\" fill-opacity=\"1\"/>\n",
       "<defs>\n",
       "  <clipPath id=\"clip911\">\n",
       "    <rect x=\"480\" y=\"0\" width=\"1681\" height=\"1600\"/>\n",
       "  </clipPath>\n",
       "</defs>\n",
       "<path clip-path=\"url(#clip910)\" d=\"\n",
       "M112.177 1486.45 L2352.76 1486.45 L2352.76 47.2441 L112.177 47.2441  Z\n",
       "  \" fill=\"#ffffff\" fill-rule=\"evenodd\" fill-opacity=\"1\"/>\n",
       "<defs>\n",
       "  <clipPath id=\"clip912\">\n",
       "    <rect x=\"112\" y=\"47\" width=\"2242\" height=\"1440\"/>\n",
       "  </clipPath>\n",
       "</defs>\n",
       "<polyline clip-path=\"url(#clip912)\" style=\"stroke:#000000; stroke-linecap:butt; stroke-linejoin:round; stroke-width:2; stroke-opacity:0.1; fill:none\" points=\"\n",
       "  175.59,1486.45 175.59,47.2441 \n",
       "  \"/>\n",
       "<polyline clip-path=\"url(#clip912)\" style=\"stroke:#000000; stroke-linecap:butt; stroke-linejoin:round; stroke-width:2; stroke-opacity:0.1; fill:none\" points=\"\n",
       "  880.174,1486.45 880.174,47.2441 \n",
       "  \"/>\n",
       "<polyline clip-path=\"url(#clip912)\" style=\"stroke:#000000; stroke-linecap:butt; stroke-linejoin:round; stroke-width:2; stroke-opacity:0.1; fill:none\" points=\"\n",
       "  1584.76,1486.45 1584.76,47.2441 \n",
       "  \"/>\n",
       "<polyline clip-path=\"url(#clip912)\" style=\"stroke:#000000; stroke-linecap:butt; stroke-linejoin:round; stroke-width:2; stroke-opacity:0.1; fill:none\" points=\"\n",
       "  2289.34,1486.45 2289.34,47.2441 \n",
       "  \"/>\n",
       "<polyline clip-path=\"url(#clip910)\" style=\"stroke:#000000; stroke-linecap:butt; stroke-linejoin:round; stroke-width:4; stroke-opacity:1; fill:none\" points=\"\n",
       "  112.177,1486.45 2352.76,1486.45 \n",
       "  \"/>\n",
       "<polyline clip-path=\"url(#clip910)\" style=\"stroke:#000000; stroke-linecap:butt; stroke-linejoin:round; stroke-width:4; stroke-opacity:1; fill:none\" points=\"\n",
       "  175.59,1486.45 175.59,1467.55 \n",
       "  \"/>\n",
       "<polyline clip-path=\"url(#clip910)\" style=\"stroke:#000000; stroke-linecap:butt; stroke-linejoin:round; stroke-width:4; stroke-opacity:1; fill:none\" points=\"\n",
       "  880.174,1486.45 880.174,1467.55 \n",
       "  \"/>\n",
       "<polyline clip-path=\"url(#clip910)\" style=\"stroke:#000000; stroke-linecap:butt; stroke-linejoin:round; stroke-width:4; stroke-opacity:1; fill:none\" points=\"\n",
       "  1584.76,1486.45 1584.76,1467.55 \n",
       "  \"/>\n",
       "<polyline clip-path=\"url(#clip910)\" style=\"stroke:#000000; stroke-linecap:butt; stroke-linejoin:round; stroke-width:4; stroke-opacity:1; fill:none\" points=\"\n",
       "  2289.34,1486.45 2289.34,1467.55 \n",
       "  \"/>\n",
       "<path clip-path=\"url(#clip910)\" d=\"M165.972 1544.91 L173.611 1544.91 L173.611 1518.55 L165.3 1520.21 L165.3 1515.95 L173.564 1514.29 L178.24 1514.29 L178.24 1544.91 L185.879 1544.91 L185.879 1548.85 L165.972 1548.85 L165.972 1544.91 Z\" fill=\"#000000\" fill-rule=\"evenodd\" fill-opacity=\"1\" /><path clip-path=\"url(#clip910)\" d=\"M874.827 1544.91 L891.146 1544.91 L891.146 1548.85 L869.202 1548.85 L869.202 1544.91 Q871.864 1542.16 876.447 1537.53 Q881.054 1532.88 882.234 1531.53 Q884.48 1529.01 885.359 1527.27 Q886.262 1525.51 886.262 1523.82 Q886.262 1521.07 884.318 1519.33 Q882.396 1517.6 879.295 1517.6 Q877.096 1517.6 874.642 1518.36 Q872.211 1519.13 869.434 1520.68 L869.434 1515.95 Q872.258 1514.82 874.711 1514.24 Q877.165 1513.66 879.202 1513.66 Q884.572 1513.66 887.767 1516.35 Q890.961 1519.03 890.961 1523.52 Q890.961 1525.65 890.151 1527.57 Q889.364 1529.47 887.258 1532.07 Q886.679 1532.74 883.577 1535.95 Q880.475 1539.15 874.827 1544.91 Z\" fill=\"#000000\" fill-rule=\"evenodd\" fill-opacity=\"1\" /><path clip-path=\"url(#clip910)\" d=\"M1589.01 1530.21 Q1592.36 1530.93 1594.24 1533.2 Q1596.14 1535.47 1596.14 1538.8 Q1596.14 1543.92 1592.62 1546.72 Q1589.1 1549.52 1582.62 1549.52 Q1580.44 1549.52 1578.13 1549.08 Q1575.84 1548.66 1573.38 1547.81 L1573.38 1543.29 Q1575.33 1544.43 1577.64 1545.01 Q1579.96 1545.58 1582.48 1545.58 Q1586.88 1545.58 1589.17 1543.85 Q1591.48 1542.11 1591.48 1538.8 Q1591.48 1535.75 1589.33 1534.03 Q1587.2 1532.3 1583.38 1532.3 L1579.35 1532.3 L1579.35 1528.45 L1583.57 1528.45 Q1587.02 1528.45 1588.84 1527.09 Q1590.67 1525.7 1590.67 1523.11 Q1590.67 1520.45 1588.77 1519.03 Q1586.9 1517.6 1583.38 1517.6 Q1581.46 1517.6 1579.26 1518.01 Q1577.06 1518.43 1574.42 1519.31 L1574.42 1515.14 Q1577.09 1514.4 1579.4 1514.03 Q1581.74 1513.66 1583.8 1513.66 Q1589.12 1513.66 1592.22 1516.09 Q1595.33 1518.5 1595.33 1522.62 Q1595.33 1525.49 1593.68 1527.48 Q1592.04 1529.45 1589.01 1530.21 Z\" fill=\"#000000\" fill-rule=\"evenodd\" fill-opacity=\"1\" /><path clip-path=\"url(#clip910)\" d=\"M2292.35 1518.36 L2280.55 1536.81 L2292.35 1536.81 L2292.35 1518.36 M2291.13 1514.29 L2297.01 1514.29 L2297.01 1536.81 L2301.94 1536.81 L2301.94 1540.7 L2297.01 1540.7 L2297.01 1548.85 L2292.35 1548.85 L2292.35 1540.7 L2276.75 1540.7 L2276.75 1536.19 L2291.13 1514.29 Z\" fill=\"#000000\" fill-rule=\"evenodd\" fill-opacity=\"1\" /><polyline clip-path=\"url(#clip912)\" style=\"stroke:#000000; stroke-linecap:butt; stroke-linejoin:round; stroke-width:2; stroke-opacity:0.1; fill:none\" points=\"\n",
       "  112.177,1445.72 2352.76,1445.72 \n",
       "  \"/>\n",
       "<polyline clip-path=\"url(#clip912)\" style=\"stroke:#000000; stroke-linecap:butt; stroke-linejoin:round; stroke-width:2; stroke-opacity:0.1; fill:none\" points=\"\n",
       "  112.177,993.136 2352.76,993.136 \n",
       "  \"/>\n",
       "<polyline clip-path=\"url(#clip912)\" style=\"stroke:#000000; stroke-linecap:butt; stroke-linejoin:round; stroke-width:2; stroke-opacity:0.1; fill:none\" points=\"\n",
       "  112.177,540.556 2352.76,540.556 \n",
       "  \"/>\n",
       "<polyline clip-path=\"url(#clip912)\" style=\"stroke:#000000; stroke-linecap:butt; stroke-linejoin:round; stroke-width:2; stroke-opacity:0.1; fill:none\" points=\"\n",
       "  112.177,87.9763 2352.76,87.9763 \n",
       "  \"/>\n",
       "<polyline clip-path=\"url(#clip910)\" style=\"stroke:#000000; stroke-linecap:butt; stroke-linejoin:round; stroke-width:4; stroke-opacity:1; fill:none\" points=\"\n",
       "  112.177,1486.45 112.177,47.2441 \n",
       "  \"/>\n",
       "<polyline clip-path=\"url(#clip910)\" style=\"stroke:#000000; stroke-linecap:butt; stroke-linejoin:round; stroke-width:4; stroke-opacity:1; fill:none\" points=\"\n",
       "  112.177,1445.72 131.075,1445.72 \n",
       "  \"/>\n",
       "<polyline clip-path=\"url(#clip910)\" style=\"stroke:#000000; stroke-linecap:butt; stroke-linejoin:round; stroke-width:4; stroke-opacity:1; fill:none\" points=\"\n",
       "  112.177,993.136 131.075,993.136 \n",
       "  \"/>\n",
       "<polyline clip-path=\"url(#clip910)\" style=\"stroke:#000000; stroke-linecap:butt; stroke-linejoin:round; stroke-width:4; stroke-opacity:1; fill:none\" points=\"\n",
       "  112.177,540.556 131.075,540.556 \n",
       "  \"/>\n",
       "<polyline clip-path=\"url(#clip910)\" style=\"stroke:#000000; stroke-linecap:butt; stroke-linejoin:round; stroke-width:4; stroke-opacity:1; fill:none\" points=\"\n",
       "  112.177,87.9763 131.075,87.9763 \n",
       "  \"/>\n",
       "<path clip-path=\"url(#clip910)\" d=\"M56.2699 1459.06 L63.9087 1459.06 L63.9087 1432.69 L55.5986 1434.36 L55.5986 1430.1 L63.8624 1428.44 L68.5383 1428.44 L68.5383 1459.06 L76.1772 1459.06 L76.1772 1463 L56.2699 1463 L56.2699 1459.06 Z\" fill=\"#000000\" fill-rule=\"evenodd\" fill-opacity=\"1\" /><path clip-path=\"url(#clip910)\" d=\"M59.8578 1006.48 L76.1772 1006.48 L76.1772 1010.42 L54.2328 1010.42 L54.2328 1006.48 Q56.8949 1003.73 61.4782 999.097 Q66.0846 994.444 67.2652 993.101 Q69.5105 990.578 70.3902 988.842 Q71.2929 987.083 71.2929 985.393 Q71.2929 982.638 69.3485 980.902 Q67.4272 979.166 64.3254 979.166 Q62.1263 979.166 59.6726 979.93 Q57.2421 980.694 54.4643 982.245 L54.4643 977.523 Q57.2884 976.388 59.7421 975.81 Q62.1958 975.231 64.2328 975.231 Q69.6031 975.231 72.7976 977.916 Q75.992 980.601 75.992 985.092 Q75.992 987.222 75.1818 989.143 Q74.3948 991.041 72.2883 993.634 Q71.7096 994.305 68.6078 997.522 Q65.5059 1000.72 59.8578 1006.48 Z\" fill=\"#000000\" fill-rule=\"evenodd\" fill-opacity=\"1\" /><path clip-path=\"url(#clip910)\" d=\"M69.0476 539.202 Q72.404 539.92 74.279 542.188 Q76.1772 544.457 76.1772 547.79 Q76.1772 552.906 72.6587 555.706 Q69.1402 558.507 62.6587 558.507 Q60.4828 558.507 58.168 558.068 Q55.8764 557.651 53.4227 556.794 L53.4227 552.281 Q55.3671 553.415 57.6819 553.994 Q59.9967 554.572 62.5198 554.572 Q66.918 554.572 69.2096 552.836 Q71.5244 551.1 71.5244 547.79 Q71.5244 544.734 69.3717 543.021 Q67.242 541.285 63.4226 541.285 L59.3949 541.285 L59.3949 537.443 L63.6078 537.443 Q67.0569 537.443 68.8855 536.077 Q70.7142 534.688 70.7142 532.095 Q70.7142 529.433 68.8161 528.021 Q66.9411 526.586 63.4226 526.586 Q61.5013 526.586 59.3023 527.003 Q57.1032 527.42 54.4643 528.299 L54.4643 524.133 Q57.1264 523.392 59.4412 523.021 Q61.7791 522.651 63.8393 522.651 Q69.1633 522.651 72.2652 525.082 Q75.367 527.489 75.367 531.609 Q75.367 534.48 73.7235 536.47 Q72.08 538.438 69.0476 539.202 Z\" fill=\"#000000\" fill-rule=\"evenodd\" fill-opacity=\"1\" /><path clip-path=\"url(#clip910)\" d=\"M66.5939 74.7703 L54.7884 93.2193 L66.5939 93.2193 L66.5939 74.7703 M65.367 70.6963 L71.2466 70.6963 L71.2466 93.2193 L76.1772 93.2193 L76.1772 97.1082 L71.2466 97.1082 L71.2466 105.256 L66.5939 105.256 L66.5939 97.1082 L50.9921 97.1082 L50.9921 92.5943 L65.367 70.6963 Z\" fill=\"#000000\" fill-rule=\"evenodd\" fill-opacity=\"1\" /><polyline clip-path=\"url(#clip912)\" style=\"stroke:#009af9; stroke-linecap:butt; stroke-linejoin:round; stroke-width:4; stroke-opacity:1; fill:none\" points=\"\n",
       "  175.59,1445.72 196.941,1432 218.292,1418.29 239.643,1404.57 260.994,1390.86 282.345,1377.14 303.696,1363.43 325.047,1349.71 346.398,1336 367.749,1322.28 \n",
       "  389.1,1308.57 410.451,1294.86 431.802,1281.14 453.153,1267.43 474.504,1253.71 495.855,1240 517.207,1226.28 538.558,1212.57 559.909,1198.85 581.26,1185.14 \n",
       "  602.611,1171.42 623.962,1157.71 645.313,1144 666.664,1130.28 688.015,1116.57 709.366,1102.85 730.717,1089.14 752.068,1075.42 773.419,1061.71 794.77,1047.99 \n",
       "  816.121,1034.28 837.472,1020.56 858.823,1006.85 880.174,993.136 901.525,979.421 922.876,965.707 944.227,951.992 965.578,938.278 986.93,924.563 1008.28,910.849 \n",
       "  1029.63,897.134 1050.98,883.42 1072.33,869.705 1093.68,855.99 1115.04,842.276 1136.39,828.561 1157.74,814.847 1179.09,801.132 1200.44,787.418 1221.79,773.703 \n",
       "  1243.14,759.989 1264.49,746.274 1285.84,732.56 1307.2,718.845 1328.55,705.131 1349.9,691.416 1371.25,677.701 1392.6,663.987 1413.95,650.272 1435.3,636.558 \n",
       "  1456.65,622.843 1478,609.129 1499.35,595.414 1520.71,581.7 1542.06,567.985 1563.41,554.271 1584.76,540.556 1606.11,526.842 1627.46,513.127 1648.81,499.412 \n",
       "  1670.16,485.698 1691.51,471.983 1712.87,458.269 1734.22,444.554 1755.57,430.84 1776.92,417.125 1798.27,403.411 1819.62,389.696 1840.97,375.982 1862.32,362.267 \n",
       "  1883.67,348.553 1905.02,334.838 1926.38,321.123 1947.73,307.409 1969.08,293.694 1990.43,279.98 2011.78,266.265 2033.13,252.551 2054.48,238.836 2075.83,225.122 \n",
       "  2097.18,211.407 2118.53,197.693 2139.89,183.978 2161.24,170.264 2182.59,156.549 2203.94,142.834 2225.29,129.12 2246.64,115.405 2267.99,101.691 2289.34,87.9763 \n",
       "  \n",
       "  \"/>\n",
       "<polyline clip-path=\"url(#clip912)\" style=\"stroke:#e26f46; stroke-linecap:butt; stroke-linejoin:round; stroke-width:4; stroke-opacity:1; fill:none\" points=\"\n",
       "  175.59,1405.39 196.941,1392.36 218.292,1379.35 239.643,1366.35 260.994,1353.37 282.345,1340.41 303.696,1327.46 325.047,1314.52 346.398,1301.59 367.749,1288.67 \n",
       "  389.1,1275.77 410.451,1262.88 431.802,1250 453.153,1237.13 474.504,1224.26 495.855,1211.41 517.207,1198.57 538.558,1185.73 559.909,1172.91 581.26,1160.09 \n",
       "  602.611,1147.28 623.962,1134.48 645.313,1121.69 666.664,1108.9 688.015,1096.12 709.366,1083.34 730.717,1070.58 752.068,1057.82 773.419,1045.06 794.77,1032.32 \n",
       "  816.121,1019.57 837.472,1006.84 858.823,994.108 880.174,981.383 901.525,968.663 922.876,955.948 944.227,943.239 965.578,930.534 986.93,917.835 1008.28,905.139 \n",
       "  1029.63,892.449 1050.98,879.763 1072.33,867.081 1093.68,854.404 1115.04,841.731 1136.39,829.062 1157.74,816.397 1179.09,803.736 1200.44,791.078 1221.79,778.425 \n",
       "  1243.14,765.775 1264.49,753.129 1285.84,740.486 1307.2,727.847 1328.55,715.211 1349.9,702.578 1371.25,689.949 1392.6,677.323 1413.95,664.7 1435.3,652.08 \n",
       "  1456.65,639.463 1478,626.849 1499.35,614.238 1520.71,601.63 1542.06,589.025 1563.41,576.422 1584.76,563.822 1606.11,551.225 1627.46,538.631 1648.81,526.039 \n",
       "  1670.16,513.449 1691.51,500.862 1712.87,488.278 1734.22,475.696 1755.57,463.116 1776.92,450.539 1798.27,437.964 1819.62,425.391 1840.97,412.821 1862.32,400.252 \n",
       "  1883.67,387.686 1905.02,375.122 1926.38,362.56 1947.73,350 1969.08,337.443 1990.43,324.887 2011.78,312.333 2033.13,299.781 2054.48,287.231 2075.83,274.683 \n",
       "  2097.18,262.137 2118.53,249.593 2139.89,237.05 2161.24,224.509 2182.59,211.971 2203.94,199.433 2225.29,186.898 2246.64,174.364 2267.99,161.832 2289.34,149.302 \n",
       "  \n",
       "  \"/>\n",
       "<path clip-path=\"url(#clip910)\" d=\"\n",
       "M1767.52 1438.47 L2278.07 1438.47 L2278.07 1282.95 L1767.52 1282.95  Z\n",
       "  \" fill=\"#ffffff\" fill-rule=\"evenodd\" fill-opacity=\"1\"/>\n",
       "<polyline clip-path=\"url(#clip910)\" style=\"stroke:#000000; stroke-linecap:butt; stroke-linejoin:round; stroke-width:4; stroke-opacity:1; fill:none\" points=\"\n",
       "  1767.52,1438.47 2278.07,1438.47 2278.07,1282.95 1767.52,1282.95 1767.52,1438.47 \n",
       "  \"/>\n",
       "<polyline clip-path=\"url(#clip910)\" style=\"stroke:#009af9; stroke-linecap:butt; stroke-linejoin:round; stroke-width:4; stroke-opacity:1; fill:none\" points=\"\n",
       "  1792.42,1334.79 1941.79,1334.79 \n",
       "  \"/>\n",
       "<path clip-path=\"url(#clip910)\" d=\"M1982.29 1321.59 L1970.48 1340.04 L1982.29 1340.04 L1982.29 1321.59 M1981.06 1317.51 L1986.94 1317.51 L1986.94 1340.04 L1991.87 1340.04 L1991.87 1343.93 L1986.94 1343.93 L1986.94 1352.07 L1982.29 1352.07 L1982.29 1343.93 L1966.68 1343.93 L1966.68 1339.41 L1981.06 1317.51 Z\" fill=\"#000000\" fill-rule=\"evenodd\" fill-opacity=\"1\" /><path clip-path=\"url(#clip910)\" d=\"M1999.65 1317.51 L2018 1317.51 L2018 1321.45 L2003.93 1321.45 L2003.93 1329.92 Q2004.95 1329.57 2005.97 1329.41 Q2006.98 1329.23 2008 1329.23 Q2013.79 1329.23 2017.17 1332.4 Q2020.55 1335.57 2020.55 1340.99 Q2020.55 1346.57 2017.08 1349.67 Q2013.6 1352.75 2007.29 1352.75 Q2005.11 1352.75 2002.84 1352.38 Q2000.6 1352 1998.19 1351.26 L1998.19 1346.57 Q2000.27 1347.7 2002.49 1348.25 Q2004.72 1348.81 2007.19 1348.81 Q2011.2 1348.81 2013.54 1346.7 Q2015.87 1344.6 2015.87 1340.99 Q2015.87 1337.38 2013.54 1335.27 Q2011.2 1333.16 2007.19 1333.16 Q2005.32 1333.16 2003.44 1333.58 Q2001.59 1334 1999.65 1334.88 L1999.65 1317.51 Z\" fill=\"#000000\" fill-rule=\"evenodd\" fill-opacity=\"1\" /><path clip-path=\"url(#clip910)\" d=\"M2061.29 1330.08 L2061.29 1316.06 L2065.55 1316.06 L2065.55 1352.07 L2061.29 1352.07 L2061.29 1348.19 Q2059.95 1350.5 2057.89 1351.63 Q2055.85 1352.75 2052.98 1352.75 Q2048.28 1352.75 2045.32 1349 Q2042.38 1345.25 2042.38 1339.13 Q2042.38 1333.02 2045.32 1329.27 Q2048.28 1325.52 2052.98 1325.52 Q2055.85 1325.52 2057.89 1326.66 Q2059.95 1327.77 2061.29 1330.08 M2046.78 1339.13 Q2046.78 1343.83 2048.7 1346.52 Q2050.64 1349.18 2054.02 1349.18 Q2057.4 1349.18 2059.35 1346.52 Q2061.29 1343.83 2061.29 1339.13 Q2061.29 1334.44 2059.35 1331.77 Q2057.4 1329.09 2054.02 1329.09 Q2050.64 1329.09 2048.7 1331.77 Q2046.78 1334.44 2046.78 1339.13 Z\" fill=\"#000000\" fill-rule=\"evenodd\" fill-opacity=\"1\" /><path clip-path=\"url(#clip910)\" d=\"M2096.5 1338.05 L2096.5 1340.13 L2076.91 1340.13 Q2077.19 1344.53 2079.55 1346.84 Q2081.94 1349.13 2086.17 1349.13 Q2088.63 1349.13 2090.92 1348.53 Q2093.23 1347.93 2095.5 1346.73 L2095.5 1350.75 Q2093.21 1351.73 2090.8 1352.24 Q2088.4 1352.75 2085.92 1352.75 Q2079.72 1352.75 2076.08 1349.13 Q2072.47 1345.52 2072.47 1339.37 Q2072.47 1333 2075.9 1329.27 Q2079.34 1325.52 2085.18 1325.52 Q2090.41 1325.52 2093.44 1328.9 Q2096.5 1332.26 2096.5 1338.05 M2092.24 1336.8 Q2092.19 1333.3 2090.27 1331.22 Q2088.37 1329.13 2085.22 1329.13 Q2081.66 1329.13 2079.51 1331.15 Q2077.38 1333.16 2077.05 1336.82 L2092.24 1336.8 Z\" fill=\"#000000\" fill-rule=\"evenodd\" fill-opacity=\"1\" /><path clip-path=\"url(#clip910)\" d=\"M2120.55 1338.81 Q2120.55 1334.18 2118.63 1331.63 Q2116.73 1329.09 2113.28 1329.09 Q2109.85 1329.09 2107.93 1331.63 Q2106.03 1334.18 2106.03 1338.81 Q2106.03 1343.42 2107.93 1345.96 Q2109.85 1348.51 2113.28 1348.51 Q2116.73 1348.51 2118.63 1345.96 Q2120.55 1343.42 2120.55 1338.81 M2124.81 1348.86 Q2124.81 1355.48 2121.87 1358.69 Q2118.93 1361.94 2112.86 1361.94 Q2110.62 1361.94 2108.63 1361.59 Q2106.64 1361.26 2104.76 1360.57 L2104.76 1356.43 Q2106.64 1357.44 2108.47 1357.93 Q2110.29 1358.42 2112.19 1358.42 Q2116.38 1358.42 2118.47 1356.22 Q2120.55 1354.04 2120.55 1349.62 L2120.55 1347.51 Q2119.23 1349.81 2117.17 1350.94 Q2115.11 1352.07 2112.24 1352.07 Q2107.47 1352.07 2104.55 1348.44 Q2101.64 1344.81 2101.64 1338.81 Q2101.64 1332.79 2104.55 1329.16 Q2107.47 1325.52 2112.24 1325.52 Q2115.11 1325.52 2117.17 1326.66 Q2119.23 1327.79 2120.55 1330.08 L2120.55 1326.15 L2124.81 1326.15 L2124.81 1348.86 Z\" fill=\"#000000\" fill-rule=\"evenodd\" fill-opacity=\"1\" /><path clip-path=\"url(#clip910)\" d=\"M2148.6 1330.13 Q2147.89 1329.71 2147.03 1329.53 Q2146.2 1329.32 2145.18 1329.32 Q2141.57 1329.32 2139.62 1331.68 Q2137.7 1334.02 2137.7 1338.42 L2137.7 1352.07 L2133.42 1352.07 L2133.42 1326.15 L2137.7 1326.15 L2137.7 1330.18 Q2139.04 1327.82 2141.2 1326.68 Q2143.35 1325.52 2146.43 1325.52 Q2146.87 1325.52 2147.4 1325.59 Q2147.93 1325.64 2148.58 1325.76 L2148.6 1330.13 Z\" fill=\"#000000\" fill-rule=\"evenodd\" fill-opacity=\"1\" /><path clip-path=\"url(#clip910)\" d=\"M2174.21 1338.05 L2174.21 1340.13 L2154.62 1340.13 Q2154.9 1344.53 2157.26 1346.84 Q2159.65 1349.13 2163.88 1349.13 Q2166.34 1349.13 2168.63 1348.53 Q2170.94 1347.93 2173.21 1346.73 L2173.21 1350.75 Q2170.92 1351.73 2168.51 1352.24 Q2166.1 1352.75 2163.63 1352.75 Q2157.42 1352.75 2153.79 1349.13 Q2150.18 1345.52 2150.18 1339.37 Q2150.18 1333 2153.6 1329.27 Q2157.05 1325.52 2162.89 1325.52 Q2168.12 1325.52 2171.15 1328.9 Q2174.21 1332.26 2174.21 1338.05 M2169.95 1336.8 Q2169.9 1333.3 2167.98 1331.22 Q2166.08 1329.13 2162.93 1329.13 Q2159.37 1329.13 2157.21 1331.15 Q2155.09 1333.16 2154.76 1336.82 L2169.95 1336.8 Z\" fill=\"#000000\" fill-rule=\"evenodd\" fill-opacity=\"1\" /><path clip-path=\"url(#clip910)\" d=\"M2203.37 1338.05 L2203.37 1340.13 L2183.79 1340.13 Q2184.07 1344.53 2186.43 1346.84 Q2188.81 1349.13 2193.05 1349.13 Q2195.5 1349.13 2197.79 1348.53 Q2200.11 1347.93 2202.38 1346.73 L2202.38 1350.75 Q2200.09 1351.73 2197.68 1352.24 Q2195.27 1352.75 2192.79 1352.75 Q2186.59 1352.75 2182.96 1349.13 Q2179.34 1345.52 2179.34 1339.37 Q2179.34 1333 2182.77 1329.27 Q2186.22 1325.52 2192.05 1325.52 Q2197.28 1325.52 2200.32 1328.9 Q2203.37 1332.26 2203.37 1338.05 M2199.11 1336.8 Q2199.07 1333.3 2197.15 1331.22 Q2195.25 1329.13 2192.1 1329.13 Q2188.53 1329.13 2186.38 1331.15 Q2184.25 1333.16 2183.93 1336.82 L2199.11 1336.8 Z\" fill=\"#000000\" fill-rule=\"evenodd\" fill-opacity=\"1\" /><path clip-path=\"url(#clip910)\" d=\"M2226.89 1326.91 L2226.89 1330.94 Q2225.08 1330.01 2223.14 1329.55 Q2221.2 1329.09 2219.11 1329.09 Q2215.94 1329.09 2214.34 1330.06 Q2212.77 1331.03 2212.77 1332.98 Q2212.77 1334.46 2213.9 1335.32 Q2215.04 1336.15 2218.46 1336.91 L2219.92 1337.24 Q2224.46 1338.21 2226.36 1339.99 Q2228.28 1341.75 2228.28 1344.92 Q2228.28 1348.53 2225.41 1350.64 Q2222.56 1352.75 2217.56 1352.75 Q2215.48 1352.75 2213.21 1352.33 Q2210.96 1351.94 2208.46 1351.13 L2208.46 1346.73 Q2210.83 1347.95 2213.12 1348.58 Q2215.41 1349.18 2217.65 1349.18 Q2220.66 1349.18 2222.28 1348.16 Q2223.9 1347.12 2223.9 1345.25 Q2223.9 1343.51 2222.72 1342.58 Q2221.57 1341.66 2217.61 1340.8 L2216.13 1340.45 Q2212.17 1339.62 2210.41 1337.91 Q2208.65 1336.17 2208.65 1333.16 Q2208.65 1329.51 2211.24 1327.51 Q2213.83 1325.52 2218.6 1325.52 Q2220.96 1325.52 2223.05 1325.87 Q2225.13 1326.22 2226.89 1326.91 Z\" fill=\"#000000\" fill-rule=\"evenodd\" fill-opacity=\"1\" /><polyline clip-path=\"url(#clip910)\" style=\"stroke:#e26f46; stroke-linecap:butt; stroke-linejoin:round; stroke-width:4; stroke-opacity:1; fill:none\" points=\"\n",
       "  1792.42,1386.63 1941.79,1386.63 \n",
       "  \"/>\n",
       "<path clip-path=\"url(#clip910)\" d=\"M1983.19 1367.9 L1983.19 1371.44 L1979.11 1371.44 Q1976.82 1371.44 1975.92 1372.36 Q1975.04 1373.29 1975.04 1375.7 L1975.04 1377.99 L1982.05 1377.99 L1982.05 1381.3 L1975.04 1381.3 L1975.04 1403.91 L1970.76 1403.91 L1970.76 1381.3 L1966.68 1381.3 L1966.68 1377.99 L1970.76 1377.99 L1970.76 1376.18 Q1970.76 1371.85 1972.77 1369.89 Q1974.79 1367.9 1979.16 1367.9 L1983.19 1367.9 Z\" fill=\"#000000\" fill-rule=\"evenodd\" fill-opacity=\"1\" /><path clip-path=\"url(#clip910)\" d=\"M1996.98 1367.94 Q1993.88 1373.27 1992.38 1378.47 Q1990.87 1383.68 1990.87 1389.03 Q1990.87 1394.38 1992.38 1399.63 Q1993.91 1404.86 1996.98 1410.16 L1993.28 1410.16 Q1989.81 1404.72 1988.07 1399.47 Q1986.36 1394.22 1986.36 1389.03 Q1986.36 1383.87 1988.07 1378.64 Q1989.79 1373.41 1993.28 1367.94 L1996.98 1367.94 Z\" fill=\"#000000\" fill-rule=\"evenodd\" fill-opacity=\"1\" /><path clip-path=\"url(#clip910)\" d=\"M2005.09 1367.9 L2009.37 1367.9 L2009.37 1389.17 L2022.08 1377.99 L2027.52 1377.99 L2013.77 1390.12 L2028.1 1403.91 L2022.54 1403.91 L2009.37 1391.25 L2009.37 1403.91 L2005.09 1403.91 L2005.09 1367.9 Z\" fill=\"#000000\" fill-rule=\"evenodd\" fill-opacity=\"1\" /><path clip-path=\"url(#clip910)\" d=\"M2032.03 1367.94 L2035.73 1367.94 Q2039.21 1373.41 2040.92 1378.64 Q2042.66 1383.87 2042.66 1389.03 Q2042.66 1394.22 2040.92 1399.47 Q2039.21 1404.72 2035.73 1410.16 L2032.03 1410.16 Q2035.11 1404.86 2036.61 1399.63 Q2038.14 1394.38 2038.14 1389.03 Q2038.14 1383.68 2036.61 1378.47 Q2035.11 1373.27 2032.03 1367.94 Z\" fill=\"#000000\" fill-rule=\"evenodd\" fill-opacity=\"1\" /><path clip-path=\"url(#clip910)\" d=\"M2066.82 1382.39 L2096.5 1382.39 L2096.5 1386.28 L2066.82 1386.28 L2066.82 1382.39 M2066.82 1391.83 L2096.5 1391.83 L2096.5 1395.77 L2066.82 1395.77 L2066.82 1391.83 Z\" fill=\"#000000\" fill-rule=\"evenodd\" fill-opacity=\"1\" /><path clip-path=\"url(#clip910)\" d=\"M2120.9 1367.9 L2125.18 1367.9 L2125.18 1389.17 L2137.89 1377.99 L2143.33 1377.99 L2129.58 1390.12 L2143.9 1403.91 L2138.35 1403.91 L2125.18 1391.25 L2125.18 1403.91 L2120.9 1403.91 L2120.9 1367.9 Z\" fill=\"#000000\" fill-rule=\"evenodd\" fill-opacity=\"1\" /><path clip-path=\"url(#clip910)\" d=\"M2159.11 1372.43 Q2155.5 1372.43 2153.67 1376 Q2151.87 1379.54 2151.87 1386.67 Q2151.87 1393.78 2153.67 1397.34 Q2155.5 1400.88 2159.11 1400.88 Q2162.75 1400.88 2164.55 1397.34 Q2166.38 1393.78 2166.38 1386.67 Q2166.38 1379.54 2164.55 1376 Q2162.75 1372.43 2159.11 1372.43 M2159.11 1368.73 Q2164.92 1368.73 2167.98 1373.34 Q2171.06 1377.92 2171.06 1386.67 Q2171.06 1395.4 2167.98 1400 Q2164.92 1404.59 2159.11 1404.59 Q2153.3 1404.59 2150.22 1400 Q2147.17 1395.4 2147.17 1386.67 Q2147.17 1377.92 2150.22 1373.34 Q2153.3 1368.73 2159.11 1368.73 Z\" fill=\"#000000\" fill-rule=\"evenodd\" fill-opacity=\"1\" /></svg>\n"
      ]
     },
     "metadata": {},
     "output_type": "display_data"
    }
   ],
   "source": [
    "kvec = range(1, 4; length=100);\n",
    "fvec = [f(k, p) for k in kvec];\n",
    "pl = Plots.plot(legend=:bottomright)\n",
    "plot!(pl, kvec, kvec, label=\"45 degrees\")\n",
    "plot!(pl, kvec, fvec, label=\"f(k) = k0\")"
   ]
  },
  {
   "cell_type": "code",
   "execution_count": 24,
   "metadata": {},
   "outputs": [
    {
     "data": {
      "text/plain": [
       "df (generic function with 1 method)"
      ]
     },
     "metadata": {},
     "output_type": "display_data"
    }
   ],
   "source": [
    "function df(k0, p::Dict{Symbol, Float64})\n",
    "    dy0 = p[:α]*k0^(p[:α] - 1)\n",
    "    di0 = p[:s]*dy0\n",
    "    dk1 = ((1 - p[:δ]) + di0) / (p[:g])\n",
    "    return dk1\n",
    "end"
   ]
  },
  {
   "cell_type": "code",
   "execution_count": 28,
   "metadata": {},
   "outputs": [
    {
     "data": {
      "text/plain": [
       "0.923767723171523"
      ]
     },
     "metadata": {},
     "output_type": "display_data"
    }
   ],
   "source": [
    "kbar = steady_state(f, p);\n",
    "df(kbar, p)"
   ]
  },
  {
   "cell_type": "markdown",
   "metadata": {},
   "source": [
    "It therefore seems that the equilibrium is a stable one."
   ]
  },
  {
   "cell_type": "markdown",
   "metadata": {},
   "source": [
    "__Compute the steady-state directly using a Newton method and compare convergence speed.__"
   ]
  },
  {
   "cell_type": "code",
   "execution_count": 30,
   "metadata": {},
   "outputs": [
    {
     "name": "stderr",
     "output_type": "stream",
     "text": [
      "\u001b[32m\u001b[1m   Resolving\u001b[22m\u001b[39m package versions...\n",
      "\u001b[32m\u001b[1m   Installed\u001b[22m\u001b[39m CommonSolve ────── v0.2.0\n",
      "\u001b[32m\u001b[1m   Installed\u001b[22m\u001b[39m ConstructionBase ─ v1.3.0\n",
      "\u001b[32m\u001b[1m   Installed\u001b[22m\u001b[39m Setfield ───────── v0.8.2\n",
      "\u001b[32m\u001b[1m   Installed\u001b[22m\u001b[39m Roots ──────────── v2.0.0\n",
      "\u001b[32m\u001b[1m    Updating\u001b[22m\u001b[39m `C:\\Users\\tress\\.julia\\environments\\v1.7\\Project.toml`\n",
      " \u001b[90m [f2b01f46] \u001b[39m\u001b[92m+ Roots v2.0.0\u001b[39m\n",
      "\u001b[32m\u001b[1m    Updating\u001b[22m\u001b[39m `C:\\Users\\tress\\.julia\\environments\\v1.7\\Manifest.toml`\n",
      " \u001b[90m [38540f10] \u001b[39m\u001b[92m+ CommonSolve v0.2.0\u001b[39m\n",
      " \u001b[90m [187b0558] \u001b[39m\u001b[92m+ ConstructionBase v1.3.0\u001b[39m\n",
      " \u001b[90m [f2b01f46] \u001b[39m\u001b[92m+ Roots v2.0.0\u001b[39m\n",
      " \u001b[90m [efcf1570] \u001b[39m\u001b[92m+ Setfield v0.8.2\u001b[39m\n",
      " \u001b[90m [9fa8497b] \u001b[39m\u001b[92m+ Future\u001b[39m\n",
      "\u001b[32m\u001b[1mPrecompiling\u001b[22m\u001b[39m project...\n",
      "\u001b[32m  ✓ \u001b[39m\u001b[90mCommonSolve\u001b[39m\n",
      "\u001b[32m  ✓ \u001b[39m\u001b[90mConstructionBase\u001b[39m\n",
      "\u001b[32m  ✓ \u001b[39m\u001b[90mSetfield\u001b[39m\n",
      "\u001b[32m  ✓ \u001b[39mRoots\n",
      "  4 dependencies successfully precompiled in 11 seconds (128 already precompiled)\n"
     ]
    }
   ],
   "source": [
    "import Pkg; Pkg.add(\"Roots\")\n",
    "\n",
    "using Roots"
   ]
  },
  {
   "cell_type": "code",
   "execution_count": 37,
   "metadata": {},
   "outputs": [
    {
     "data": {
      "text/plain": [
       "f_root (generic function with 1 method)"
      ]
     },
     "metadata": {},
     "output_type": "display_data"
    }
   ],
   "source": [
    "function f_root(k0)\n",
    "    p = Dict(\n",
    "    :α=>0.3,\n",
    "    :β=>0.96,\n",
    "    :δ=>0.1,\n",
    "    :g=>1.01,\n",
    "    :s=>0.2\n",
    "    )\n",
    "    y0 = k0^p[:α]\n",
    "    i0 = p[:s]*y0\n",
    "    k1 = (k0*(1 - p[:δ]) + i0) / (p[:g])\n",
    "    return k1 - k0\n",
    "end"
   ]
  },
  {
   "cell_type": "code",
   "execution_count": 38,
   "metadata": {},
   "outputs": [
    {
     "data": {
      "text/plain": [
       "2.349148350013764"
      ]
     },
     "metadata": {},
     "output_type": "display_data"
    }
   ],
   "source": [
    "find_zero(f_root, 2.4)"
   ]
  },
  {
   "cell_type": "markdown",
   "metadata": {},
   "source": [
    "__Suppose one tries to maximize steady-state consumption by choosing saving rate $s$. Which value would one choose?__"
   ]
  },
  {
   "cell_type": "code",
   "execution_count": null,
   "metadata": {},
   "outputs": [],
   "source": []
  },
  {
   "cell_type": "markdown",
   "metadata": {},
   "source": [
    "__(Bonus) Suppose an agent is given the intertemporal utility from the Ramsey–Cass–Koopmans model but chooses saving rate once for all. Which saving rate would one choose? Is it the same for all initial levels of capital?__\n",
    "\n"
   ]
  },
  {
   "cell_type": "code",
   "execution_count": null,
   "metadata": {},
   "outputs": [],
   "source": []
  }
 ],
 "metadata": {
  "kernelspec": {
   "display_name": "Julia 1.7.2",
   "language": "julia",
   "name": "julia-1.7"
  },
  "language_info": {
   "file_extension": ".jl",
   "mimetype": "application/julia",
   "name": "julia",
   "version": "1.7.2"
  }
 },
 "nbformat": 4,
 "nbformat_minor": 4
}
